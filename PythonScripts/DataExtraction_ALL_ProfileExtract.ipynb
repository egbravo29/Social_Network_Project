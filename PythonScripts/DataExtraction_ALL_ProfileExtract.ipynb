{
 "cells": [
  {
   "cell_type": "code",
   "execution_count": 1,
   "id": "d3839839",
   "metadata": {},
   "outputs": [],
   "source": [
    "import pandas as pd\n",
    "import datetime"
   ]
  },
  {
   "cell_type": "code",
   "execution_count": 2,
   "id": "d430f694",
   "metadata": {},
   "outputs": [],
   "source": [
    "import os"
   ]
  },
  {
   "cell_type": "code",
   "execution_count": 3,
   "id": "d2d24862",
   "metadata": {},
   "outputs": [],
   "source": [
    "df1 = pd.read_excel('C:/Users/Esteban Guerrero/SocialNetworkProject/Iteration2/Datasets/MasterDataExtract.xlsx', dtype = object)"
   ]
  },
  {
   "cell_type": "code",
   "execution_count": 4,
   "id": "18afef94",
   "metadata": {},
   "outputs": [],
   "source": [
    "Plattform = df1.Plattform.sort_values().drop_duplicates().values.tolist()"
   ]
  },
  {
   "cell_type": "code",
   "execution_count": 5,
   "id": "ef601860",
   "metadata": {},
   "outputs": [],
   "source": [
    "os. chdir('C:/Users/Esteban Guerrero/SocialNetworkProject/Iteration2/PythonScripts')\n",
    "%run ./DataExtraction_YT_ProfileExtract.ipynb"
   ]
  },
  {
   "cell_type": "code",
   "execution_count": 6,
   "id": "c69ad225",
   "metadata": {},
   "outputs": [],
   "source": [
    "os. chdir('C:/Users/Esteban Guerrero/SocialNetworkProject/Iteration2/PythonScripts')\n",
    "%run ./DataExtraction_TW_ProfileExtract.ipynb"
   ]
  },
  {
   "cell_type": "code",
   "execution_count": 7,
   "id": "1b9cdeb4",
   "metadata": {},
   "outputs": [],
   "source": [
    "os. chdir('C:/Users/Esteban Guerrero/SocialNetworkProject/Iteration2/PythonScripts')\n",
    "%run ./DataProcessing_PrepareOutputIntoDF.ipynb"
   ]
  },
  {
   "cell_type": "code",
   "execution_count": 8,
   "id": "244e8575",
   "metadata": {},
   "outputs": [
    {
     "name": "stdout",
     "output_type": "stream",
     "text": [
      "*** Facebook \n",
      "start\t 2021-08-02 12:38:33.970164\n",
      "end\t 2021-08-02 12:38:33.976163\n",
      "*** Instagram \n",
      "start\t 2021-08-02 12:38:33.976163\n",
      "end\t 2021-08-02 12:40:13.046381\n",
      "*** TikTok \n",
      "start\t 2021-08-02 12:40:13.046381\n",
      "end\t 2021-08-02 12:40:13.048386\n",
      "*** Twitter \n",
      "start\t 2021-08-02 12:40:13.049385\n",
      "end\t 2021-08-02 12:40:24.620926\n",
      "*** YouTube \n",
      "start\t 2021-08-02 12:40:24.621925\n",
      "end\t 2021-08-02 12:40:25.266599\n"
     ]
    }
   ],
   "source": [
    "outputDF = pd.DataFrame()\n",
    "for pl in Plattform:\n",
    "\n",
    "    print('***', pl, '\\nstart\\t', datetime.now())\n",
    "    \n",
    "    df2 = df1[(df1.KeySearchType == 'ProfileID') & (df1.Plattform == pl) & (df1.KeySearch.notna())]\n",
    "    \n",
    "    if pl == 'YouTube':\n",
    "        df3 = df2[df2.Plattform == 'YouTube']\n",
    "        chL = df3.KeySearch.values.tolist()\n",
    "        userL = df3.Alias.values.tolist()\n",
    "        outputYTdf = YTProfileIDFunct(chL, userL)\n",
    "        outYTDF = PrepareOutputDF('K1', outputYTdf, 'Automatic', 'ProfileID-YouTube')\n",
    "    \n",
    "    if pl == 'Twitter':\n",
    "        df4 = df2[df2.Plattform == 'Twitter']\n",
    "        twuL = df4.KeySearch.values.tolist()\n",
    "        twaliasL = df4.Alias.values.tolist()\n",
    "        outputTWdf = TWProfileIDFunct(twuL, twaliasL)\n",
    "        outTWDF = PrepareOutputDF('K1', outputTWdf, 'Automatic', 'ProfileID-Twitter')\n",
    "        \n",
    "    if pl == 'Instagram':\n",
    "        \n",
    "        df5 = df2[df2.Plattform == 'Instagram']\n",
    "        insUL = df5.KeySearch.values.tolist()\n",
    "        insaliasL = df5.Alias.values.tolist()\n",
    "        \n",
    "        os. chdir('C:/Users/Esteban Guerrero/SocialNetworkProject/Iteration2/PythonScripts')\n",
    "        %run ./DataExtraction_INS_ProfileExtract.ipynb\n",
    "\n",
    "        insUL = df5.KeySearch.values.tolist()\n",
    "        insaliasL = df5.Alias.values.tolist()\n",
    "        outINSDF = INSProfileIDFunct(insUL, insaliasL)\n",
    "        \n",
    "    print('end\\t', datetime.now())"
   ]
  },
  {
   "cell_type": "code",
   "execution_count": 9,
   "id": "b11a6f92",
   "metadata": {},
   "outputs": [],
   "source": [
    "outputDF = outputDF.append([outYTDF, outTWDF, outINSDF], ignore_index = True)\n",
    "#outputDF = outputDF.append([outYTDF, outTWDF], ignore_index = True)"
   ]
  },
  {
   "cell_type": "code",
   "execution_count": 10,
   "id": "c1758ed4",
   "metadata": {},
   "outputs": [],
   "source": [
    "DF = pd.read_csv('C:/Users/Esteban Guerrero/SocialNetworkProject/Iteration2/Datasets/NetworkFeedRawOutput.csv', index_col = False, encoding = 'ISO-8859-1')\n",
    "DF = DF.append(outputDF, ignore_index = True)\n",
    "\n",
    "DF.to_csv('C:/Users/Esteban Guerrero/SocialNetworkProject/Iteration2/Datasets/NetworkFeedRawOutput.csv', index = False)"
   ]
  }
 ],
 "metadata": {
  "kernelspec": {
   "display_name": "Python 3",
   "language": "python",
   "name": "python3"
  },
  "language_info": {
   "codemirror_mode": {
    "name": "ipython",
    "version": 3
   },
   "file_extension": ".py",
   "mimetype": "text/x-python",
   "name": "python",
   "nbconvert_exporter": "python",
   "pygments_lexer": "ipython3",
   "version": "3.8.8"
  }
 },
 "nbformat": 4,
 "nbformat_minor": 5
}

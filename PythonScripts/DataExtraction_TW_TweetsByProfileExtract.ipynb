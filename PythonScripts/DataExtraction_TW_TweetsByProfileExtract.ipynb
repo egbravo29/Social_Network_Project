{
 "cells": [
  {
   "cell_type": "code",
   "execution_count": 1,
   "id": "47db3b95",
   "metadata": {},
   "outputs": [],
   "source": [
    "import tweepy\n",
    "from tweepy import OAuthHandler\n",
    "import time\n",
    "from datetime import datetime, timezone\n",
    "from time import gmtime, strftime\n",
    "import json\n",
    "import pandas as pd\n",
    "import os"
   ]
  },
  {
   "cell_type": "code",
   "execution_count": 2,
   "id": "026277b6",
   "metadata": {},
   "outputs": [],
   "source": [
    "# Obtain list of Twitter profile IDs\n",
    "df1 = pd.read_excel('C:/Users/Esteban Guerrero/SocialNetworkProject/Iteration2/Datasets/MasterDataExtract.xlsx', dtype = object)\n",
    "df1 = df1[(df1.Plattform == 'Twitter') & (df1.KeySearchType == 'ProfileID')]\n",
    "TWProfileList = df1.KeySearch.values.tolist()\n",
    "TWAliasList = df1.Alias.values.tolist()"
   ]
  },
  {
   "cell_type": "code",
   "execution_count": 3,
   "id": "fde6e7ca",
   "metadata": {},
   "outputs": [],
   "source": [
    "os. chdir('C:/Users/Esteban Guerrero/SocialNetworkProject/Iteration2/PythonScripts')\n",
    "%run ./DataProcessing_PrepareOutputIntoDF.ipynb"
   ]
  },
  {
   "cell_type": "code",
   "execution_count": 4,
   "id": "ec9a0f31",
   "metadata": {},
   "outputs": [],
   "source": [
    "os. chdir('C:/Users/Esteban Guerrero/SocialNetworkProject/Iteration2/PythonScripts')\n",
    "%run ./DataProcessing_TextPreparation.ipynb"
   ]
  },
  {
   "cell_type": "code",
   "execution_count": 5,
   "id": "80698ed5",
   "metadata": {},
   "outputs": [],
   "source": [
    "# Initialize Twitter API\n",
    "\n",
    "# Twitter credentials for the app\n",
    "consumer_key = 'consumer_key' # API Key\n",
    "consumer_secret = 'consumer_secret' # API Secret\n",
    "access_key = 'access_key' # Access token\n",
    "access_secret = 'access_secret' # Access secret token\n",
    "\n",
    "# Pass consumer key and secret\n",
    "auth = OAuthHandler(consumer_key, consumer_secret)\n",
    "\n",
    "# Pass twitter credentials to tweepy\n",
    "auth = tweepy.OAuthHandler(consumer_key, consumer_secret)\n",
    "auth.set_access_token(access_key, access_secret)\n",
    "apiTW = tweepy.API(auth)"
   ]
  },
  {
   "cell_type": "code",
   "execution_count": 6,
   "id": "20f6f478",
   "metadata": {},
   "outputs": [],
   "source": [
    "# Function to extract from API, tweets per profileID and return selected fields in dataframe form\n",
    "\n",
    "def TweetPerProfile(userID01, alias01):\n",
    "\n",
    "    tweetrepliesDF0 = pd.DataFrame()\n",
    "    tweetsList = []\n",
    "    j = 1\n",
    "\n",
    "    for tweet in tweepy.Cursor(apiTW.search, q = 'to:'+userID01, result_type = 'recent',\n",
    "                               timeout = 999999, tweet_mode = 'extended', exclude_replies = False,\n",
    "                               include_rts = True).items(1000):\n",
    "        tweetsList.append(tweet)\n",
    "        \n",
    "        if j % 100 == 0:\n",
    "            time.sleep(2)\n",
    "            j = j + 1\n",
    "        \n",
    "    \n",
    "    for twr in tweetsList:\n",
    "        twDict = json.loads(json.dumps(twr._json))\n",
    "        tweetreplyoutput = {'Output1': {'User': alias01, \n",
    "                                        'tweetContent': {'created_at': twDict.get('created_at'), \n",
    "                                                         'id_str': twDict.get('id_str'),\n",
    "                                                         'in_reply_to_status_id_str': twDict.get('in_reply_to_status_id_str'),\n",
    "                                                         'retweet_count': twDict.get('retweet_count'),\n",
    "                                                         'favorite_count': twDict.get('favorite_count'),\n",
    "                                                         'lang': twDict.get('lang'),\n",
    "                                                         'full_text': TextCleansing(twDict.get('full_text')),\n",
    "                                                         \n",
    "                                                         'userDict': {'id_str': twDict.get('user').get('id_str'), \n",
    "                                                                      'name': TextCleansing(twDict.get('user').get('name')), \n",
    "                                                                      'location': TextCleansing(twDict.get('user').get('location')), \n",
    "                                                                      'followers_count': twDict.get('user').get('followers_count'),\n",
    "                                                                      'friends_count': twDict.get('user').get('friends_count'),\n",
    "                                                                      'created_at': twDict.get('user').get('created_at')}}},\n",
    "                            'Key1': userID01, 'Key2': twDict.get('id_str')}\n",
    "\n",
    "        tweetrepliesDF0 = tweetrepliesDF0.append(tweetreplyoutput, ignore_index = True, sort = False)\n",
    "    \n",
    "    return tweetrepliesDF0"
   ]
  },
  {
   "cell_type": "code",
   "execution_count": 7,
   "id": "5e63c712",
   "metadata": {},
   "outputs": [
    {
     "name": "stdout",
     "output_type": "stream",
     "text": [
      "*** JMilei \n",
      "start\t 2021-08-02 16:15:38.743954\n",
      "end\t 2021-08-02 16:16:41.874276\n",
      "*** jlespert \n",
      "start\t 2021-08-02 16:17:41.887633\n",
      "end\t 2021-08-02 16:18:40.961734\n",
      "*** LibertarioCABA \n",
      "start\t 2021-08-02 16:19:40.969272\n",
      "end\t 2021-08-02 16:19:51.552765\n"
     ]
    }
   ],
   "source": [
    "i = 0\n",
    "tweetDF = pd.DataFrame()\n",
    "tweetIDLAll = []\n",
    "for TWProfile in TWProfileList:\n",
    "    print('***', TWProfile, '\\nstart\\t', datetime.now())\n",
    "    tweetoutputDF = TweetPerProfile(TWProfile, TWAliasList[i])\n",
    "    tweetDF = tweetDF.append(tweetoutputDF, ignore_index=True, sort = False)\n",
    "    i = i + 1\n",
    "    print('end\\t', datetime.now())\n",
    "    time.sleep(60)"
   ]
  },
  {
   "cell_type": "code",
   "execution_count": 8,
   "id": "a75d96a7",
   "metadata": {},
   "outputs": [],
   "source": [
    "tweetDF = PrepareOutputDF('K12', tweetDF, 'Automatic', 'TweetsPerUser-Twitter')"
   ]
  },
  {
   "cell_type": "code",
   "execution_count": 9,
   "id": "61b1586f",
   "metadata": {},
   "outputs": [],
   "source": [
    "DF = pd.read_csv('C:/Users/Esteban Guerrero/SocialNetworkProject/Iteration2/Datasets/NetworkFeedRawOutput.csv', index_col = False, encoding = 'ISO-8859-1')\n",
    "DF = DF.append(tweetDF, ignore_index = True)\n",
    "DF.to_csv('C:/Users/Esteban Guerrero/SocialNetworkProject/Iteration2/Datasets/NetworkFeedRawOutput.csv', index = False)"
   ]
  }
 ],
 "metadata": {
  "kernelspec": {
   "display_name": "Python 3",
   "language": "python",
   "name": "python3"
  },
  "language_info": {
   "codemirror_mode": {
    "name": "ipython",
    "version": 3
   },
   "file_extension": ".py",
   "mimetype": "text/x-python",
   "name": "python",
   "nbconvert_exporter": "python",
   "pygments_lexer": "ipython3",
   "version": "3.8.8"
  }
 },
 "nbformat": 4,
 "nbformat_minor": 5
}

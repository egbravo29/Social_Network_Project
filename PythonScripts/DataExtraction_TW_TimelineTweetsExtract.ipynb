{
 "cells": [
  {
   "cell_type": "code",
   "execution_count": 1,
   "id": "82f1212b",
   "metadata": {},
   "outputs": [],
   "source": [
    "import tweepy\n",
    "from tweepy import OAuthHandler\n",
    "from datetime import datetime, timezone\n",
    "from time import gmtime, strftime\n",
    "import json\n",
    "import pandas as pd\n",
    "import os"
   ]
  },
  {
   "cell_type": "code",
   "execution_count": 2,
   "id": "dba81cd3",
   "metadata": {},
   "outputs": [],
   "source": [
    "# Obtain list of Twitter profile IDs\n",
    "df1 = pd.read_excel('C:/Users/Esteban Guerrero/SocialNetworkProject/Iteration2/Datasets/MasterDataExtract.xlsx', dtype = object)\n",
    "df1 = df1[(df1.Plattform == 'Twitter') & (df1.KeySearchType == 'ProfileID')]\n",
    "TWProfileList = df1.KeySearch.values.tolist()\n",
    "TWAliasList = df1.Alias.values.tolist()"
   ]
  },
  {
   "cell_type": "code",
   "execution_count": 3,
   "id": "f456e279",
   "metadata": {},
   "outputs": [],
   "source": [
    "os. chdir('C:/Users/Esteban Guerrero/SocialNetworkProject/Iteration2/PythonScripts')\n",
    "%run ./DataProcessing_PrepareOutputIntoDF.ipynb"
   ]
  },
  {
   "cell_type": "code",
   "execution_count": 4,
   "id": "82a20c43",
   "metadata": {},
   "outputs": [],
   "source": [
    "os. chdir('C:/Users/Esteban Guerrero/SocialNetworkProject/Iteration2/PythonScripts')\n",
    "%run ./DataProcessing_TextPreparation.ipynb"
   ]
  },
  {
   "cell_type": "code",
   "execution_count": 5,
   "id": "1eb58878",
   "metadata": {},
   "outputs": [],
   "source": [
    "# Initialize Twitter API\n",
    "\n",
    "# Twitter credentials for the app\n",
    "consumer_key = 'm76rfbK1tEj7144DwucIlR6wL' # API Key\n",
    "consumer_secret = 'usfrIh8AcSTflRqeu3i8o9aM00z8oYgWmdxqwPiGnUlgXXWnhn' # API Secret\n",
    "access_key = '1372223137-Tgv2wNgQSMIbJh5wxlMb3k4KetkiX888SG4wVsd' # Access token\n",
    "access_secret = 'wp7VBFw59gZYu3BKgqo1c1F8rNsoLwYJmMP2kZuRif4Xc' # Access secret token\n",
    "\n",
    "# Pass consumer key and secret\n",
    "auth = OAuthHandler(consumer_key, consumer_secret)\n",
    "\n",
    "# Pass twitter credentials to tweepy\n",
    "auth = tweepy.OAuthHandler(consumer_key, consumer_secret)\n",
    "auth.set_access_token(access_key, access_secret)\n",
    "apiTW = tweepy.API(auth)"
   ]
  },
  {
   "cell_type": "code",
   "execution_count": 6,
   "id": "aec1c17a",
   "metadata": {},
   "outputs": [],
   "source": [
    "# Function to extract from API, tweets from timeline per profileID and return selected fields in dataframe form\n",
    "\n",
    "def TweetProfileTimeline(userID01, alias01):\n",
    "\n",
    "    tweetrepliesDF0 = pd.DataFrame()\n",
    "    tweetsList = []\n",
    "    \n",
    "    for tweet in tweepy.Cursor(apiTW.user_timeline, id = 'jlespert', trim_user = False, \n",
    "                          tweet_mode = 'extended', exclude_replies = False, include_rts = True).items(20):\n",
    "        tweetsList.append(tweet)\n",
    "        \n",
    "    for twr in tweetsList:\n",
    "        twDict = json.loads(json.dumps(twr._json))\n",
    "        \n",
    "        twOutput = {'Output1': {'User': alias01,\n",
    "                        'tweetContent': {'created_at': twDict.get('created_at'), \n",
    "                                         'id_str': twDict.get('id_str'),\n",
    "                                         'in_reply_to_status_id_str': twDict.get('in_reply_to_status_id_str'),\n",
    "                                         'lang': twDict.get('lang')}}}\n",
    "\n",
    "        try:\n",
    "            twOutput['Output1']['urls'] = twDict.get('entities').get('urls')[0].get('expanded_url')\n",
    "        except:\n",
    "            None\n",
    "\n",
    "        if (twDict.get('retweeted_status') == None) and (twDict.get('is_quote_status') == False):\n",
    "\n",
    "            twOutput['Output1']['tweetContent']['full_text'] = TextCleansing(twDict.get('full_text'))\n",
    "\n",
    "        if twDict.get('retweeted_status') != None:\n",
    "\n",
    "            twOutput['Output1']['retweeted_status'] = {'created_at': twDict.get('retweeted_status').get('created_at'),\n",
    "                                                       'id_str': twDict.get('retweeted_status').get('id_str'),\n",
    "                                                       'full_text': TextCleansing(twDict.get('retweeted_status').get('full_text')),\n",
    "                                                       'userRT': twDict.get('retweeted_status').get('user').get('screen_name'),\n",
    "                                                       'retweet_count': twDict.get('retweeted_status').get('retweet_count'),\n",
    "                                                       'favorite_count': twDict.get('retweeted_status').get('favorite_count')}\n",
    "\n",
    "        if twDict.get('is_quote_status') == True:\n",
    "\n",
    "            twOutput['Output1']['quoted_status'] = {'created_at': twDict.get('retweeted_status').get('quoted_status').get('created_at'),\n",
    "                                                    'id_str': twDict.get('retweeted_status').get('quoted_status').get('id_str'),\n",
    "                                                    'full_text': TextCleansing(twDict.get('retweeted_status').get('quoted_status').get('full_text')),\n",
    "                                                    'userQT': twDict.get('retweeted_status').get('quoted_status').get('user').get('screen_name'),\n",
    "                                                    'retweet_count': twDict.get('retweeted_status').get('quoted_status').get('retweet_count'),\n",
    "                                                    'favorite_count': twDict.get('retweeted_status').get('quoted_status').get('favorite_count')}\n",
    "\n",
    "        twOutput['Key1'] = userID01\n",
    "        twOutput['Key2'] = twDict.get('id_str')\n",
    "        \n",
    "        tweetrepliesDF0 = tweetrepliesDF0.append(twOutput, ignore_index = True, sort = False)\n",
    "    \n",
    "    return tweetrepliesDF0"
   ]
  },
  {
   "cell_type": "code",
   "execution_count": 7,
   "id": "98802836",
   "metadata": {},
   "outputs": [
    {
     "name": "stdout",
     "output_type": "stream",
     "text": [
      "*** JMilei \n",
      "start\t 2021-08-18 17:52:03.718698\n"
     ]
    },
    {
     "ename": "AttributeError",
     "evalue": "'NoneType' object has no attribute 'get'",
     "output_type": "error",
     "traceback": [
      "\u001b[1;31m---------------------------------------------------------------------------\u001b[0m",
      "\u001b[1;31mAttributeError\u001b[0m                            Traceback (most recent call last)",
      "\u001b[1;32m<ipython-input-7-a4620fb4d6f6>\u001b[0m in \u001b[0;36m<module>\u001b[1;34m\u001b[0m\n\u001b[0;32m      4\u001b[0m \u001b[1;32mfor\u001b[0m \u001b[0mTWProfile\u001b[0m \u001b[1;32min\u001b[0m \u001b[0mTWProfileList\u001b[0m\u001b[1;33m:\u001b[0m\u001b[1;33m\u001b[0m\u001b[1;33m\u001b[0m\u001b[0m\n\u001b[0;32m      5\u001b[0m     \u001b[0mprint\u001b[0m\u001b[1;33m(\u001b[0m\u001b[1;34m'***'\u001b[0m\u001b[1;33m,\u001b[0m \u001b[0mTWProfile\u001b[0m\u001b[1;33m,\u001b[0m \u001b[1;34m'\\nstart\\t'\u001b[0m\u001b[1;33m,\u001b[0m \u001b[0mdatetime\u001b[0m\u001b[1;33m.\u001b[0m\u001b[0mnow\u001b[0m\u001b[1;33m(\u001b[0m\u001b[1;33m)\u001b[0m\u001b[1;33m)\u001b[0m\u001b[1;33m\u001b[0m\u001b[1;33m\u001b[0m\u001b[0m\n\u001b[1;32m----> 6\u001b[1;33m     \u001b[0mtweetoutputDF\u001b[0m \u001b[1;33m=\u001b[0m \u001b[0mTweetProfileTimeline\u001b[0m\u001b[1;33m(\u001b[0m\u001b[0mTWProfile\u001b[0m\u001b[1;33m,\u001b[0m \u001b[0mTWAliasList\u001b[0m\u001b[1;33m[\u001b[0m\u001b[0mi\u001b[0m\u001b[1;33m]\u001b[0m\u001b[1;33m)\u001b[0m\u001b[1;33m\u001b[0m\u001b[1;33m\u001b[0m\u001b[0m\n\u001b[0m\u001b[0;32m      7\u001b[0m     \u001b[0mtweetDF\u001b[0m \u001b[1;33m=\u001b[0m \u001b[0mtweetDF\u001b[0m\u001b[1;33m.\u001b[0m\u001b[0mappend\u001b[0m\u001b[1;33m(\u001b[0m\u001b[0mtweetoutputDF\u001b[0m\u001b[1;33m,\u001b[0m \u001b[0mignore_index\u001b[0m\u001b[1;33m=\u001b[0m\u001b[1;32mTrue\u001b[0m\u001b[1;33m,\u001b[0m \u001b[0msort\u001b[0m \u001b[1;33m=\u001b[0m \u001b[1;32mFalse\u001b[0m\u001b[1;33m)\u001b[0m\u001b[1;33m\u001b[0m\u001b[1;33m\u001b[0m\u001b[0m\n\u001b[0;32m      8\u001b[0m     \u001b[0mi\u001b[0m \u001b[1;33m=\u001b[0m \u001b[0mi\u001b[0m \u001b[1;33m+\u001b[0m \u001b[1;36m1\u001b[0m\u001b[1;33m\u001b[0m\u001b[1;33m\u001b[0m\u001b[0m\n",
      "\u001b[1;32m<ipython-input-6-72f267362d0a>\u001b[0m in \u001b[0;36mTweetProfileTimeline\u001b[1;34m(userID01, alias01)\u001b[0m\n\u001b[0;32m     39\u001b[0m         \u001b[1;32mif\u001b[0m \u001b[0mtwDict\u001b[0m\u001b[1;33m.\u001b[0m\u001b[0mget\u001b[0m\u001b[1;33m(\u001b[0m\u001b[1;34m'is_quote_status'\u001b[0m\u001b[1;33m)\u001b[0m \u001b[1;33m==\u001b[0m \u001b[1;32mTrue\u001b[0m\u001b[1;33m:\u001b[0m\u001b[1;33m\u001b[0m\u001b[1;33m\u001b[0m\u001b[0m\n\u001b[0;32m     40\u001b[0m \u001b[1;33m\u001b[0m\u001b[0m\n\u001b[1;32m---> 41\u001b[1;33m             twOutput['Output1']['quoted_status'] = {'created_at': twDict.get('retweeted_status').get('quoted_status').get('created_at'),\n\u001b[0m\u001b[0;32m     42\u001b[0m                                                     \u001b[1;34m'id_str'\u001b[0m\u001b[1;33m:\u001b[0m \u001b[0mtwDict\u001b[0m\u001b[1;33m.\u001b[0m\u001b[0mget\u001b[0m\u001b[1;33m(\u001b[0m\u001b[1;34m'retweeted_status'\u001b[0m\u001b[1;33m)\u001b[0m\u001b[1;33m.\u001b[0m\u001b[0mget\u001b[0m\u001b[1;33m(\u001b[0m\u001b[1;34m'quoted_status'\u001b[0m\u001b[1;33m)\u001b[0m\u001b[1;33m.\u001b[0m\u001b[0mget\u001b[0m\u001b[1;33m(\u001b[0m\u001b[1;34m'id_str'\u001b[0m\u001b[1;33m)\u001b[0m\u001b[1;33m,\u001b[0m\u001b[1;33m\u001b[0m\u001b[1;33m\u001b[0m\u001b[0m\n\u001b[0;32m     43\u001b[0m                                                     \u001b[1;34m'full_text'\u001b[0m\u001b[1;33m:\u001b[0m \u001b[0mTextCleansing\u001b[0m\u001b[1;33m(\u001b[0m\u001b[0mtwDict\u001b[0m\u001b[1;33m.\u001b[0m\u001b[0mget\u001b[0m\u001b[1;33m(\u001b[0m\u001b[1;34m'retweeted_status'\u001b[0m\u001b[1;33m)\u001b[0m\u001b[1;33m.\u001b[0m\u001b[0mget\u001b[0m\u001b[1;33m(\u001b[0m\u001b[1;34m'quoted_status'\u001b[0m\u001b[1;33m)\u001b[0m\u001b[1;33m.\u001b[0m\u001b[0mget\u001b[0m\u001b[1;33m(\u001b[0m\u001b[1;34m'full_text'\u001b[0m\u001b[1;33m)\u001b[0m\u001b[1;33m)\u001b[0m\u001b[1;33m,\u001b[0m\u001b[1;33m\u001b[0m\u001b[1;33m\u001b[0m\u001b[0m\n",
      "\u001b[1;31mAttributeError\u001b[0m: 'NoneType' object has no attribute 'get'"
     ]
    }
   ],
   "source": [
    "i = 0\n",
    "tweetDF = pd.DataFrame()\n",
    "tweetIDLAll = []\n",
    "for TWProfile in TWProfileList:\n",
    "    print('***', TWProfile, '\\nstart\\t', datetime.now())\n",
    "    tweetoutputDF = TweetProfileTimeline(TWProfile, TWAliasList[i])\n",
    "    tweetDF = tweetDF.append(tweetoutputDF, ignore_index=True, sort = False)\n",
    "    i = i + 1\n",
    "    print('end\\t', datetime.now())\n",
    "    time.sleep(30)"
   ]
  },
  {
   "cell_type": "code",
   "execution_count": null,
   "id": "3506eec7",
   "metadata": {},
   "outputs": [],
   "source": [
    "tweetDF = PrepareOutputDF('K12', tweetDF, 'Automatic', 'TweetsPerUserTimeline-Twitter')"
   ]
  },
  {
   "cell_type": "code",
   "execution_count": null,
   "id": "6a6c2b8e",
   "metadata": {},
   "outputs": [],
   "source": [
    "DF = pd.read_csv('C:/Users/Esteban Guerrero/SocialNetworkProject/Iteration2/Datasets/NetworkFeedRawOutput.csv', index_col = False, encoding = 'ISO-8859-1')\n",
    "DF = DF.append(tweetDF, ignore_index = True)\n",
    "DF.to_csv('C:/Users/Esteban Guerrero/SocialNetworkProject/Iteration2/Datasets/NetworkFeedRawOutput.csv', index = False)"
   ]
  }
 ],
 "metadata": {
  "kernelspec": {
   "display_name": "Python 3",
   "language": "python",
   "name": "python3"
  },
  "language_info": {
   "codemirror_mode": {
    "name": "ipython",
    "version": 3
   },
   "file_extension": ".py",
   "mimetype": "text/x-python",
   "name": "python",
   "nbconvert_exporter": "python",
   "pygments_lexer": "ipython3",
   "version": "3.8.8"
  }
 },
 "nbformat": 4,
 "nbformat_minor": 5
}

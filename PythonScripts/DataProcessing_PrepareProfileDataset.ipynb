{
 "cells": [
  {
   "cell_type": "code",
   "execution_count": 1,
   "id": "2e331f55",
   "metadata": {},
   "outputs": [],
   "source": [
    "import pandas as pd\n",
    "import ast\n",
    "from datetime import datetime"
   ]
  },
  {
   "cell_type": "code",
   "execution_count": 2,
   "id": "f0e3604c",
   "metadata": {},
   "outputs": [
    {
     "name": "stdout",
     "output_type": "stream",
     "text": [
      "*** Profile dataset \n",
      "start\t 2021-08-03 18:11:38.870048\n"
     ]
    }
   ],
   "source": [
    "print('*** Profile dataset', '\\nstart\\t', datetime.now())"
   ]
  },
  {
   "cell_type": "code",
   "execution_count": 3,
   "id": "6a5dbd5e",
   "metadata": {},
   "outputs": [],
   "source": [
    "df1 = pd.read_csv('C:/Users/Esteban Guerrero/SocialNetworkProject/Iteration2/Datasets/NetworkFeedRawOutput.csv',\n",
    "                  index_col = False, encoding = 'ISO-8859-1')"
   ]
  },
  {
   "cell_type": "code",
   "execution_count": 4,
   "id": "5d61530e",
   "metadata": {},
   "outputs": [],
   "source": [
    "profDF = df1[(df1.ExtrType.str.contains('ProfileID')) & (df1[\"Output1\"].str.contains('PostsList') == False)].reset_index(drop = True)"
   ]
  },
  {
   "cell_type": "code",
   "execution_count": 5,
   "id": "5fcc5e6e",
   "metadata": {},
   "outputs": [],
   "source": [
    "profDF['Plattform'] = ''\n",
    "profDF['Plattform'] = profDF['ExtrType'].str.split('-').str[-1]\n",
    "profDF['ExtractionDateTime'] = profDF['ExtractionDateTime'].str[:10]"
   ]
  },
  {
   "cell_type": "code",
   "execution_count": 6,
   "id": "a1ef0616",
   "metadata": {},
   "outputs": [],
   "source": [
    "profDF = profDF.sort_values(by = ['Plattform', 'Key1', 'ExtractionDateTime'], ascending = True).reset_index(drop = True)\n",
    "#profDF = profDF.drop_duplicates(subset = ['Plattform', 'Key1', 'ExtractionDateTime']).reset_index(drop = True)"
   ]
  },
  {
   "cell_type": "code",
   "execution_count": 7,
   "id": "429a9e35",
   "metadata": {},
   "outputs": [],
   "source": [
    "profDF['ProfileDesc'] = ''\n",
    "profDF['Followers'] = ''\n",
    "profDF['Following'] = ''\n",
    "profDF['Posts'] = ''\n",
    "profDF['ViewCount'] = ''\n",
    "profDF['Subscribers'] = ''\n",
    "profDF['VideoCount'] = ''"
   ]
  },
  {
   "cell_type": "code",
   "execution_count": 8,
   "id": "023fe3e9",
   "metadata": {},
   "outputs": [],
   "source": [
    "OutpInd = profDF.columns.get_loc('Output1')\n",
    "PlattfInd = profDF.columns.get_loc('Plattform')\n",
    "\n",
    "ProfileDescInd = profDF.columns.get_loc('ProfileDesc')\n",
    "FollowersInd = profDF.columns.get_loc('Followers')\n",
    "FollowingInd = profDF.columns.get_loc('Following')\n",
    "PostsInd = profDF.columns.get_loc('Posts')\n",
    "ViewCountInd = profDF.columns.get_loc('ViewCount')\n",
    "SubscribersInd = profDF.columns.get_loc('Subscribers')\n",
    "VideoCountInd = profDF.columns.get_loc('VideoCount')"
   ]
  },
  {
   "cell_type": "code",
   "execution_count": 9,
   "id": "3074c655",
   "metadata": {},
   "outputs": [],
   "source": [
    "for i in range(0, len(profDF.Output1)):\n",
    "\n",
    "    if profDF.iat[i, PlattfInd] == 'Instagram':\n",
    "        try:\n",
    "            profDF.iat[i, ProfileDescInd] = ast.literal_eval(profDF.iat[i, OutpInd]).get('Profile').get('description')\n",
    "            profDF.iat[i, FollowersInd] = ast.literal_eval(profDF.iat[i, OutpInd]).get('Profile').get('followers')\n",
    "            profDF.iat[i, FollowingInd] = ast.literal_eval(profDF.iat[i, OutpInd]).get('Profile').get('following')\n",
    "            profDF.iat[i, PostsInd] = ast.literal_eval(profDF.iat[i, OutpInd]).get('Profile').get('posts')\n",
    "\n",
    "        except:\n",
    "            continue\n",
    "\n",
    "    if profDF.iat[i, PlattfInd] == 'Twitter':\n",
    "        try:\n",
    "            profDF.iat[i, ProfileDescInd] = ast.literal_eval(profDF.iat[i, OutpInd]).get('Profile').get('description')\n",
    "            profDF.iat[i, FollowersInd] = ast.literal_eval(profDF.iat[i, OutpInd]).get('Profile').get('followers')\n",
    "            profDF.iat[i, FollowingInd] = ast.literal_eval(profDF.iat[i, OutpInd]).get('Profile').get('following')\n",
    "        except:\n",
    "            continue\n",
    "    \n",
    "    if profDF.iat[i, PlattfInd] == 'YouTube':\n",
    "        try:\n",
    "            profDF.iat[i, ViewCountInd] = ast.literal_eval(profDF.iat[i, OutpInd]).get('Profile').get('viewCount')\n",
    "            profDF.iat[i, SubscribersInd] = ast.literal_eval(profDF.iat[i, OutpInd]).get('Profile').get('subscriberCount')\n",
    "            profDF.iat[i, VideoCountInd] = ast.literal_eval(profDF.iat[i, OutpInd]).get('Profile').get('videoCount')\n",
    "        except:\n",
    "            continue"
   ]
  },
  {
   "cell_type": "code",
   "execution_count": 10,
   "id": "c4b075b7",
   "metadata": {},
   "outputs": [],
   "source": [
    "profDF.rename(columns ={'Key1': 'ProfileName'}, inplace = True)"
   ]
  },
  {
   "cell_type": "code",
   "execution_count": 11,
   "id": "544d98a6",
   "metadata": {},
   "outputs": [],
   "source": [
    "profDF = profDF.drop(['Key2', 'Output1'], axis = 1)"
   ]
  },
  {
   "cell_type": "code",
   "execution_count": 12,
   "id": "66dd861e",
   "metadata": {},
   "outputs": [],
   "source": [
    "profDF = profDF.sort_values(by = ['ProfileName', 'ExtrType', 'ExtractionDateTime'], ascending = True).reset_index(drop = True)"
   ]
  },
  {
   "cell_type": "code",
   "execution_count": 13,
   "id": "a7c25362",
   "metadata": {},
   "outputs": [],
   "source": [
    "profDF = pd.concat([profDF, profDF.duplicated(keep = 'last', subset = ['ProfileName', 'ExtrType', 'ExtractionDateTime'])], axis = 1)"
   ]
  },
  {
   "cell_type": "code",
   "execution_count": 14,
   "id": "17f86b41",
   "metadata": {},
   "outputs": [],
   "source": [
    "profDF.rename(columns ={0: 'DuplicateFlag'}, inplace = True)"
   ]
  },
  {
   "cell_type": "code",
   "execution_count": 15,
   "id": "f398aabc",
   "metadata": {
    "scrolled": false
   },
   "outputs": [
    {
     "data": {
      "text/html": [
       "<div>\n",
       "<style scoped>\n",
       "    .dataframe tbody tr th:only-of-type {\n",
       "        vertical-align: middle;\n",
       "    }\n",
       "\n",
       "    .dataframe tbody tr th {\n",
       "        vertical-align: top;\n",
       "    }\n",
       "\n",
       "    .dataframe thead th {\n",
       "        text-align: right;\n",
       "    }\n",
       "</style>\n",
       "<table border=\"1\" class=\"dataframe\">\n",
       "  <thead>\n",
       "    <tr style=\"text-align: right;\">\n",
       "      <th></th>\n",
       "      <th>ProfileName</th>\n",
       "      <th>ExtractionDateTime</th>\n",
       "      <th>ExtrMethod</th>\n",
       "      <th>ExtrType</th>\n",
       "      <th>Plattform</th>\n",
       "      <th>ProfileDesc</th>\n",
       "      <th>Followers</th>\n",
       "      <th>Following</th>\n",
       "      <th>Posts</th>\n",
       "      <th>ViewCount</th>\n",
       "      <th>Subscribers</th>\n",
       "      <th>VideoCount</th>\n",
       "      <th>DuplicateFlag</th>\n",
       "    </tr>\n",
       "  </thead>\n",
       "  <tbody>\n",
       "    <tr>\n",
       "      <th>0</th>\n",
       "      <td>Claudiaguerrerobr</td>\n",
       "      <td>2021-07-08</td>\n",
       "      <td>Automatic</td>\n",
       "      <td>ProfileID-Instagram</td>\n",
       "      <td>Instagram</td>\n",
       "      <td>CLAUDIA GUERRERO</td>\n",
       "      <td>6013</td>\n",
       "      <td>241</td>\n",
       "      <td>837</td>\n",
       "      <td></td>\n",
       "      <td></td>\n",
       "      <td></td>\n",
       "      <td>False</td>\n",
       "    </tr>\n",
       "    <tr>\n",
       "      <th>1</th>\n",
       "      <td>Claudiaguerrerobr</td>\n",
       "      <td>2021-07-12</td>\n",
       "      <td>Automatic</td>\n",
       "      <td>ProfileID-Instagram</td>\n",
       "      <td>Instagram</td>\n",
       "      <td>CLAUDIA GUERRERO</td>\n",
       "      <td>6018</td>\n",
       "      <td>241</td>\n",
       "      <td>837</td>\n",
       "      <td></td>\n",
       "      <td></td>\n",
       "      <td></td>\n",
       "      <td>False</td>\n",
       "    </tr>\n",
       "    <tr>\n",
       "      <th>2</th>\n",
       "      <td>Claudiaguerrerobr</td>\n",
       "      <td>2021-07-13</td>\n",
       "      <td>Automatic</td>\n",
       "      <td>ProfileID-Instagram</td>\n",
       "      <td>Instagram</td>\n",
       "      <td>CLAUDIA GUERRERO</td>\n",
       "      <td>6019</td>\n",
       "      <td>242</td>\n",
       "      <td>837</td>\n",
       "      <td></td>\n",
       "      <td></td>\n",
       "      <td></td>\n",
       "      <td>False</td>\n",
       "    </tr>\n",
       "    <tr>\n",
       "      <th>3</th>\n",
       "      <td>Claudiaguerrerobr</td>\n",
       "      <td>2021-07-16</td>\n",
       "      <td>Automatic</td>\n",
       "      <td>ProfileID-Instagram</td>\n",
       "      <td>Instagram</td>\n",
       "      <td>CLAUDIA GUERRERO</td>\n",
       "      <td>6022</td>\n",
       "      <td>244</td>\n",
       "      <td>840</td>\n",
       "      <td></td>\n",
       "      <td></td>\n",
       "      <td></td>\n",
       "      <td>False</td>\n",
       "    </tr>\n",
       "    <tr>\n",
       "      <th>4</th>\n",
       "      <td>Claudiaguerrerobr</td>\n",
       "      <td>2021-07-19</td>\n",
       "      <td>Automatic</td>\n",
       "      <td>ProfileID-Instagram</td>\n",
       "      <td>Instagram</td>\n",
       "      <td>CLAUDIA GUERRERO</td>\n",
       "      <td>6026</td>\n",
       "      <td>244</td>\n",
       "      <td>840</td>\n",
       "      <td></td>\n",
       "      <td></td>\n",
       "      <td></td>\n",
       "      <td>False</td>\n",
       "    </tr>\n",
       "  </tbody>\n",
       "</table>\n",
       "</div>"
      ],
      "text/plain": [
       "         ProfileName ExtractionDateTime ExtrMethod             ExtrType  \\\n",
       "0  Claudiaguerrerobr         2021-07-08  Automatic  ProfileID-Instagram   \n",
       "1  Claudiaguerrerobr         2021-07-12  Automatic  ProfileID-Instagram   \n",
       "2  Claudiaguerrerobr         2021-07-13  Automatic  ProfileID-Instagram   \n",
       "3  Claudiaguerrerobr         2021-07-16  Automatic  ProfileID-Instagram   \n",
       "4  Claudiaguerrerobr         2021-07-19  Automatic  ProfileID-Instagram   \n",
       "\n",
       "   Plattform       ProfileDesc Followers Following Posts ViewCount  \\\n",
       "0  Instagram  CLAUDIA GUERRERO      6013       241   837             \n",
       "1  Instagram  CLAUDIA GUERRERO      6018       241   837             \n",
       "2  Instagram  CLAUDIA GUERRERO      6019       242   837             \n",
       "3  Instagram  CLAUDIA GUERRERO      6022       244   840             \n",
       "4  Instagram  CLAUDIA GUERRERO      6026       244   840             \n",
       "\n",
       "  Subscribers VideoCount  DuplicateFlag  \n",
       "0                                 False  \n",
       "1                                 False  \n",
       "2                                 False  \n",
       "3                                 False  \n",
       "4                                 False  "
      ]
     },
     "execution_count": 15,
     "metadata": {},
     "output_type": "execute_result"
    }
   ],
   "source": [
    "profDF.head()"
   ]
  },
  {
   "cell_type": "code",
   "execution_count": 23,
   "id": "0602b659",
   "metadata": {},
   "outputs": [],
   "source": [
    "profDF.to_csv('C:/Users/Esteban Guerrero/SocialNetworkProject/Iteration2/Datasets/ProfileDataset.csv', index = False)"
   ]
  },
  {
   "cell_type": "code",
   "execution_count": null,
   "id": "cfee35b7",
   "metadata": {},
   "outputs": [],
   "source": [
    "print('end\\t', datetime.now())"
   ]
  }
 ],
 "metadata": {
  "kernelspec": {
   "display_name": "Python 3",
   "language": "python",
   "name": "python3"
  },
  "language_info": {
   "codemirror_mode": {
    "name": "ipython",
    "version": 3
   },
   "file_extension": ".py",
   "mimetype": "text/x-python",
   "name": "python",
   "nbconvert_exporter": "python",
   "pygments_lexer": "ipython3",
   "version": "3.8.8"
  }
 },
 "nbformat": 4,
 "nbformat_minor": 5
}

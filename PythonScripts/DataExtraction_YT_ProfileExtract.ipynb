{
 "cells": [
  {
   "cell_type": "code",
   "execution_count": 1,
   "id": "3190a112",
   "metadata": {},
   "outputs": [],
   "source": [
    "import pandas as pd\n",
    "from datetime import datetime\n",
    "import time\n",
    "from time import gmtime, strftime\n",
    "\n",
    "# YouTube API\n",
    "from googleapiclient.discovery import build"
   ]
  },
  {
   "cell_type": "code",
   "execution_count": 2,
   "id": "c4f64f4e",
   "metadata": {},
   "outputs": [],
   "source": [
    "# Initialize YouTube API"
   ]
  },
  {
   "cell_type": "code",
   "execution_count": 3,
   "id": "47fcba7b",
   "metadata": {},
   "outputs": [],
   "source": [
    "youTubeApiKey = 'youTubeApiKey'\n",
    "youtube = build('youtube','v3', developerKey = youTubeApiKey)"
   ]
  },
  {
   "cell_type": "code",
   "execution_count": 4,
   "id": "4be09d15",
   "metadata": {},
   "outputs": [],
   "source": [
    "def YTProfileIDFunct(channelIdL0, userL0):\n",
    "    \n",
    "    outputYTDF = pd.DataFrame()\n",
    "    i = 0\n",
    "    for chl in channelIdL0:\n",
    "        channelStats = youtube.channels().list(part = 'statistics', id = chl).execute()\n",
    "        outputYT = {'Output1': {'User': userL0[i], 'Profile': channelStats['items'][0]['statistics']}, 'Key1': chl}\n",
    "        outputYTDF = outputYTDF.append(outputYT, ignore_index = True)\n",
    "        i = i + 1\n",
    "    \n",
    "    return outputYTDF"
   ]
  }
 ],
 "metadata": {
  "kernelspec": {
   "display_name": "Python 3",
   "language": "python",
   "name": "python3"
  },
  "language_info": {
   "codemirror_mode": {
    "name": "ipython",
    "version": 3
   },
   "file_extension": ".py",
   "mimetype": "text/x-python",
   "name": "python",
   "nbconvert_exporter": "python",
   "pygments_lexer": "ipython3",
   "version": "3.8.8"
  }
 },
 "nbformat": 4,
 "nbformat_minor": 5
}

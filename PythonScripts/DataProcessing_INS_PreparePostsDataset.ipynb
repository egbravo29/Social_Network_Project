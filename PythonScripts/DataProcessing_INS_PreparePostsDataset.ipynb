{
 "cells": [
  {
   "cell_type": "code",
   "execution_count": 1,
   "id": "e8398260",
   "metadata": {},
   "outputs": [],
   "source": [
    "import pandas as pd\n",
    "import ast\n",
    "import os\n",
    "from datetime import datetime\n",
    "from dateutil.parser import parse"
   ]
  },
  {
   "cell_type": "code",
   "execution_count": null,
   "id": "ae28d26f",
   "metadata": {},
   "outputs": [],
   "source": [
    "print('*** Instagram posts dataset', '\\nstart\\t', datetime.now())"
   ]
  },
  {
   "cell_type": "code",
   "execution_count": 14,
   "id": "c7643536",
   "metadata": {},
   "outputs": [],
   "source": [
    "df1 = pd.read_csv('C:/Users/Esteban Guerrero/SocialNetworkProject/Iteration2/Datasets/NetworkFeedRawOutput.csv',\n",
    "                  index_col = False, encoding = 'ISO-8859-1')"
   ]
  },
  {
   "cell_type": "code",
   "execution_count": 15,
   "id": "064cf8e1",
   "metadata": {},
   "outputs": [],
   "source": [
    "pst = df1[df1.ExtrType.str.contains('PostDetails-Instagram')].reset_index(drop = True)"
   ]
  },
  {
   "cell_type": "code",
   "execution_count": 16,
   "id": "e2581946",
   "metadata": {},
   "outputs": [
    {
     "data": {
      "text/html": [
       "<div>\n",
       "<style scoped>\n",
       "    .dataframe tbody tr th:only-of-type {\n",
       "        vertical-align: middle;\n",
       "    }\n",
       "\n",
       "    .dataframe tbody tr th {\n",
       "        vertical-align: top;\n",
       "    }\n",
       "\n",
       "    .dataframe thead th {\n",
       "        text-align: right;\n",
       "    }\n",
       "</style>\n",
       "<table border=\"1\" class=\"dataframe\">\n",
       "  <thead>\n",
       "    <tr style=\"text-align: right;\">\n",
       "      <th></th>\n",
       "      <th>Key1</th>\n",
       "      <th>Key2</th>\n",
       "      <th>Output1</th>\n",
       "      <th>ExtractionDateTime</th>\n",
       "      <th>ExtrMethod</th>\n",
       "      <th>ExtrType</th>\n",
       "    </tr>\n",
       "  </thead>\n",
       "  <tbody>\n",
       "    <tr>\n",
       "      <th>15</th>\n",
       "      <td>Claudiaguerrerobr</td>\n",
       "      <td>CSK4RE6D-at</td>\n",
       "      <td>{'User': 'ClauG', 'Post': {'id': '263316439625...</td>\n",
       "      <td>2021-08-05 11:56:52 -0300</td>\n",
       "      <td>Automatic</td>\n",
       "      <td>PostDetails-Instagram</td>\n",
       "    </tr>\n",
       "    <tr>\n",
       "      <th>16</th>\n",
       "      <td>Claudiaguerrerobr</td>\n",
       "      <td>CSFjf4gD6xD</td>\n",
       "      <td>{'User': 'ClauG', 'Post': {'id': '263166567986...</td>\n",
       "      <td>2021-08-05 11:56:52 -0300</td>\n",
       "      <td>Automatic</td>\n",
       "      <td>PostDetails-Instagram</td>\n",
       "    </tr>\n",
       "    <tr>\n",
       "      <th>17</th>\n",
       "      <td>Claudiaguerrerobr</td>\n",
       "      <td>CR_4T4DjCmu</td>\n",
       "      <td>{'User': 'ClauG', 'Post': {'id': '263006836387...</td>\n",
       "      <td>2021-08-05 11:56:52 -0300</td>\n",
       "      <td>Automatic</td>\n",
       "      <td>PostDetails-Instagram</td>\n",
       "    </tr>\n",
       "    <tr>\n",
       "      <th>18</th>\n",
       "      <td>Claudiaguerrerobr</td>\n",
       "      <td>CRjkajEKV66</td>\n",
       "      <td>{'User': 'ClauG', 'Post': {'id': '262209956209...</td>\n",
       "      <td>2021-08-05 11:56:52 -0300</td>\n",
       "      <td>Automatic</td>\n",
       "      <td>PostDetails-Instagram</td>\n",
       "    </tr>\n",
       "    <tr>\n",
       "      <th>19</th>\n",
       "      <td>Claudiaguerrerobr</td>\n",
       "      <td>CRZJalJjzGV</td>\n",
       "      <td>{'User': 'ClauG', 'Post': {'id': '261916606730...</td>\n",
       "      <td>2021-08-05 11:56:52 -0300</td>\n",
       "      <td>Automatic</td>\n",
       "      <td>PostDetails-Instagram</td>\n",
       "    </tr>\n",
       "  </tbody>\n",
       "</table>\n",
       "</div>"
      ],
      "text/plain": [
       "                 Key1         Key2  \\\n",
       "15  Claudiaguerrerobr  CSK4RE6D-at   \n",
       "16  Claudiaguerrerobr  CSFjf4gD6xD   \n",
       "17  Claudiaguerrerobr  CR_4T4DjCmu   \n",
       "18  Claudiaguerrerobr  CRjkajEKV66   \n",
       "19  Claudiaguerrerobr  CRZJalJjzGV   \n",
       "\n",
       "                                              Output1  \\\n",
       "15  {'User': 'ClauG', 'Post': {'id': '263316439625...   \n",
       "16  {'User': 'ClauG', 'Post': {'id': '263166567986...   \n",
       "17  {'User': 'ClauG', 'Post': {'id': '263006836387...   \n",
       "18  {'User': 'ClauG', 'Post': {'id': '262209956209...   \n",
       "19  {'User': 'ClauG', 'Post': {'id': '261916606730...   \n",
       "\n",
       "           ExtractionDateTime ExtrMethod               ExtrType  \n",
       "15  2021-08-05 11:56:52 -0300  Automatic  PostDetails-Instagram  \n",
       "16  2021-08-05 11:56:52 -0300  Automatic  PostDetails-Instagram  \n",
       "17  2021-08-05 11:56:52 -0300  Automatic  PostDetails-Instagram  \n",
       "18  2021-08-05 11:56:52 -0300  Automatic  PostDetails-Instagram  \n",
       "19  2021-08-05 11:56:52 -0300  Automatic  PostDetails-Instagram  "
      ]
     },
     "execution_count": 16,
     "metadata": {},
     "output_type": "execute_result"
    }
   ],
   "source": [
    "pst.tail()"
   ]
  },
  {
   "cell_type": "code",
   "execution_count": 18,
   "id": "6ffa3100",
   "metadata": {},
   "outputs": [
    {
     "data": {
      "text/plain": [
       "{'User': 'ClauG',\n",
       " 'Post': {'id': '2619166067306475925',\n",
       "  'shortcode': 'CRZJalJjzGV',\n",
       "  'tagged_users': '[]',\n",
       "  'comments': '2',\n",
       "  'upload_date': '2021-07-16 12:59:08',\n",
       "  'likes': '113',\n",
       "  'location': 'nan',\n",
       "  'video_view_count': '1456',\n",
       "  'hashtags': \"['reels', 'reelsmoda', 'tendencias', 'chalecosmujer', 'chalecosjean', 'blusas', 'blusaselegantes', 'outfits', 'vistetedecolombia', 'diseÃ±osfemeninos', 'diseÃ±adorescolombianos', 'fashionstyle']\",\n",
       "  'caption': 'SUPER FEMENINOCHALECO PUPEJEAN ESTAMPADO COMBINADO EN PANA ROJA Y VERDE $230.000 TALLAS 6/8/10/12/14/16 BLUSA AMI EN LYCRA VERDE, NEGRO, NARANJA TODAS LAS TALLAS $95.000  VALLADOLID Y UNICENTRO SHOP ON LINE 3023820757 . . . #REELS #REELSMODA #TENDENCIAS #CHALECOSMUJER #CHALECOSJEAN #BLUSAS #BLUSASELEGANTES #OUTFITS #VISTETEDECOLOMBIA #DISEN?OSFEMENINOS #DISEN?ADORESCOLOMBIANOS #FASHIONSTYLE'}}"
      ]
     },
     "execution_count": 18,
     "metadata": {},
     "output_type": "execute_result"
    }
   ],
   "source": [
    "ast.literal_eval(pst.iat[19, 2])"
   ]
  },
  {
   "cell_type": "code",
   "execution_count": 19,
   "id": "52f1d131",
   "metadata": {},
   "outputs": [],
   "source": [
    "pst['PostIDLong'] = ''\n",
    "pst['TaggedUsers'] = ''\n",
    "pst['CommentCount'] = ''\n",
    "pst['UploadDate'] = ''\n",
    "pst['Likes'] = ''\n",
    "pst['Location'] = ''\n",
    "pst['VideoViewCount'] = ''\n",
    "pst['Hashtags'] = ''\n",
    "pst['Caption'] = ''"
   ]
  },
  {
   "cell_type": "code",
   "execution_count": 20,
   "id": "042e90cd",
   "metadata": {},
   "outputs": [],
   "source": [
    "OutpInd = pst.columns.get_loc('Output1')\n",
    "\n",
    "PostIDLongInd = pst.columns.get_loc('PostIDLong')\n",
    "TaggedUsersInd = pst.columns.get_loc('TaggedUsers')\n",
    "CommentCountInd = pst.columns.get_loc('CommentCount')\n",
    "UploadDateInd = pst.columns.get_loc('UploadDate')\n",
    "LikesInd = pst.columns.get_loc('Likes')\n",
    "LocationInd = pst.columns.get_loc('Location')\n",
    "VideoViewCountInd = pst.columns.get_loc('VideoViewCount')\n",
    "HashtagsInd = pst.columns.get_loc('Hashtags')\n",
    "CaptionInd = pst.columns.get_loc('Caption')"
   ]
  },
  {
   "cell_type": "code",
   "execution_count": 27,
   "id": "5f6d59d9",
   "metadata": {},
   "outputs": [],
   "source": [
    "for i in range(0, len(pst.Output1)):\n",
    "    pst.iat[i, PostIDLongInd] = ast.literal_eval(pst.iat[i, OutpInd]).get('Post').get('id')\n",
    "    pst.iat[i, TaggedUsersInd] = ast.literal_eval(pst.iat[i, OutpInd]).get('Post').get('tagged_users')\n",
    "    pst.iat[i, CommentCountInd] = ast.literal_eval(pst.iat[i, OutpInd]).get('Post').get('comments')\n",
    "    pst.iat[i, UploadDateInd] = ast.literal_eval(pst.iat[i, OutpInd]).get('Post').get('upload_date')\n",
    "    pst.iat[i, LikesInd] = ast.literal_eval(pst.iat[i, OutpInd]).get('Post').get('likes')\n",
    "    pst.iat[i, LocationInd] = ast.literal_eval(pst.iat[i, OutpInd]).get('Post').get('location')\n",
    "    pst.iat[i, VideoViewCountInd] = ast.literal_eval(pst.iat[i, OutpInd]).get('Post').get('video_view_count')\n",
    "    pst.iat[i, HashtagsInd] = ast.literal_eval(pst.iat[i, OutpInd]).get('Post').get('hashtags')\n",
    "    pst.iat[i, CaptionInd] = ast.literal_eval(pst.iat[i, OutpInd]).get('Post').get('caption')\n"
   ]
  },
  {
   "cell_type": "code",
   "execution_count": 29,
   "id": "393b1dbf",
   "metadata": {},
   "outputs": [],
   "source": [
    "pst = pst.drop(['Output1'], axis = 1)"
   ]
  },
  {
   "cell_type": "code",
   "execution_count": 30,
   "id": "72294005",
   "metadata": {},
   "outputs": [],
   "source": [
    "pst = pst.sort_values(by = ['Key1', 'Key2', 'UploadDate',  'ExtractionDateTime'],\n",
    "                            ascending = True).reset_index(drop = True)\n",
    "pst = pd.concat([pst, pst.duplicated(keep = 'last', subset = ['Key1', 'Key2', 'UploadDate'])], axis = 1)\n",
    "pst.rename(columns ={0: 'DuplicateFlag'}, inplace = True)"
   ]
  },
  {
   "cell_type": "code",
   "execution_count": 35,
   "id": "3e242ddd",
   "metadata": {},
   "outputs": [],
   "source": [
    "pst.replace(to_replace = 'nan', value = '', inplace = True)"
   ]
  },
  {
   "cell_type": "code",
   "execution_count": 38,
   "id": "20c280be",
   "metadata": {},
   "outputs": [],
   "source": [
    "pst['UploadDate'] = pd.to_datetime(pst.UploadDate, format='%Y-%m-%d %H:%M:%S %z', errors='ignore')"
   ]
  },
  {
   "cell_type": "code",
   "execution_count": 39,
   "id": "24b4ffbe",
   "metadata": {},
   "outputs": [
    {
     "data": {
      "text/html": [
       "<div>\n",
       "<style scoped>\n",
       "    .dataframe tbody tr th:only-of-type {\n",
       "        vertical-align: middle;\n",
       "    }\n",
       "\n",
       "    .dataframe tbody tr th {\n",
       "        vertical-align: top;\n",
       "    }\n",
       "\n",
       "    .dataframe thead th {\n",
       "        text-align: right;\n",
       "    }\n",
       "</style>\n",
       "<table border=\"1\" class=\"dataframe\">\n",
       "  <thead>\n",
       "    <tr style=\"text-align: right;\">\n",
       "      <th></th>\n",
       "      <th>Key1</th>\n",
       "      <th>Key2</th>\n",
       "      <th>ExtractionDateTime</th>\n",
       "      <th>ExtrMethod</th>\n",
       "      <th>ExtrType</th>\n",
       "      <th>PostIDLong</th>\n",
       "      <th>TaggedUsers</th>\n",
       "      <th>CommentCount</th>\n",
       "      <th>UploadDate</th>\n",
       "      <th>Likes</th>\n",
       "      <th>Location</th>\n",
       "      <th>VideoViewCount</th>\n",
       "      <th>Hashtags</th>\n",
       "      <th>Caption</th>\n",
       "      <th>DuplicateFlag</th>\n",
       "    </tr>\n",
       "  </thead>\n",
       "  <tbody>\n",
       "    <tr>\n",
       "      <th>0</th>\n",
       "      <td>Claudiaguerrerobr</td>\n",
       "      <td>CRZJalJjzGV</td>\n",
       "      <td>2021-08-05 11:56:52 -0300</td>\n",
       "      <td>Automatic</td>\n",
       "      <td>PostDetails-Instagram</td>\n",
       "      <td>2619166067306475925</td>\n",
       "      <td>[]</td>\n",
       "      <td>2</td>\n",
       "      <td>2021-07-16 12:59:08</td>\n",
       "      <td>113</td>\n",
       "      <td></td>\n",
       "      <td>1456</td>\n",
       "      <td>['reels', 'reelsmoda', 'tendencias', 'chalecos...</td>\n",
       "      <td>SUPER FEMENINOCHALECO PUPEJEAN ESTAMPADO COMBI...</td>\n",
       "      <td>False</td>\n",
       "    </tr>\n",
       "    <tr>\n",
       "      <th>1</th>\n",
       "      <td>Claudiaguerrerobr</td>\n",
       "      <td>CR_4T4DjCmu</td>\n",
       "      <td>2021-08-05 11:56:52 -0300</td>\n",
       "      <td>Automatic</td>\n",
       "      <td>PostDetails-Instagram</td>\n",
       "      <td>2630068363871398318</td>\n",
       "      <td>[]</td>\n",
       "      <td>14</td>\n",
       "      <td>2021-07-31 13:56:46</td>\n",
       "      <td>171</td>\n",
       "      <td></td>\n",
       "      <td>2443</td>\n",
       "      <td>['reels', 'blusasfemininas', 'pantalones', 'ou...</td>\n",
       "      <td>PARA HOY UN OUTFIT DE VERANO BLUSA CUTE DE HOM...</td>\n",
       "      <td>False</td>\n",
       "    </tr>\n",
       "    <tr>\n",
       "      <th>2</th>\n",
       "      <td>Claudiaguerrerobr</td>\n",
       "      <td>CRjkajEKV66</td>\n",
       "      <td>2021-08-05 11:56:52 -0300</td>\n",
       "      <td>Automatic</td>\n",
       "      <td>PostDetails-Instagram</td>\n",
       "      <td>2622099562091339450</td>\n",
       "      <td>[]</td>\n",
       "      <td>6</td>\n",
       "      <td>2021-07-20 14:05:49</td>\n",
       "      <td>222</td>\n",
       "      <td></td>\n",
       "      <td>4383</td>\n",
       "      <td>['vistetedecolombia', 'tendencias', 'reels', '...</td>\n",
       "      <td>VAMOS CON TODA COLOMBIAFELIZ DIA A L@S COLOMBI...</td>\n",
       "      <td>False</td>\n",
       "    </tr>\n",
       "    <tr>\n",
       "      <th>3</th>\n",
       "      <td>Claudiaguerrerobr</td>\n",
       "      <td>CSFjf4gD6xD</td>\n",
       "      <td>2021-08-05 11:56:52 -0300</td>\n",
       "      <td>Automatic</td>\n",
       "      <td>PostDetails-Instagram</td>\n",
       "      <td>2631665679867030595</td>\n",
       "      <td>[]</td>\n",
       "      <td>0</td>\n",
       "      <td>2021-08-02 20:14:26</td>\n",
       "      <td>89</td>\n",
       "      <td></td>\n",
       "      <td>1338</td>\n",
       "      <td>['outfits', 'tendencias2021', 'modafeminina', ...</td>\n",
       "      <td>OUTFIT PARA EL FRIO SUPER COMBINABLES CHAQUETA...</td>\n",
       "      <td>False</td>\n",
       "    </tr>\n",
       "    <tr>\n",
       "      <th>4</th>\n",
       "      <td>Claudiaguerrerobr</td>\n",
       "      <td>CSK4RE6D-at</td>\n",
       "      <td>2021-08-05 11:56:52 -0300</td>\n",
       "      <td>Automatic</td>\n",
       "      <td>PostDetails-Instagram</td>\n",
       "      <td>2633164396256290477</td>\n",
       "      <td>[]</td>\n",
       "      <td>8</td>\n",
       "      <td>2021-08-04 20:37:41</td>\n",
       "      <td>115</td>\n",
       "      <td></td>\n",
       "      <td>1226</td>\n",
       "      <td>['chalecos', 'vÃ­stetedecolombia', 'ropacolomb...</td>\n",
       "      <td>REUNION DE AMIGAS Y NO SABES QUE PONERTE?  LA ...</td>\n",
       "      <td>False</td>\n",
       "    </tr>\n",
       "  </tbody>\n",
       "</table>\n",
       "</div>"
      ],
      "text/plain": [
       "                Key1         Key2         ExtractionDateTime ExtrMethod  \\\n",
       "0  Claudiaguerrerobr  CRZJalJjzGV  2021-08-05 11:56:52 -0300  Automatic   \n",
       "1  Claudiaguerrerobr  CR_4T4DjCmu  2021-08-05 11:56:52 -0300  Automatic   \n",
       "2  Claudiaguerrerobr  CRjkajEKV66  2021-08-05 11:56:52 -0300  Automatic   \n",
       "3  Claudiaguerrerobr  CSFjf4gD6xD  2021-08-05 11:56:52 -0300  Automatic   \n",
       "4  Claudiaguerrerobr  CSK4RE6D-at  2021-08-05 11:56:52 -0300  Automatic   \n",
       "\n",
       "                ExtrType           PostIDLong TaggedUsers CommentCount  \\\n",
       "0  PostDetails-Instagram  2619166067306475925          []            2   \n",
       "1  PostDetails-Instagram  2630068363871398318          []           14   \n",
       "2  PostDetails-Instagram  2622099562091339450          []            6   \n",
       "3  PostDetails-Instagram  2631665679867030595          []            0   \n",
       "4  PostDetails-Instagram  2633164396256290477          []            8   \n",
       "\n",
       "            UploadDate Likes Location VideoViewCount  \\\n",
       "0  2021-07-16 12:59:08   113                    1456   \n",
       "1  2021-07-31 13:56:46   171                    2443   \n",
       "2  2021-07-20 14:05:49   222                    4383   \n",
       "3  2021-08-02 20:14:26    89                    1338   \n",
       "4  2021-08-04 20:37:41   115                    1226   \n",
       "\n",
       "                                            Hashtags  \\\n",
       "0  ['reels', 'reelsmoda', 'tendencias', 'chalecos...   \n",
       "1  ['reels', 'blusasfemininas', 'pantalones', 'ou...   \n",
       "2  ['vistetedecolombia', 'tendencias', 'reels', '...   \n",
       "3  ['outfits', 'tendencias2021', 'modafeminina', ...   \n",
       "4  ['chalecos', 'vÃ­stetedecolombia', 'ropacolomb...   \n",
       "\n",
       "                                             Caption  DuplicateFlag  \n",
       "0  SUPER FEMENINOCHALECO PUPEJEAN ESTAMPADO COMBI...          False  \n",
       "1  PARA HOY UN OUTFIT DE VERANO BLUSA CUTE DE HOM...          False  \n",
       "2  VAMOS CON TODA COLOMBIAFELIZ DIA A L@S COLOMBI...          False  \n",
       "3  OUTFIT PARA EL FRIO SUPER COMBINABLES CHAQUETA...          False  \n",
       "4  REUNION DE AMIGAS Y NO SABES QUE PONERTE?  LA ...          False  "
      ]
     },
     "execution_count": 39,
     "metadata": {},
     "output_type": "execute_result"
    }
   ],
   "source": [
    "pst.head()"
   ]
  },
  {
   "cell_type": "code",
   "execution_count": 40,
   "id": "fdf5ffcf",
   "metadata": {},
   "outputs": [],
   "source": [
    "pst.to_csv('C:/Users/Esteban Guerrero/SocialNetworkProject/Iteration2/Datasets/InstagramPostsDataset.csv', index = False)"
   ]
  },
  {
   "cell_type": "code",
   "execution_count": null,
   "id": "47be1af2",
   "metadata": {},
   "outputs": [],
   "source": [
    "print('end\\t', datetime.now())"
   ]
  }
 ],
 "metadata": {
  "kernelspec": {
   "display_name": "Python 3",
   "language": "python",
   "name": "python3"
  },
  "language_info": {
   "codemirror_mode": {
    "name": "ipython",
    "version": 3
   },
   "file_extension": ".py",
   "mimetype": "text/x-python",
   "name": "python",
   "nbconvert_exporter": "python",
   "pygments_lexer": "ipython3",
   "version": "3.8.8"
  }
 },
 "nbformat": 4,
 "nbformat_minor": 5
}

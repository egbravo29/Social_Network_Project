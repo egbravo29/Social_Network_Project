{
 "cells": [
  {
   "cell_type": "code",
   "execution_count": 1,
   "id": "cd4017bb",
   "metadata": {},
   "outputs": [],
   "source": [
    "import pandas as pd\n",
    "import ast\n",
    "import json\n",
    "import re\n",
    "import os"
   ]
  },
  {
   "cell_type": "code",
   "execution_count": 2,
   "id": "c3ffbfed",
   "metadata": {},
   "outputs": [],
   "source": [
    "os. chdir('C:/Users/Esteban Guerrero/SocialNetworkProject/Iteration2/PythonScripts')\n",
    "%run ./DataProcessing_TextPreparation.ipynb"
   ]
  },
  {
   "cell_type": "code",
   "execution_count": null,
   "id": "b5024cd9",
   "metadata": {},
   "outputs": [],
   "source": [
    "# Migrate profile records"
   ]
  },
  {
   "cell_type": "code",
   "execution_count": 117,
   "id": "f185de09",
   "metadata": {},
   "outputs": [],
   "source": [
    "df10 = pd.read_csv('C:/Users/Esteban Guerrero/SocialNetworkProject/Datasets/NetworkFeedRawOutput.csv',\n",
    "                  index_col = False, encoding = 'ISO-8859-1')\n",
    "df10 = df10[df10.ExtrType.str.contains('ProfileID')].reset_index(drop = True)"
   ]
  },
  {
   "cell_type": "code",
   "execution_count": 118,
   "id": "57e9e29c",
   "metadata": {},
   "outputs": [],
   "source": [
    "df10 = df10[df10.ExtractionDateTime >= '2021-07-02']\n",
    "L = df10[(df10.ExtrType == 'ProfileID-Instagram') & (df10.ExtractionDateTime <= '2021-07-08')].index.values.tolist()\n",
    "df10 = df10.drop(index = L)"
   ]
  },
  {
   "cell_type": "code",
   "execution_count": 119,
   "id": "7d73a14c",
   "metadata": {},
   "outputs": [],
   "source": [
    "df10 = df10.sort_values(by = ['ExtrType', 'Key1', 'ExtractionDateTime'], ascending = True).reset_index(drop = True)\n",
    "df10 = df10.drop_duplicates(subset = ['ExtrType', 'Key1', 'ExtractionDateTime']).reset_index(drop = True)"
   ]
  },
  {
   "cell_type": "code",
   "execution_count": 120,
   "id": "2704c0bb",
   "metadata": {},
   "outputs": [
    {
     "data": {
      "text/html": [
       "<div>\n",
       "<style scoped>\n",
       "    .dataframe tbody tr th:only-of-type {\n",
       "        vertical-align: middle;\n",
       "    }\n",
       "\n",
       "    .dataframe tbody tr th {\n",
       "        vertical-align: top;\n",
       "    }\n",
       "\n",
       "    .dataframe thead th {\n",
       "        text-align: right;\n",
       "    }\n",
       "</style>\n",
       "<table border=\"1\" class=\"dataframe\">\n",
       "  <thead>\n",
       "    <tr style=\"text-align: right;\">\n",
       "      <th></th>\n",
       "      <th>Key1</th>\n",
       "      <th>Key2</th>\n",
       "      <th>Output1</th>\n",
       "      <th>ExtractionDateTime</th>\n",
       "      <th>ExtrMethod</th>\n",
       "      <th>ExtrType</th>\n",
       "    </tr>\n",
       "  </thead>\n",
       "  <tbody>\n",
       "    <tr>\n",
       "      <th>0</th>\n",
       "      <td>Claudiaguerrerobr</td>\n",
       "      <td>NaN</td>\n",
       "      <td>{'User': 'ClauG', 'Profile': {'description': '...</td>\n",
       "      <td>2021-07-08 11:21:47 -0300</td>\n",
       "      <td>Automatic</td>\n",
       "      <td>ProfileID-Instagram</td>\n",
       "    </tr>\n",
       "    <tr>\n",
       "      <th>1</th>\n",
       "      <td>Claudiaguerrerobr</td>\n",
       "      <td>NaN</td>\n",
       "      <td>{'User': 'ClauG', 'Profile': {'description': '...</td>\n",
       "      <td>2021-07-12 16:32:02 -0300</td>\n",
       "      <td>Automatic</td>\n",
       "      <td>ProfileID-Instagram</td>\n",
       "    </tr>\n",
       "    <tr>\n",
       "      <th>2</th>\n",
       "      <td>Claudiaguerrerobr</td>\n",
       "      <td>NaN</td>\n",
       "      <td>{'User': 'ClauG', 'Profile': {'description': '...</td>\n",
       "      <td>2021-07-13 15:21:50 -0300</td>\n",
       "      <td>Automatic</td>\n",
       "      <td>ProfileID-Instagram</td>\n",
       "    </tr>\n",
       "    <tr>\n",
       "      <th>3</th>\n",
       "      <td>javiermilei</td>\n",
       "      <td>NaN</td>\n",
       "      <td>{'User': 'Milei', 'Profile': {'description': '...</td>\n",
       "      <td>2021-07-08 11:21:47 -0300</td>\n",
       "      <td>Automatic</td>\n",
       "      <td>ProfileID-Instagram</td>\n",
       "    </tr>\n",
       "    <tr>\n",
       "      <th>4</th>\n",
       "      <td>javiermilei</td>\n",
       "      <td>NaN</td>\n",
       "      <td>{'User': 'Milei', 'Profile': {'description': '...</td>\n",
       "      <td>2021-07-12 16:32:02 -0300</td>\n",
       "      <td>Automatic</td>\n",
       "      <td>ProfileID-Instagram</td>\n",
       "    </tr>\n",
       "  </tbody>\n",
       "</table>\n",
       "</div>"
      ],
      "text/plain": [
       "                Key1 Key2                                            Output1  \\\n",
       "0  Claudiaguerrerobr  NaN  {'User': 'ClauG', 'Profile': {'description': '...   \n",
       "1  Claudiaguerrerobr  NaN  {'User': 'ClauG', 'Profile': {'description': '...   \n",
       "2  Claudiaguerrerobr  NaN  {'User': 'ClauG', 'Profile': {'description': '...   \n",
       "3        javiermilei  NaN  {'User': 'Milei', 'Profile': {'description': '...   \n",
       "4        javiermilei  NaN  {'User': 'Milei', 'Profile': {'description': '...   \n",
       "\n",
       "          ExtractionDateTime ExtrMethod             ExtrType  \n",
       "0  2021-07-08 11:21:47 -0300  Automatic  ProfileID-Instagram  \n",
       "1  2021-07-12 16:32:02 -0300  Automatic  ProfileID-Instagram  \n",
       "2  2021-07-13 15:21:50 -0300  Automatic  ProfileID-Instagram  \n",
       "3  2021-07-08 11:21:47 -0300  Automatic  ProfileID-Instagram  \n",
       "4  2021-07-12 16:32:02 -0300  Automatic  ProfileID-Instagram  "
      ]
     },
     "execution_count": 120,
     "metadata": {},
     "output_type": "execute_result"
    }
   ],
   "source": [
    "df10.head()"
   ]
  },
  {
   "cell_type": "code",
   "execution_count": null,
   "id": "db81d5cb",
   "metadata": {},
   "outputs": [],
   "source": []
  },
  {
   "cell_type": "code",
   "execution_count": 121,
   "id": "8aabe7ed",
   "metadata": {},
   "outputs": [],
   "source": [
    "def DictChange(dIn):\n",
    "    dOut = dIn\n",
    "    dOut['Profile']['description'] = TextCleansing(dOut['Profile'].get('description'))\n",
    "    dOut['Profile']['longdescription'] = TextCleansing(dOut['Profile'].get('longdescription'))\n",
    "    \n",
    "    \n",
    "    return dOut"
   ]
  },
  {
   "cell_type": "code",
   "execution_count": 122,
   "id": "9ca95d9a",
   "metadata": {},
   "outputs": [],
   "source": [
    "df10['Output2'] = ''"
   ]
  },
  {
   "cell_type": "code",
   "execution_count": 123,
   "id": "102b6177",
   "metadata": {},
   "outputs": [],
   "source": [
    "for i in range(0, len(df10.Output1)):\n",
    "    df10.iat[i, 6] = DictChange(ast.literal_eval(df10.iat[i, 2]))"
   ]
  },
  {
   "cell_type": "code",
   "execution_count": 124,
   "id": "be1c6e86",
   "metadata": {},
   "outputs": [
    {
     "data": {
      "text/html": [
       "<div>\n",
       "<style scoped>\n",
       "    .dataframe tbody tr th:only-of-type {\n",
       "        vertical-align: middle;\n",
       "    }\n",
       "\n",
       "    .dataframe tbody tr th {\n",
       "        vertical-align: top;\n",
       "    }\n",
       "\n",
       "    .dataframe thead th {\n",
       "        text-align: right;\n",
       "    }\n",
       "</style>\n",
       "<table border=\"1\" class=\"dataframe\">\n",
       "  <thead>\n",
       "    <tr style=\"text-align: right;\">\n",
       "      <th></th>\n",
       "      <th>Key1</th>\n",
       "      <th>Key2</th>\n",
       "      <th>Output1</th>\n",
       "      <th>ExtractionDateTime</th>\n",
       "      <th>ExtrMethod</th>\n",
       "      <th>ExtrType</th>\n",
       "      <th>Output2</th>\n",
       "    </tr>\n",
       "  </thead>\n",
       "  <tbody>\n",
       "    <tr>\n",
       "      <th>0</th>\n",
       "      <td>Claudiaguerrerobr</td>\n",
       "      <td>NaN</td>\n",
       "      <td>{'User': 'ClauG', 'Profile': {'description': '...</td>\n",
       "      <td>2021-07-08 11:21:47 -0300</td>\n",
       "      <td>Automatic</td>\n",
       "      <td>ProfileID-Instagram</td>\n",
       "      <td>{'User': 'ClauG', 'Profile': {'description': '...</td>\n",
       "    </tr>\n",
       "    <tr>\n",
       "      <th>1</th>\n",
       "      <td>Claudiaguerrerobr</td>\n",
       "      <td>NaN</td>\n",
       "      <td>{'User': 'ClauG', 'Profile': {'description': '...</td>\n",
       "      <td>2021-07-12 16:32:02 -0300</td>\n",
       "      <td>Automatic</td>\n",
       "      <td>ProfileID-Instagram</td>\n",
       "      <td>{'User': 'ClauG', 'Profile': {'description': '...</td>\n",
       "    </tr>\n",
       "    <tr>\n",
       "      <th>2</th>\n",
       "      <td>Claudiaguerrerobr</td>\n",
       "      <td>NaN</td>\n",
       "      <td>{'User': 'ClauG', 'Profile': {'description': '...</td>\n",
       "      <td>2021-07-13 15:21:50 -0300</td>\n",
       "      <td>Automatic</td>\n",
       "      <td>ProfileID-Instagram</td>\n",
       "      <td>{'User': 'ClauG', 'Profile': {'description': '...</td>\n",
       "    </tr>\n",
       "    <tr>\n",
       "      <th>3</th>\n",
       "      <td>javiermilei</td>\n",
       "      <td>NaN</td>\n",
       "      <td>{'User': 'Milei', 'Profile': {'description': '...</td>\n",
       "      <td>2021-07-08 11:21:47 -0300</td>\n",
       "      <td>Automatic</td>\n",
       "      <td>ProfileID-Instagram</td>\n",
       "      <td>{'User': 'Milei', 'Profile': {'description': '...</td>\n",
       "    </tr>\n",
       "    <tr>\n",
       "      <th>4</th>\n",
       "      <td>javiermilei</td>\n",
       "      <td>NaN</td>\n",
       "      <td>{'User': 'Milei', 'Profile': {'description': '...</td>\n",
       "      <td>2021-07-12 16:32:02 -0300</td>\n",
       "      <td>Automatic</td>\n",
       "      <td>ProfileID-Instagram</td>\n",
       "      <td>{'User': 'Milei', 'Profile': {'description': '...</td>\n",
       "    </tr>\n",
       "  </tbody>\n",
       "</table>\n",
       "</div>"
      ],
      "text/plain": [
       "                Key1 Key2                                            Output1  \\\n",
       "0  Claudiaguerrerobr  NaN  {'User': 'ClauG', 'Profile': {'description': '...   \n",
       "1  Claudiaguerrerobr  NaN  {'User': 'ClauG', 'Profile': {'description': '...   \n",
       "2  Claudiaguerrerobr  NaN  {'User': 'ClauG', 'Profile': {'description': '...   \n",
       "3        javiermilei  NaN  {'User': 'Milei', 'Profile': {'description': '...   \n",
       "4        javiermilei  NaN  {'User': 'Milei', 'Profile': {'description': '...   \n",
       "\n",
       "          ExtractionDateTime ExtrMethod             ExtrType  \\\n",
       "0  2021-07-08 11:21:47 -0300  Automatic  ProfileID-Instagram   \n",
       "1  2021-07-12 16:32:02 -0300  Automatic  ProfileID-Instagram   \n",
       "2  2021-07-13 15:21:50 -0300  Automatic  ProfileID-Instagram   \n",
       "3  2021-07-08 11:21:47 -0300  Automatic  ProfileID-Instagram   \n",
       "4  2021-07-12 16:32:02 -0300  Automatic  ProfileID-Instagram   \n",
       "\n",
       "                                             Output2  \n",
       "0  {'User': 'ClauG', 'Profile': {'description': '...  \n",
       "1  {'User': 'ClauG', 'Profile': {'description': '...  \n",
       "2  {'User': 'ClauG', 'Profile': {'description': '...  \n",
       "3  {'User': 'Milei', 'Profile': {'description': '...  \n",
       "4  {'User': 'Milei', 'Profile': {'description': '...  "
      ]
     },
     "execution_count": 124,
     "metadata": {},
     "output_type": "execute_result"
    }
   ],
   "source": [
    "df10.head()"
   ]
  },
  {
   "cell_type": "code",
   "execution_count": null,
   "id": "2111f986",
   "metadata": {},
   "outputs": [],
   "source": []
  },
  {
   "cell_type": "code",
   "execution_count": 125,
   "id": "2b072408",
   "metadata": {},
   "outputs": [
    {
     "name": "stdout",
     "output_type": "stream",
     "text": [
      "before  {'User': 'ClauG', 'Profile': {'description': 'Claudia GuerreroÃÂÃÂÃÂÃÂÃÂÃÂÃÂÃÂÃÂÃÂÃÂÃÂÃÂÃÂÃÂÃÂÃÂÃÂÃÂÃÂÃÂÃÂÃÂÃÂÃÂÃÂÃÂÃÂÃÂÃÂÃÂÃÂÃÂÃÂÃÂÃÂÃÂÃÂÃÂÃÂÃÂÃÂÃÂÃÂÃÂÃÂÃÂÃÂÃÂÃÂÃÂÃÂÃÂÃÂÃÂÃÂÃÂÃÂÃÂÃÂÃÂÃÂÃÂÃÂÃÂÃÂÃÂÃÂÃÂÃÂÃÂÃÂÃÂÃÂÃÂÃÂÃÂÃÂÃÂÃÂÃÂÃÂÃÂÃÂÃÂÃÂÃÂÃÂÃÂÃÂÃÂÃÂÃÂÃÂÃÂÃÂÃÂÃÂÃÂÃÂÃÂÃÂÃÂÃÂÃÂÃÂÃÂÃÂÃÂÃÂÃÂÃÂÃÂÃÂÃÂÃÂÃÂÃÂÃÂÃÂÃÂÃÂÃÂÃÂÃÂÃÂÃÂÃÂ®', 'business_category_name': None, 'overall_category_name': None, 'longdescription': '', 'followers': 6013, 'posts': 837, 'following': 241, 'logging_page_id': 'profilePage_1150495596', 'id': '47917941472', 'is_verified': False}}\n",
      "after  {'User': 'ClauG', 'Profile': {'description': 'CLAUDIA GUERRERO', 'business_category_name': None, 'overall_category_name': None, 'longdescription': '', 'followers': 6013, 'posts': 837, 'following': 241, 'logging_page_id': 'profilePage_1150495596', 'id': '47917941472', 'is_verified': False}}\n",
      "before  {'User': 'ClauG', 'Profile': {'description': 'Claudia GuerreroÃÂÃÂ®', 'business_category_name': None, 'overall_category_name': None, 'longdescription': '', 'followers': 6018, 'posts': 837, 'following': 241, 'logging_page_id': 'profilePage_1150495596', 'id': '47917941472', 'is_verified': False}}\n",
      "after  {'User': 'ClauG', 'Profile': {'description': 'CLAUDIA GUERRERO', 'business_category_name': None, 'overall_category_name': None, 'longdescription': '', 'followers': 6018, 'posts': 837, 'following': 241, 'logging_page_id': 'profilePage_1150495596', 'id': '47917941472', 'is_verified': False}}\n",
      "before  {'User': 'ClauG', 'Profile': {'description': 'Claudia GuerreroÂ®', 'business_category_name': None, 'overall_category_name': None, 'longdescription': '', 'followers': 6019, 'posts': 837, 'following': 242, 'logging_page_id': 'profilePage_1150495596', 'id': '47917941472', 'is_verified': False}}\n",
      "after  {'User': 'ClauG', 'Profile': {'description': 'CLAUDIA GUERRERO', 'business_category_name': None, 'overall_category_name': None, 'longdescription': '', 'followers': 6019, 'posts': 837, 'following': 242, 'logging_page_id': 'profilePage_1150495596', 'id': '47917941472', 'is_verified': False}}\n",
      "before  {'User': 'Milei', 'Profile': {'description': 'Javier Milei', 'business_category_name': None, 'overall_category_name': None, 'longdescription': '', 'followers': 656718, 'posts': 4801, 'following': 1412, 'logging_page_id': 'profilePage_5728395069', 'id': '47917941472', 'is_verified': True}}\n",
      "after  {'User': 'Milei', 'Profile': {'description': 'JAVIER MILEI', 'business_category_name': None, 'overall_category_name': None, 'longdescription': '', 'followers': 656718, 'posts': 4801, 'following': 1412, 'logging_page_id': 'profilePage_5728395069', 'id': '47917941472', 'is_verified': True}}\n",
      "before  {'User': 'Milei', 'Profile': {'description': 'Javier Milei', 'business_category_name': None, 'overall_category_name': None, 'longdescription': '', 'followers': 658488, 'posts': 4819, 'following': 1417, 'logging_page_id': 'profilePage_5728395069', 'id': '47917941472', 'is_verified': True}}\n",
      "after  {'User': 'Milei', 'Profile': {'description': 'JAVIER MILEI', 'business_category_name': None, 'overall_category_name': None, 'longdescription': '', 'followers': 658488, 'posts': 4819, 'following': 1417, 'logging_page_id': 'profilePage_5728395069', 'id': '47917941472', 'is_verified': True}}\n",
      "before  {'User': 'Milei', 'Profile': {'description': 'Javier Milei', 'business_category_name': None, 'overall_category_name': None, 'longdescription': '', 'followers': 659379, 'posts': 4823, 'following': 1416, 'logging_page_id': 'profilePage_5728395069', 'id': '47917941472', 'is_verified': True}}\n",
      "after  {'User': 'Milei', 'Profile': {'description': 'JAVIER MILEI', 'business_category_name': None, 'overall_category_name': None, 'longdescription': '', 'followers': 659379, 'posts': 4823, 'following': 1416, 'logging_page_id': 'profilePage_5728395069', 'id': '47917941472', 'is_verified': True}}\n",
      "before  {'User': 'Espert', 'Profile': {'description': 'Jose Luis Espert', 'business_category_name': 'Creators & Celebrities', 'overall_category_name': None, 'longdescription': '', 'followers': 105736, 'posts': 1468, 'following': 79, 'logging_page_id': 'profilePage_2801121088', 'id': '47917941472', 'is_verified': True}}\n",
      "after  {'User': 'Espert', 'Profile': {'description': 'JOSE LUIS ESPERT', 'business_category_name': 'Creators & Celebrities', 'overall_category_name': None, 'longdescription': '', 'followers': 105736, 'posts': 1468, 'following': 79, 'logging_page_id': 'profilePage_2801121088', 'id': '47917941472', 'is_verified': True}}\n",
      "before  {'User': 'Espert', 'Profile': {'description': 'Jose Luis Espert', 'business_category_name': 'Creators & Celebrities', 'overall_category_name': None, 'longdescription': '', 'followers': 105813, 'posts': 1479, 'following': 80, 'logging_page_id': 'profilePage_2801121088', 'id': '47917941472', 'is_verified': True}}\n",
      "after  {'User': 'Espert', 'Profile': {'description': 'JOSE LUIS ESPERT', 'business_category_name': 'Creators & Celebrities', 'overall_category_name': None, 'longdescription': '', 'followers': 105813, 'posts': 1479, 'following': 80, 'logging_page_id': 'profilePage_2801121088', 'id': '47917941472', 'is_verified': True}}\n",
      "before  {'User': 'Espert', 'Profile': {'description': 'Jose Luis Espert', 'business_category_name': 'Creators & Celebrities', 'overall_category_name': None, 'longdescription': '', 'followers': 105817, 'posts': 1480, 'following': 80, 'logging_page_id': 'profilePage_2801121088', 'id': '47917941472', 'is_verified': True}}\n",
      "after  {'User': 'Espert', 'Profile': {'description': 'JOSE LUIS ESPERT', 'business_category_name': 'Creators & Celebrities', 'overall_category_name': None, 'longdescription': '', 'followers': 105817, 'posts': 1480, 'following': 80, 'logging_page_id': 'profilePage_2801121088', 'id': '47917941472', 'is_verified': True}}\n",
      "before  {'User': 'PLibCABA', 'Profile': {'description': 'Partido Libertario CABA', 'business_category_name': None, 'overall_category_name': None, 'longdescription': '', 'followers': 23351, 'posts': 754, 'following': 192, 'logging_page_id': 'profilePage_11920407995', 'id': '47917941472', 'is_verified': False}}\n",
      "after  {'User': 'PLibCABA', 'Profile': {'description': 'PARTIDO LIBERTARIO CABA', 'business_category_name': None, 'overall_category_name': None, 'longdescription': '', 'followers': 23351, 'posts': 754, 'following': 192, 'logging_page_id': 'profilePage_11920407995', 'id': '47917941472', 'is_verified': False}}\n"
     ]
    }
   ],
   "source": [
    "for i in range(0, 10):\n",
    "    print('before ', df10.iat[i, 2])\n",
    "    print('after ', df10.iat[i, 6])"
   ]
  },
  {
   "cell_type": "code",
   "execution_count": 126,
   "id": "47622d02",
   "metadata": {},
   "outputs": [],
   "source": [
    "df10 = df10.drop(['Output1'], axis = 1)\n",
    "df10.rename(columns ={'Output2': 'Output1'}, inplace = True)\n",
    "df10 = df10.reindex(columns = ['Key1', 'Key2', 'Output1', 'ExtractionDateTime', 'ExtrMethod', 'ExtrType'])"
   ]
  },
  {
   "cell_type": "code",
   "execution_count": 127,
   "id": "358935ef",
   "metadata": {},
   "outputs": [],
   "source": [
    "df10.to_csv('C:/Users/Esteban Guerrero/SocialNetworkProject/Iteration2/Datasets/NetworkFeedRawOutput.csv', index = False)"
   ]
  },
  {
   "cell_type": "code",
   "execution_count": null,
   "id": "6089c652",
   "metadata": {},
   "outputs": [],
   "source": [
    "# Migrate youtube video data"
   ]
  },
  {
   "cell_type": "code",
   "execution_count": 9,
   "id": "85719a57",
   "metadata": {},
   "outputs": [],
   "source": [
    "df2 = pd.read_csv('C:/Users/Esteban Guerrero/SocialNetworkProject/Datasets/NetworkFeedRawOutput.csv',\n",
    "                  index_col = False, encoding = 'ISO-8859-1')"
   ]
  },
  {
   "cell_type": "code",
   "execution_count": 10,
   "id": "333c368b",
   "metadata": {},
   "outputs": [
    {
     "data": {
      "text/html": [
       "<div>\n",
       "<style scoped>\n",
       "    .dataframe tbody tr th:only-of-type {\n",
       "        vertical-align: middle;\n",
       "    }\n",
       "\n",
       "    .dataframe tbody tr th {\n",
       "        vertical-align: top;\n",
       "    }\n",
       "\n",
       "    .dataframe thead th {\n",
       "        text-align: right;\n",
       "    }\n",
       "</style>\n",
       "<table border=\"1\" class=\"dataframe\">\n",
       "  <thead>\n",
       "    <tr style=\"text-align: right;\">\n",
       "      <th></th>\n",
       "      <th>Key1</th>\n",
       "      <th>Key2</th>\n",
       "      <th>Output1</th>\n",
       "      <th>ExtractionDateTime</th>\n",
       "      <th>ExtrMethod</th>\n",
       "      <th>ExtrType</th>\n",
       "    </tr>\n",
       "  </thead>\n",
       "  <tbody>\n",
       "    <tr>\n",
       "      <th>0</th>\n",
       "      <td>javiermilei</td>\n",
       "      <td>NaN</td>\n",
       "      <td>{'User': 'Milei', 'Profile': {\"'description': ...</td>\n",
       "      <td>2021-06-23 15:31:08-0300</td>\n",
       "      <td>Automated</td>\n",
       "      <td>ProfileID-Instagram</td>\n",
       "    </tr>\n",
       "    <tr>\n",
       "      <th>1</th>\n",
       "      <td>joseluisespert</td>\n",
       "      <td>NaN</td>\n",
       "      <td>{'User': 'Espert', 'Profile': {\"'description':...</td>\n",
       "      <td>2021-06-23 15:31:29-0300</td>\n",
       "      <td>Automated</td>\n",
       "      <td>ProfileID-Instagram</td>\n",
       "    </tr>\n",
       "    <tr>\n",
       "      <th>2</th>\n",
       "      <td>partidolibertariocaba</td>\n",
       "      <td>NaN</td>\n",
       "      <td>{'User': 'PLibCABA', 'Profile': {\"'description...</td>\n",
       "      <td>2021-06-23 15:31:50-0300</td>\n",
       "      <td>Automated</td>\n",
       "      <td>ProfileID-Instagram</td>\n",
       "    </tr>\n",
       "    <tr>\n",
       "      <th>3</th>\n",
       "      <td>Claudiaguerrerobr</td>\n",
       "      <td>NaN</td>\n",
       "      <td>{'User': 'ClauG', 'Profile': {\"'description': ...</td>\n",
       "      <td>2021-06-23 15:32:11-0300</td>\n",
       "      <td>Automated</td>\n",
       "      <td>ProfileID-Instagram</td>\n",
       "    </tr>\n",
       "    <tr>\n",
       "      <th>4</th>\n",
       "      <td>JMilei</td>\n",
       "      <td>NaN</td>\n",
       "      <td>{'User': 'Milei', 'Profile': {\"'description': ...</td>\n",
       "      <td>2021-06-23 15:32:19-0300</td>\n",
       "      <td>Automated</td>\n",
       "      <td>ProfileID-Twitter</td>\n",
       "    </tr>\n",
       "  </tbody>\n",
       "</table>\n",
       "</div>"
      ],
      "text/plain": [
       "                    Key1 Key2  \\\n",
       "0            javiermilei  NaN   \n",
       "1         joseluisespert  NaN   \n",
       "2  partidolibertariocaba  NaN   \n",
       "3      Claudiaguerrerobr  NaN   \n",
       "4                 JMilei  NaN   \n",
       "\n",
       "                                             Output1  \\\n",
       "0  {'User': 'Milei', 'Profile': {\"'description': ...   \n",
       "1  {'User': 'Espert', 'Profile': {\"'description':...   \n",
       "2  {'User': 'PLibCABA', 'Profile': {\"'description...   \n",
       "3  {'User': 'ClauG', 'Profile': {\"'description': ...   \n",
       "4  {'User': 'Milei', 'Profile': {\"'description': ...   \n",
       "\n",
       "         ExtractionDateTime ExtrMethod             ExtrType  \n",
       "0  2021-06-23 15:31:08-0300  Automated  ProfileID-Instagram  \n",
       "1  2021-06-23 15:31:29-0300  Automated  ProfileID-Instagram  \n",
       "2  2021-06-23 15:31:50-0300  Automated  ProfileID-Instagram  \n",
       "3  2021-06-23 15:32:11-0300  Automated  ProfileID-Instagram  \n",
       "4  2021-06-23 15:32:19-0300  Automated    ProfileID-Twitter  "
      ]
     },
     "execution_count": 10,
     "metadata": {},
     "output_type": "execute_result"
    }
   ],
   "source": [
    "df2.head()"
   ]
  },
  {
   "cell_type": "code",
   "execution_count": 11,
   "id": "e84285c6",
   "metadata": {},
   "outputs": [
    {
     "data": {
      "text/plain": [
       "PostComments-Instagram    5467\n",
       "VideoComments-YouTube     3919\n",
       "YouTubeVideoInfo          1714\n",
       "ProfileID-Instagram        200\n",
       "PostDetails-Instagram      162\n",
       "ProfileID-YouTube          147\n",
       "ProfileID-Twitter          147\n",
       "YouTubeVideoList             3\n",
       "Name: ExtrType, dtype: int64"
      ]
     },
     "execution_count": 11,
     "metadata": {},
     "output_type": "execute_result"
    }
   ],
   "source": [
    "df2.ExtrType.value_counts()"
   ]
  },
  {
   "cell_type": "code",
   "execution_count": 12,
   "id": "40ff281e",
   "metadata": {},
   "outputs": [],
   "source": [
    "df2 = df2[df2.ExtrType == 'YouTubeVideoInfo'].reset_index(drop = True)"
   ]
  },
  {
   "cell_type": "code",
   "execution_count": 14,
   "id": "2c5dbb84",
   "metadata": {},
   "outputs": [
    {
     "data": {
      "text/html": [
       "<div>\n",
       "<style scoped>\n",
       "    .dataframe tbody tr th:only-of-type {\n",
       "        vertical-align: middle;\n",
       "    }\n",
       "\n",
       "    .dataframe tbody tr th {\n",
       "        vertical-align: top;\n",
       "    }\n",
       "\n",
       "    .dataframe thead th {\n",
       "        text-align: right;\n",
       "    }\n",
       "</style>\n",
       "<table border=\"1\" class=\"dataframe\">\n",
       "  <thead>\n",
       "    <tr style=\"text-align: right;\">\n",
       "      <th></th>\n",
       "      <th>Key1</th>\n",
       "      <th>Key2</th>\n",
       "      <th>Output1</th>\n",
       "      <th>ExtractionDateTime</th>\n",
       "      <th>ExtrMethod</th>\n",
       "      <th>ExtrType</th>\n",
       "    </tr>\n",
       "  </thead>\n",
       "  <tbody>\n",
       "    <tr>\n",
       "      <th>0</th>\n",
       "      <td>UCwKZnJ48oXRCCGCQbL1BPSA</td>\n",
       "      <td>yAvaQhU_6pU</td>\n",
       "      <td>{'User': 'Milei', 'VideoDetails': {'publishedA...</td>\n",
       "      <td>2021-07-10 13:40:38 -0300</td>\n",
       "      <td>Automatic</td>\n",
       "      <td>YouTubeVideoInfo</td>\n",
       "    </tr>\n",
       "    <tr>\n",
       "      <th>1</th>\n",
       "      <td>UCwKZnJ48oXRCCGCQbL1BPSA</td>\n",
       "      <td>zdy_C3ZHdek</td>\n",
       "      <td>{'User': 'Milei', 'VideoDetails': {'publishedA...</td>\n",
       "      <td>2021-07-10 13:40:38 -0300</td>\n",
       "      <td>Automatic</td>\n",
       "      <td>YouTubeVideoInfo</td>\n",
       "    </tr>\n",
       "    <tr>\n",
       "      <th>2</th>\n",
       "      <td>UCwKZnJ48oXRCCGCQbL1BPSA</td>\n",
       "      <td>Gwedr0UI1Z0</td>\n",
       "      <td>{'User': 'Milei', 'VideoDetails': {'publishedA...</td>\n",
       "      <td>2021-07-10 13:40:38 -0300</td>\n",
       "      <td>Automatic</td>\n",
       "      <td>YouTubeVideoInfo</td>\n",
       "    </tr>\n",
       "    <tr>\n",
       "      <th>3</th>\n",
       "      <td>UCwKZnJ48oXRCCGCQbL1BPSA</td>\n",
       "      <td>gcO1HOqI2Fg</td>\n",
       "      <td>{'User': 'Milei', 'VideoDetails': {'publishedA...</td>\n",
       "      <td>2021-07-10 13:40:38 -0300</td>\n",
       "      <td>Automatic</td>\n",
       "      <td>YouTubeVideoInfo</td>\n",
       "    </tr>\n",
       "    <tr>\n",
       "      <th>4</th>\n",
       "      <td>UCwKZnJ48oXRCCGCQbL1BPSA</td>\n",
       "      <td>3Ry4IHDt8FU</td>\n",
       "      <td>{'User': 'Milei', 'VideoDetails': {'publishedA...</td>\n",
       "      <td>2021-07-10 13:40:38 -0300</td>\n",
       "      <td>Automatic</td>\n",
       "      <td>YouTubeVideoInfo</td>\n",
       "    </tr>\n",
       "  </tbody>\n",
       "</table>\n",
       "</div>"
      ],
      "text/plain": [
       "                       Key1         Key2  \\\n",
       "0  UCwKZnJ48oXRCCGCQbL1BPSA  yAvaQhU_6pU   \n",
       "1  UCwKZnJ48oXRCCGCQbL1BPSA  zdy_C3ZHdek   \n",
       "2  UCwKZnJ48oXRCCGCQbL1BPSA  Gwedr0UI1Z0   \n",
       "3  UCwKZnJ48oXRCCGCQbL1BPSA  gcO1HOqI2Fg   \n",
       "4  UCwKZnJ48oXRCCGCQbL1BPSA  3Ry4IHDt8FU   \n",
       "\n",
       "                                             Output1  \\\n",
       "0  {'User': 'Milei', 'VideoDetails': {'publishedA...   \n",
       "1  {'User': 'Milei', 'VideoDetails': {'publishedA...   \n",
       "2  {'User': 'Milei', 'VideoDetails': {'publishedA...   \n",
       "3  {'User': 'Milei', 'VideoDetails': {'publishedA...   \n",
       "4  {'User': 'Milei', 'VideoDetails': {'publishedA...   \n",
       "\n",
       "          ExtractionDateTime ExtrMethod          ExtrType  \n",
       "0  2021-07-10 13:40:38 -0300  Automatic  YouTubeVideoInfo  \n",
       "1  2021-07-10 13:40:38 -0300  Automatic  YouTubeVideoInfo  \n",
       "2  2021-07-10 13:40:38 -0300  Automatic  YouTubeVideoInfo  \n",
       "3  2021-07-10 13:40:38 -0300  Automatic  YouTubeVideoInfo  \n",
       "4  2021-07-10 13:40:38 -0300  Automatic  YouTubeVideoInfo  "
      ]
     },
     "execution_count": 14,
     "metadata": {},
     "output_type": "execute_result"
    }
   ],
   "source": [
    "df2.head()"
   ]
  },
  {
   "cell_type": "code",
   "execution_count": 21,
   "id": "00db9dce",
   "metadata": {},
   "outputs": [],
   "source": [
    "d3 = ast.literal_eval(df2.iat[0, 2])"
   ]
  },
  {
   "cell_type": "code",
   "execution_count": 23,
   "id": "bf97c99e",
   "metadata": {},
   "outputs": [
    {
     "data": {
      "text/plain": [
       "'Milei LN+ Especial Domingo (04-07-2021)'"
      ]
     },
     "execution_count": 23,
     "metadata": {},
     "output_type": "execute_result"
    }
   ],
   "source": [
    "d3['VideoDetails']['title']"
   ]
  },
  {
   "cell_type": "code",
   "execution_count": 26,
   "id": "5795a180",
   "metadata": {},
   "outputs": [],
   "source": [
    "def DictChange2(dIn2):\n",
    "    dOut2 = dIn2\n",
    "    dOut2['VideoDetails']['title'] = TextCleansing(dOut2['VideoDetails'].get('title'))  \n",
    "    \n",
    "    return dOut2"
   ]
  },
  {
   "cell_type": "code",
   "execution_count": 28,
   "id": "e02cc9cf",
   "metadata": {},
   "outputs": [
    {
     "data": {
      "text/plain": [
       "{'User': 'Milei',\n",
       " 'VideoDetails': {'publishedAt': '2021-07-05T18:45:39Z',\n",
       "  'title': 'MILEI LN+ ESPECIAL DOMINGO (04-07-2021)'},\n",
       " 'VideoStats': {'viewCount': '1871',\n",
       "  'likeCount': '284',\n",
       "  'dislikeCount': '2',\n",
       "  'favoriteCount': '0',\n",
       "  'commentCount': '14'}}"
      ]
     },
     "execution_count": 28,
     "metadata": {},
     "output_type": "execute_result"
    }
   ],
   "source": [
    "DictChange2(ast.literal_eval(df2.iat[0, 2]))"
   ]
  },
  {
   "cell_type": "code",
   "execution_count": 29,
   "id": "a17f5c9e",
   "metadata": {},
   "outputs": [],
   "source": [
    "df2['Output2'] = ''"
   ]
  },
  {
   "cell_type": "code",
   "execution_count": 31,
   "id": "b61b9ed9",
   "metadata": {},
   "outputs": [],
   "source": [
    "for i in range(0, len(df2.Output1)):\n",
    "    df2.iat[i, 6] = DictChange2(ast.literal_eval(df2.iat[i, 2]))"
   ]
  },
  {
   "cell_type": "code",
   "execution_count": 32,
   "id": "3c1c5f2a",
   "metadata": {},
   "outputs": [
    {
     "name": "stdout",
     "output_type": "stream",
     "text": [
      "before  {'User': 'Milei', 'VideoDetails': {'publishedAt': '2021-07-05T18:45:39Z', 'title': 'Milei LN+ Especial Domingo (04-07-2021)'}, 'VideoStats': {'viewCount': '1871', 'likeCount': '284', 'dislikeCount': '2', 'favoriteCount': '0', 'commentCount': '14'}}\n",
      "after  {'User': 'Milei', 'VideoDetails': {'publishedAt': '2021-07-05T18:45:39Z', 'title': 'MILEI LN+ ESPECIAL DOMINGO (04-07-2021)'}, 'VideoStats': {'viewCount': '1871', 'likeCount': '284', 'dislikeCount': '2', 'favoriteCount': '0', 'commentCount': '14'}}\n",
      "before  {'User': 'Milei', 'VideoDetails': {'publishedAt': '2021-07-05T18:50:44Z', 'title': 'Milei Canal 26 - La Mirada con R. GarcÃÂÃÂÃÂÃÂÃÂÃÂÃÂÃÂÃÂÃÂÃÂÃÂÃÂÃÂÃÂÃÂÃÂÃÂÃÂÃÂÃÂÃÂÃÂÃÂÃÂÃÂÃÂÃÂÃÂÃÂÃÂÃÂÃÂÃÂÃÂÃÂÃÂÃÂÃÂÃÂÃÂÃÂÃÂÃÂÃÂÃÂÃÂÃÂÃÂÃÂÃÂÃÂÃÂÃÂÃÂÃÂÃÂÃÂÃÂÃÂÃÂÃÂÃÂÃÂ¬a (04-07-2021)'}, 'VideoStats': {'viewCount': '1006', 'likeCount': '161', 'dislikeCount': '1', 'favoriteCount': '0', 'commentCount': '9'}}\n",
      "after  {'User': 'Milei', 'VideoDetails': {'publishedAt': '2021-07-05T18:50:44Z', 'title': 'MILEI CANAL 26 - LA MIRADA CON R. GARCA (04-07-2021)'}, 'VideoStats': {'viewCount': '1006', 'likeCount': '161', 'dislikeCount': '1', 'favoriteCount': '0', 'commentCount': '9'}}\n",
      "before  {'User': 'Milei', 'VideoDetails': {'publishedAt': '2021-07-01T22:22:33Z', 'title': 'Javier Milei LN+ (24-06-2021)'}, 'VideoStats': {'viewCount': '1806', 'likeCount': '322', 'dislikeCount': '2', 'favoriteCount': '0', 'commentCount': '31'}}\n",
      "after  {'User': 'Milei', 'VideoDetails': {'publishedAt': '2021-07-01T22:22:33Z', 'title': 'JAVIER MILEI LN+ (24-06-2021)'}, 'VideoStats': {'viewCount': '1806', 'likeCount': '322', 'dislikeCount': '2', 'favoriteCount': '0', 'commentCount': '31'}}\n",
      "before  {'User': 'Milei', 'VideoDetails': {'publishedAt': '2021-07-01T17:15:08Z', 'title': 'Javier Milei con Nicolas WiÃÂÃÂÃÂÃÂÃÂÃÂÃÂÃÂÃÂÃÂÃÂÃÂÃÂÃÂÃÂÃÂÃÂÃÂÃÂÃÂÃÂÃÂÃÂÃÂÃÂÃÂÃÂÃÂÃÂÃÂÃÂÃÂÃÂÃÂÃÂÃÂÃÂÃÂÃÂÃÂÃÂÃÂÃÂÃÂÃÂÃÂÃÂÃÂÃÂÃÂÃÂÃÂÃÂÃÂÃÂÃÂÃÂÃÂÃÂÃÂÃÂÃÂÃÂÃÂ±azki en TN (22-06-2021)'}, 'VideoStats': {'viewCount': '1053', 'likeCount': '202', 'dislikeCount': '1', 'favoriteCount': '0', 'commentCount': '17'}}\n",
      "after  {'User': 'Milei', 'VideoDetails': {'publishedAt': '2021-07-01T17:15:08Z', 'title': 'JAVIER MILEI CON NICOLAS WIAZKI EN TN (22-06-2021)'}, 'VideoStats': {'viewCount': '1053', 'likeCount': '202', 'dislikeCount': '1', 'favoriteCount': '0', 'commentCount': '17'}}\n",
      "before  {'User': 'Milei', 'VideoDetails': {'publishedAt': '2021-06-19T13:40:40Z', 'title': 'ÃÂÃÂÃÂÃÂÃÂÃÂÃÂÃÂÃÂÃÂÃÂÃÂÃÂÃÂÃÂÃÂÃÂÃÂÃÂÃÂÃÂÃÂÃÂÃÂÃÂÃÂÃÂÃÂÃÂÃÂÃÂÃÂ¢ÃÂÃÂÃÂÃÂÃÂÃÂÃÂÃÂÃÂÃÂÃÂÃÂÃÂÃÂÃÂÃÂÃÂÃÂÃÂÃÂÃÂÃÂÃÂÃÂÃÂÃÂÃÂÃÂÃÂÃÂÃÂÃÂÃÂÃÂÃÂÃÂÃÂÃÂÃÂÃÂÃÂÃÂÃÂÃÂÃÂÃÂÃÂÃÂÃÂÃÂÃÂÃÂÃÂÃÂÃÂÃÂÃÂÃÂÃÂÃÂÃÂÃÂÃÂÃÂÃÂÃÂÃÂÃÂÃÂÃÂÃÂÃÂÃÂÃÂÃÂÃÂÃÂÃÂÃÂÃÂÃÂÃÂÃÂÃÂÃÂÃÂÃÂÃÂÃÂÃÂÃÂÃÂÃÂÃÂÃÂÃÂ¢ÃÂÃÂÃÂÃÂÃÂÃÂÃÂÃÂÃÂÃÂÃÂÃÂÃÂÃÂÃÂÃÂÃÂÃÂÃÂÃÂÃÂÃÂÃÂÃÂÃÂÃÂÃÂÃÂÃÂÃÂÃÂÃÂÃÂÃÂÃÂÃÂÃÂÃÂÃÂÃÂÃÂÃÂÃÂÃÂÃÂÃÂÃÂÃÂÃÂÃÂÃÂÃÂÃÂÃÂÃÂÃÂÃÂÃÂÃÂÃÂÃÂÃÂÃÂÃÂLa reforma dio jubilaciones a personas que no aportaron!ÃÂÃÂÃÂÃÂÃÂÃÂÃÂÃÂÃÂÃÂÃÂÃÂÃÂÃÂÃÂÃÂÃÂÃÂÃÂÃÂÃÂÃÂÃÂÃÂÃÂÃÂÃÂÃÂÃÂÃÂÃÂÃÂ¢ÃÂÃÂÃÂÃÂÃÂÃÂÃÂÃÂÃÂÃÂÃÂÃÂÃÂÃÂÃÂÃÂÃÂÃÂÃÂÃÂÃÂÃÂÃÂÃÂÃÂÃÂÃÂÃÂÃÂÃÂÃÂÃÂÃÂÃÂÃÂÃÂÃÂÃÂÃÂÃÂÃÂÃÂÃÂÃÂÃÂÃÂÃÂÃÂÃÂÃÂÃÂÃÂÃÂÃÂÃÂÃÂÃÂÃÂÃÂÃÂÃÂÃÂÃÂÃÂÃÂÃÂÃÂÃÂÃÂÃÂÃÂÃÂÃÂÃÂÃÂÃÂÃÂÃÂÃÂÃÂÃÂÃÂÃÂÃÂÃÂÃÂÃÂÃÂÃÂÃÂÃÂÃÂÃÂÃÂÃÂÃÂ¢ÃÂÃÂÃÂÃÂÃÂÃÂÃÂÃÂÃÂÃÂÃÂÃÂÃÂÃÂÃÂÃÂÃÂÃÂÃÂÃÂÃÂÃÂÃÂÃÂÃÂÃÂÃÂÃÂÃÂÃÂÃÂÃÂÃÂÃÂÃÂÃÂÃÂÃÂÃÂÃÂÃÂÃÂÃÂÃÂÃÂÃÂÃÂÃÂÃÂÃÂÃÂÃÂÃÂÃÂÃÂÃÂÃÂÃÂÃÂÃÂÃÂÃÂÃÂÃÂ #QueTeLoCuenteUnArgentino'}, 'VideoStats': {'viewCount': '2365', 'likeCount': '368', 'dislikeCount': '1', 'favoriteCount': '0', 'commentCount': '47'}}\n",
      "after  {'User': 'Milei', 'VideoDetails': {'publishedAt': '2021-06-19T13:40:40Z', 'title': 'LA REFORMA DIO JUBILACIONES A PERSONAS QUE NO APORTARON! #QUETELOCUENTEUNARGENTINO'}, 'VideoStats': {'viewCount': '2365', 'likeCount': '368', 'dislikeCount': '1', 'favoriteCount': '0', 'commentCount': '47'}}\n",
      "before  {'User': 'Milei', 'VideoDetails': {'publishedAt': '2021-06-19T13:34:30Z', 'title': 'Javier Milei explica el desastre de la expropiaciÃÂÃÂÃÂÃÂÃÂÃÂÃÂÃÂÃÂÃÂÃÂÃÂÃÂÃÂÃÂÃÂÃÂÃÂÃÂÃÂÃÂÃÂÃÂÃÂÃÂÃÂÃÂÃÂÃÂÃÂÃÂÃÂÃÂÃÂÃÂÃÂÃÂÃÂÃÂÃÂÃÂÃÂÃÂÃÂÃÂÃÂÃÂÃÂÃÂÃÂÃÂÃÂÃÂÃÂÃÂÃÂÃÂÃÂÃÂÃÂÃÂÃÂÃÂÃÂ³n de las AFP  #QueTeLoCuenteUnArgentino'}, 'VideoStats': {'viewCount': '1497', 'likeCount': '258', 'dislikeCount': '2', 'favoriteCount': '0', 'commentCount': '11'}}\n",
      "after  {'User': 'Milei', 'VideoDetails': {'publishedAt': '2021-06-19T13:34:30Z', 'title': 'JAVIER MILEI EXPLICA EL DESASTRE DE LA EXPROPIACIN DE LAS AFP  #QUETELOCUENTEUNARGENTINO'}, 'VideoStats': {'viewCount': '1497', 'likeCount': '258', 'dislikeCount': '2', 'favoriteCount': '0', 'commentCount': '11'}}\n",
      "before  {'User': 'Milei', 'VideoDetails': {'publishedAt': '2021-06-16T13:17:51Z', 'title': 'Javier Milei con Viviana Canosa - (15/06/2021)'}, 'VideoStats': {'viewCount': '1892', 'likeCount': '371', 'dislikeCount': '1', 'favoriteCount': '0', 'commentCount': '35'}}\n",
      "after  {'User': 'Milei', 'VideoDetails': {'publishedAt': '2021-06-16T13:17:51Z', 'title': 'JAVIER MILEI CON VIVIANA CANOSA - (15/06/2021)'}, 'VideoStats': {'viewCount': '1892', 'likeCount': '371', 'dislikeCount': '1', 'favoriteCount': '0', 'commentCount': '35'}}\n",
      "before  {'User': 'Milei', 'VideoDetails': {'publishedAt': '2021-06-13T12:32:43Z', 'title': 'Economia y Real Estate con Javier Milei - (10/06/21)'}, 'VideoStats': {'viewCount': '3387', 'likeCount': '496', 'dislikeCount': '2', 'favoriteCount': '0', 'commentCount': '45'}}\n",
      "after  {'User': 'Milei', 'VideoDetails': {'publishedAt': '2021-06-13T12:32:43Z', 'title': 'ECONOMIA Y REAL ESTATE CON JAVIER MILEI - (10/06/21)'}, 'VideoStats': {'viewCount': '3387', 'likeCount': '496', 'dislikeCount': '2', 'favoriteCount': '0', 'commentCount': '45'}}\n",
      "before  {'User': 'Milei', 'VideoDetails': {'publishedAt': '2021-06-13T12:03:04Z', 'title': 'Javier Milei en La Puerta Abierta - Canal Luz (10/05/21)'}, 'VideoStats': {'viewCount': '1904', 'likeCount': '356', 'dislikeCount': '2', 'favoriteCount': '0', 'commentCount': '36'}}\n",
      "after  {'User': 'Milei', 'VideoDetails': {'publishedAt': '2021-06-13T12:03:04Z', 'title': 'JAVIER MILEI EN LA PUERTA ABIERTA - CANAL LUZ (10/05/21)'}, 'VideoStats': {'viewCount': '1904', 'likeCount': '356', 'dislikeCount': '2', 'favoriteCount': '0', 'commentCount': '36'}}\n",
      "before  {'User': 'Milei', 'VideoDetails': {'publishedAt': '2021-06-13T10:44:01Z', 'title': 'Javier Milei en LN+ (05/06/2021)'}, 'VideoStats': {'viewCount': '2900', 'likeCount': '484', 'dislikeCount': '3', 'favoriteCount': '0', 'commentCount': '33'}}\n",
      "after  {'User': 'Milei', 'VideoDetails': {'publishedAt': '2021-06-13T10:44:01Z', 'title': 'JAVIER MILEI EN LN+ (05/06/2021)'}, 'VideoStats': {'viewCount': '2900', 'likeCount': '484', 'dislikeCount': '3', 'favoriteCount': '0', 'commentCount': '33'}}\n"
     ]
    }
   ],
   "source": [
    "for i in range(0, 10):\n",
    "    print('before ', df2.iat[i, 2])\n",
    "    print('after ', df2.iat[i, 6])"
   ]
  },
  {
   "cell_type": "code",
   "execution_count": 34,
   "id": "8398dcf5",
   "metadata": {},
   "outputs": [],
   "source": [
    "df2 = df2.drop(['Output1'], axis = 1)\n",
    "df2.rename(columns ={'Output2': 'Output1'}, inplace = True)\n",
    "df2 = df2.reindex(columns = ['Key1', 'Key2', 'Output1', 'ExtractionDateTime', 'ExtrMethod', 'ExtrType'])"
   ]
  },
  {
   "cell_type": "code",
   "execution_count": 35,
   "id": "3caefe6f",
   "metadata": {},
   "outputs": [
    {
     "data": {
      "text/html": [
       "<div>\n",
       "<style scoped>\n",
       "    .dataframe tbody tr th:only-of-type {\n",
       "        vertical-align: middle;\n",
       "    }\n",
       "\n",
       "    .dataframe tbody tr th {\n",
       "        vertical-align: top;\n",
       "    }\n",
       "\n",
       "    .dataframe thead th {\n",
       "        text-align: right;\n",
       "    }\n",
       "</style>\n",
       "<table border=\"1\" class=\"dataframe\">\n",
       "  <thead>\n",
       "    <tr style=\"text-align: right;\">\n",
       "      <th></th>\n",
       "      <th>Key1</th>\n",
       "      <th>Key2</th>\n",
       "      <th>Output1</th>\n",
       "      <th>ExtractionDateTime</th>\n",
       "      <th>ExtrMethod</th>\n",
       "      <th>ExtrType</th>\n",
       "    </tr>\n",
       "  </thead>\n",
       "  <tbody>\n",
       "    <tr>\n",
       "      <th>0</th>\n",
       "      <td>UCwKZnJ48oXRCCGCQbL1BPSA</td>\n",
       "      <td>yAvaQhU_6pU</td>\n",
       "      <td>{'User': 'Milei', 'VideoDetails': {'publishedA...</td>\n",
       "      <td>2021-07-10 13:40:38 -0300</td>\n",
       "      <td>Automatic</td>\n",
       "      <td>YouTubeVideoInfo</td>\n",
       "    </tr>\n",
       "    <tr>\n",
       "      <th>1</th>\n",
       "      <td>UCwKZnJ48oXRCCGCQbL1BPSA</td>\n",
       "      <td>zdy_C3ZHdek</td>\n",
       "      <td>{'User': 'Milei', 'VideoDetails': {'publishedA...</td>\n",
       "      <td>2021-07-10 13:40:38 -0300</td>\n",
       "      <td>Automatic</td>\n",
       "      <td>YouTubeVideoInfo</td>\n",
       "    </tr>\n",
       "    <tr>\n",
       "      <th>2</th>\n",
       "      <td>UCwKZnJ48oXRCCGCQbL1BPSA</td>\n",
       "      <td>Gwedr0UI1Z0</td>\n",
       "      <td>{'User': 'Milei', 'VideoDetails': {'publishedA...</td>\n",
       "      <td>2021-07-10 13:40:38 -0300</td>\n",
       "      <td>Automatic</td>\n",
       "      <td>YouTubeVideoInfo</td>\n",
       "    </tr>\n",
       "    <tr>\n",
       "      <th>3</th>\n",
       "      <td>UCwKZnJ48oXRCCGCQbL1BPSA</td>\n",
       "      <td>gcO1HOqI2Fg</td>\n",
       "      <td>{'User': 'Milei', 'VideoDetails': {'publishedA...</td>\n",
       "      <td>2021-07-10 13:40:38 -0300</td>\n",
       "      <td>Automatic</td>\n",
       "      <td>YouTubeVideoInfo</td>\n",
       "    </tr>\n",
       "    <tr>\n",
       "      <th>4</th>\n",
       "      <td>UCwKZnJ48oXRCCGCQbL1BPSA</td>\n",
       "      <td>3Ry4IHDt8FU</td>\n",
       "      <td>{'User': 'Milei', 'VideoDetails': {'publishedA...</td>\n",
       "      <td>2021-07-10 13:40:38 -0300</td>\n",
       "      <td>Automatic</td>\n",
       "      <td>YouTubeVideoInfo</td>\n",
       "    </tr>\n",
       "  </tbody>\n",
       "</table>\n",
       "</div>"
      ],
      "text/plain": [
       "                       Key1         Key2  \\\n",
       "0  UCwKZnJ48oXRCCGCQbL1BPSA  yAvaQhU_6pU   \n",
       "1  UCwKZnJ48oXRCCGCQbL1BPSA  zdy_C3ZHdek   \n",
       "2  UCwKZnJ48oXRCCGCQbL1BPSA  Gwedr0UI1Z0   \n",
       "3  UCwKZnJ48oXRCCGCQbL1BPSA  gcO1HOqI2Fg   \n",
       "4  UCwKZnJ48oXRCCGCQbL1BPSA  3Ry4IHDt8FU   \n",
       "\n",
       "                                             Output1  \\\n",
       "0  {'User': 'Milei', 'VideoDetails': {'publishedA...   \n",
       "1  {'User': 'Milei', 'VideoDetails': {'publishedA...   \n",
       "2  {'User': 'Milei', 'VideoDetails': {'publishedA...   \n",
       "3  {'User': 'Milei', 'VideoDetails': {'publishedA...   \n",
       "4  {'User': 'Milei', 'VideoDetails': {'publishedA...   \n",
       "\n",
       "          ExtractionDateTime ExtrMethod          ExtrType  \n",
       "0  2021-07-10 13:40:38 -0300  Automatic  YouTubeVideoInfo  \n",
       "1  2021-07-10 13:40:38 -0300  Automatic  YouTubeVideoInfo  \n",
       "2  2021-07-10 13:40:38 -0300  Automatic  YouTubeVideoInfo  \n",
       "3  2021-07-10 13:40:38 -0300  Automatic  YouTubeVideoInfo  \n",
       "4  2021-07-10 13:40:38 -0300  Automatic  YouTubeVideoInfo  "
      ]
     },
     "execution_count": 35,
     "metadata": {},
     "output_type": "execute_result"
    }
   ],
   "source": [
    "df2.head()"
   ]
  },
  {
   "cell_type": "code",
   "execution_count": 37,
   "id": "800ed725",
   "metadata": {},
   "outputs": [],
   "source": [
    "DF = pd.read_csv('C:/Users/Esteban Guerrero/SocialNetworkProject/Iteration2/Datasets/NetworkFeedRawOutput.csv', index_col = False, encoding = 'ISO-8859-1')\n",
    "DF = DF.append(df2, ignore_index = True)\n",
    "\n",
    "DF.to_csv('C:/Users/Esteban Guerrero/SocialNetworkProject/Iteration2/Datasets/NetworkFeedRawOutput.csv', index = False)"
   ]
  },
  {
   "cell_type": "code",
   "execution_count": null,
   "id": "38e0fe2c",
   "metadata": {},
   "outputs": [],
   "source": [
    "# Migrate youtube video comments data"
   ]
  },
  {
   "cell_type": "code",
   "execution_count": 5,
   "id": "7a02e06e",
   "metadata": {},
   "outputs": [],
   "source": [
    "df10 = pd.read_csv('C:/Users/Esteban Guerrero/SocialNetworkProject/Datasets/NetworkFeedRawOutput.csv',\n",
    "                  index_col = False, encoding = 'ISO-8859-1')\n",
    "df4 = df10[df10.ExtrType.str.contains('VideoComments')].reset_index(drop = True)"
   ]
  },
  {
   "cell_type": "code",
   "execution_count": 6,
   "id": "a7cacd5c",
   "metadata": {},
   "outputs": [
    {
     "data": {
      "text/html": [
       "<div>\n",
       "<style scoped>\n",
       "    .dataframe tbody tr th:only-of-type {\n",
       "        vertical-align: middle;\n",
       "    }\n",
       "\n",
       "    .dataframe tbody tr th {\n",
       "        vertical-align: top;\n",
       "    }\n",
       "\n",
       "    .dataframe thead th {\n",
       "        text-align: right;\n",
       "    }\n",
       "</style>\n",
       "<table border=\"1\" class=\"dataframe\">\n",
       "  <thead>\n",
       "    <tr style=\"text-align: right;\">\n",
       "      <th></th>\n",
       "      <th>Key1</th>\n",
       "      <th>Key2</th>\n",
       "      <th>Output1</th>\n",
       "      <th>ExtractionDateTime</th>\n",
       "      <th>ExtrMethod</th>\n",
       "      <th>ExtrType</th>\n",
       "    </tr>\n",
       "  </thead>\n",
       "  <tbody>\n",
       "    <tr>\n",
       "      <th>0</th>\n",
       "      <td>UC_vhdXDVvZQGMqQFDgn0w1g</td>\n",
       "      <td>Fw4BdsJJVYY</td>\n",
       "      <td>{'commentContent': {'id': 'UgwyAlcYeyzk6F7sant...</td>\n",
       "      <td>2021-07-10 15:26:05 -0300</td>\n",
       "      <td>Automatic</td>\n",
       "      <td>VideoComments-YouTube</td>\n",
       "    </tr>\n",
       "    <tr>\n",
       "      <th>1</th>\n",
       "      <td>UC_vhdXDVvZQGMqQFDgn0w1g</td>\n",
       "      <td>Fw4BdsJJVYY</td>\n",
       "      <td>{'commentContent': {'id': 'Ugwz-7OWgFpytZ7YTuJ...</td>\n",
       "      <td>2021-07-10 15:26:05 -0300</td>\n",
       "      <td>Automatic</td>\n",
       "      <td>VideoComments-YouTube</td>\n",
       "    </tr>\n",
       "    <tr>\n",
       "      <th>2</th>\n",
       "      <td>UC_vhdXDVvZQGMqQFDgn0w1g</td>\n",
       "      <td>Fw4BdsJJVYY</td>\n",
       "      <td>{'commentContent': {'id': 'UgxV2G5LDwAI8kvyfIh...</td>\n",
       "      <td>2021-07-10 15:26:05 -0300</td>\n",
       "      <td>Automatic</td>\n",
       "      <td>VideoComments-YouTube</td>\n",
       "    </tr>\n",
       "    <tr>\n",
       "      <th>3</th>\n",
       "      <td>UC_vhdXDVvZQGMqQFDgn0w1g</td>\n",
       "      <td>Fw4BdsJJVYY</td>\n",
       "      <td>{'commentContent': {'id': 'Ugx5oRl_y8sbLTBrKlh...</td>\n",
       "      <td>2021-07-10 15:26:05 -0300</td>\n",
       "      <td>Automatic</td>\n",
       "      <td>VideoComments-YouTube</td>\n",
       "    </tr>\n",
       "    <tr>\n",
       "      <th>4</th>\n",
       "      <td>UC_vhdXDVvZQGMqQFDgn0w1g</td>\n",
       "      <td>Fw4BdsJJVYY</td>\n",
       "      <td>{'commentContent': {'id': 'UgyANTT5sk2BVMOsZQt...</td>\n",
       "      <td>2021-07-10 15:26:05 -0300</td>\n",
       "      <td>Automatic</td>\n",
       "      <td>VideoComments-YouTube</td>\n",
       "    </tr>\n",
       "  </tbody>\n",
       "</table>\n",
       "</div>"
      ],
      "text/plain": [
       "                       Key1         Key2  \\\n",
       "0  UC_vhdXDVvZQGMqQFDgn0w1g  Fw4BdsJJVYY   \n",
       "1  UC_vhdXDVvZQGMqQFDgn0w1g  Fw4BdsJJVYY   \n",
       "2  UC_vhdXDVvZQGMqQFDgn0w1g  Fw4BdsJJVYY   \n",
       "3  UC_vhdXDVvZQGMqQFDgn0w1g  Fw4BdsJJVYY   \n",
       "4  UC_vhdXDVvZQGMqQFDgn0w1g  Fw4BdsJJVYY   \n",
       "\n",
       "                                             Output1  \\\n",
       "0  {'commentContent': {'id': 'UgwyAlcYeyzk6F7sant...   \n",
       "1  {'commentContent': {'id': 'Ugwz-7OWgFpytZ7YTuJ...   \n",
       "2  {'commentContent': {'id': 'UgxV2G5LDwAI8kvyfIh...   \n",
       "3  {'commentContent': {'id': 'Ugx5oRl_y8sbLTBrKlh...   \n",
       "4  {'commentContent': {'id': 'UgyANTT5sk2BVMOsZQt...   \n",
       "\n",
       "          ExtractionDateTime ExtrMethod               ExtrType  \n",
       "0  2021-07-10 15:26:05 -0300  Automatic  VideoComments-YouTube  \n",
       "1  2021-07-10 15:26:05 -0300  Automatic  VideoComments-YouTube  \n",
       "2  2021-07-10 15:26:05 -0300  Automatic  VideoComments-YouTube  \n",
       "3  2021-07-10 15:26:05 -0300  Automatic  VideoComments-YouTube  \n",
       "4  2021-07-10 15:26:05 -0300  Automatic  VideoComments-YouTube  "
      ]
     },
     "execution_count": 6,
     "metadata": {},
     "output_type": "execute_result"
    }
   ],
   "source": [
    "df4.head()"
   ]
  },
  {
   "cell_type": "code",
   "execution_count": 8,
   "id": "cf5c518d",
   "metadata": {},
   "outputs": [
    {
     "data": {
      "text/plain": [
       "{'commentContent': {'id': 'UgwyAlcYeyzk6F7sant4AaABAg',\n",
       "  'authorDisplayName': 'Federico Alvarez',\n",
       "  'textOriginal': 'Gracias a los Troll-os Kk y globos zurdos empobrecedores que por vivir de Espert lo ayudan en el algoritmo de YouTube para aumentar sus visitas y encima estÃ\\x83Â\\x83Ã\\x82Â\\x83Ã\\x83Â\\x82Ã\\x82Â\\x83Ã\\x83Â\\x83Ã\\x82Â\\x82Ã\\x83Â\\x82Ã\\x82Â\\x83Ã\\x83Â\\x83Ã\\x82Â\\x83Ã\\x83Â\\x82Ã\\x82Â\\x82Ã\\x83Â\\x83Ã\\x82Â\\x82Ã\\x83Â\\x82Ã\\x82Â\\x83Ã\\x83Â\\x83Ã\\x82Â\\x83Ã\\x83Â\\x82Ã\\x82Â\\x83Ã\\x83Â\\x83Ã\\x82Â\\x82Ã\\x83Â\\x82Ã\\x82Â\\x82Ã\\x83Â\\x83Ã\\x82Â\\x83Ã\\x83Â\\x82Ã\\x82Â\\x82Ã\\x83Â\\x83Ã\\x82Â\\x82Ã\\x83Â\\x82Ã\\x82Â¡n subscriptos. EstÃ\\x83Â\\x83Ã\\x82Â\\x83Ã\\x83Â\\x82Ã\\x82Â\\x83Ã\\x83Â\\x83Ã\\x82Â\\x82Ã\\x83Â\\x82Ã\\x82Â\\x83Ã\\x83Â\\x83Ã\\x82Â\\x83Ã\\x83Â\\x82Ã\\x82Â\\x82Ã\\x83Â\\x83Ã\\x82Â\\x82Ã\\x83Â\\x82Ã\\x82Â\\x83Ã\\x83Â\\x83Ã\\x82Â\\x83Ã\\x83Â\\x82Ã\\x82Â\\x83Ã\\x83Â\\x83Ã\\x82Â\\x82Ã\\x83Â\\x82Ã\\x82Â\\x82Ã\\x83Â\\x83Ã\\x82Â\\x83Ã\\x83Â\\x82Ã\\x82Â\\x82Ã\\x83Â\\x83Ã\\x82Â\\x82Ã\\x83Â\\x82Ã\\x82Â¡n logrando el efecto contrario Viva la Libertad Carajo!! Avanza Libertad #Espert2021',\n",
       "  'likeCount': 0,\n",
       "  'publishedAt': '2021-07-10T17:49:26Z',\n",
       "  'updatedAt': '2021-07-10T17:51:08Z',\n",
       "  'replies': None}}"
      ]
     },
     "execution_count": 8,
     "metadata": {},
     "output_type": "execute_result"
    }
   ],
   "source": [
    "d4 = ast.literal_eval(df4.iat[0, 2])\n",
    "d4"
   ]
  },
  {
   "cell_type": "code",
   "execution_count": 16,
   "id": "bff7aaa2",
   "metadata": {},
   "outputs": [],
   "source": [
    "def DictChange3(dIn3):\n",
    "    dOut3 = dIn3\n",
    "    dOut3['commentContent']['textOriginal'] = TextCleansing(dOut3['commentContent'].get('textOriginal'))  \n",
    "    \n",
    "    return dOut3"
   ]
  },
  {
   "cell_type": "code",
   "execution_count": 17,
   "id": "756956ba",
   "metadata": {},
   "outputs": [
    {
     "data": {
      "text/plain": [
       "{'commentContent': {'id': 'UgwyAlcYeyzk6F7sant4AaABAg',\n",
       "  'authorDisplayName': 'Federico Alvarez',\n",
       "  'textOriginal': 'GRACIAS A LOS TROLL-OS KK Y GLOBOS ZURDOS EMPOBRECEDORES QUE POR VIVIR DE ESPERT LO AYUDAN EN EL ALGORITMO DE YOUTUBE PARA AUMENTAR SUS VISITAS Y ENCIMA ESTN SUBSCRIPTOS. ESTN LOGRANDO EL EFECTO CONTRARIO VIVA LA LIBERTAD CARAJO!! AVANZA LIBERTAD #ESPERT2021',\n",
       "  'likeCount': 0,\n",
       "  'publishedAt': '2021-07-10T17:49:26Z',\n",
       "  'updatedAt': '2021-07-10T17:51:08Z',\n",
       "  'replies': None}}"
      ]
     },
     "execution_count": 17,
     "metadata": {},
     "output_type": "execute_result"
    }
   ],
   "source": [
    "d5 = DictChange3(d4)\n",
    "d5"
   ]
  },
  {
   "cell_type": "code",
   "execution_count": 15,
   "id": "ab4dbb53",
   "metadata": {},
   "outputs": [],
   "source": [
    "df4['Output2'] = ''"
   ]
  },
  {
   "cell_type": "code",
   "execution_count": 18,
   "id": "b3b1f7cc",
   "metadata": {},
   "outputs": [],
   "source": [
    "for i in range(0, len(df4.Output1)):\n",
    "    df4.iat[i, 6] = DictChange3(ast.literal_eval(df4.iat[i, 2]))"
   ]
  },
  {
   "cell_type": "code",
   "execution_count": 20,
   "id": "f9763297",
   "metadata": {},
   "outputs": [],
   "source": [
    "df4 = df4.drop(['Output1'], axis = 1)\n",
    "df4.rename(columns ={'Output2': 'Output1'}, inplace = True)\n",
    "df4 = df4.reindex(columns = ['Key1', 'Key2', 'Output1', 'ExtractionDateTime', 'ExtrMethod', 'ExtrType'])"
   ]
  },
  {
   "cell_type": "code",
   "execution_count": 21,
   "id": "34f437c1",
   "metadata": {},
   "outputs": [
    {
     "data": {
      "text/html": [
       "<div>\n",
       "<style scoped>\n",
       "    .dataframe tbody tr th:only-of-type {\n",
       "        vertical-align: middle;\n",
       "    }\n",
       "\n",
       "    .dataframe tbody tr th {\n",
       "        vertical-align: top;\n",
       "    }\n",
       "\n",
       "    .dataframe thead th {\n",
       "        text-align: right;\n",
       "    }\n",
       "</style>\n",
       "<table border=\"1\" class=\"dataframe\">\n",
       "  <thead>\n",
       "    <tr style=\"text-align: right;\">\n",
       "      <th></th>\n",
       "      <th>Key1</th>\n",
       "      <th>Key2</th>\n",
       "      <th>Output1</th>\n",
       "      <th>ExtractionDateTime</th>\n",
       "      <th>ExtrMethod</th>\n",
       "      <th>ExtrType</th>\n",
       "    </tr>\n",
       "  </thead>\n",
       "  <tbody>\n",
       "    <tr>\n",
       "      <th>0</th>\n",
       "      <td>UC_vhdXDVvZQGMqQFDgn0w1g</td>\n",
       "      <td>Fw4BdsJJVYY</td>\n",
       "      <td>{'commentContent': {'id': 'UgwyAlcYeyzk6F7sant...</td>\n",
       "      <td>2021-07-10 15:26:05 -0300</td>\n",
       "      <td>Automatic</td>\n",
       "      <td>VideoComments-YouTube</td>\n",
       "    </tr>\n",
       "    <tr>\n",
       "      <th>1</th>\n",
       "      <td>UC_vhdXDVvZQGMqQFDgn0w1g</td>\n",
       "      <td>Fw4BdsJJVYY</td>\n",
       "      <td>{'commentContent': {'id': 'Ugwz-7OWgFpytZ7YTuJ...</td>\n",
       "      <td>2021-07-10 15:26:05 -0300</td>\n",
       "      <td>Automatic</td>\n",
       "      <td>VideoComments-YouTube</td>\n",
       "    </tr>\n",
       "    <tr>\n",
       "      <th>2</th>\n",
       "      <td>UC_vhdXDVvZQGMqQFDgn0w1g</td>\n",
       "      <td>Fw4BdsJJVYY</td>\n",
       "      <td>{'commentContent': {'id': 'UgxV2G5LDwAI8kvyfIh...</td>\n",
       "      <td>2021-07-10 15:26:05 -0300</td>\n",
       "      <td>Automatic</td>\n",
       "      <td>VideoComments-YouTube</td>\n",
       "    </tr>\n",
       "    <tr>\n",
       "      <th>3</th>\n",
       "      <td>UC_vhdXDVvZQGMqQFDgn0w1g</td>\n",
       "      <td>Fw4BdsJJVYY</td>\n",
       "      <td>{'commentContent': {'id': 'Ugx5oRl_y8sbLTBrKlh...</td>\n",
       "      <td>2021-07-10 15:26:05 -0300</td>\n",
       "      <td>Automatic</td>\n",
       "      <td>VideoComments-YouTube</td>\n",
       "    </tr>\n",
       "    <tr>\n",
       "      <th>4</th>\n",
       "      <td>UC_vhdXDVvZQGMqQFDgn0w1g</td>\n",
       "      <td>Fw4BdsJJVYY</td>\n",
       "      <td>{'commentContent': {'id': 'UgyANTT5sk2BVMOsZQt...</td>\n",
       "      <td>2021-07-10 15:26:05 -0300</td>\n",
       "      <td>Automatic</td>\n",
       "      <td>VideoComments-YouTube</td>\n",
       "    </tr>\n",
       "  </tbody>\n",
       "</table>\n",
       "</div>"
      ],
      "text/plain": [
       "                       Key1         Key2  \\\n",
       "0  UC_vhdXDVvZQGMqQFDgn0w1g  Fw4BdsJJVYY   \n",
       "1  UC_vhdXDVvZQGMqQFDgn0w1g  Fw4BdsJJVYY   \n",
       "2  UC_vhdXDVvZQGMqQFDgn0w1g  Fw4BdsJJVYY   \n",
       "3  UC_vhdXDVvZQGMqQFDgn0w1g  Fw4BdsJJVYY   \n",
       "4  UC_vhdXDVvZQGMqQFDgn0w1g  Fw4BdsJJVYY   \n",
       "\n",
       "                                             Output1  \\\n",
       "0  {'commentContent': {'id': 'UgwyAlcYeyzk6F7sant...   \n",
       "1  {'commentContent': {'id': 'Ugwz-7OWgFpytZ7YTuJ...   \n",
       "2  {'commentContent': {'id': 'UgxV2G5LDwAI8kvyfIh...   \n",
       "3  {'commentContent': {'id': 'Ugx5oRl_y8sbLTBrKlh...   \n",
       "4  {'commentContent': {'id': 'UgyANTT5sk2BVMOsZQt...   \n",
       "\n",
       "          ExtractionDateTime ExtrMethod               ExtrType  \n",
       "0  2021-07-10 15:26:05 -0300  Automatic  VideoComments-YouTube  \n",
       "1  2021-07-10 15:26:05 -0300  Automatic  VideoComments-YouTube  \n",
       "2  2021-07-10 15:26:05 -0300  Automatic  VideoComments-YouTube  \n",
       "3  2021-07-10 15:26:05 -0300  Automatic  VideoComments-YouTube  \n",
       "4  2021-07-10 15:26:05 -0300  Automatic  VideoComments-YouTube  "
      ]
     },
     "execution_count": 21,
     "metadata": {},
     "output_type": "execute_result"
    }
   ],
   "source": [
    "df4.head()"
   ]
  },
  {
   "cell_type": "code",
   "execution_count": 23,
   "id": "1b82c8cd",
   "metadata": {},
   "outputs": [],
   "source": [
    "DF = pd.read_csv('C:/Users/Esteban Guerrero/SocialNetworkProject/Iteration2/Datasets/NetworkFeedRawOutput.csv', index_col = False, encoding = 'ISO-8859-1')\n",
    "DF = DF.append(df4, ignore_index = True)\n",
    "\n",
    "DF.to_csv('C:/Users/Esteban Guerrero/SocialNetworkProject/Iteration2/Datasets/NetworkFeedRawOutput.csv', index = False)"
   ]
  },
  {
   "cell_type": "code",
   "execution_count": null,
   "id": "ed49d4d7",
   "metadata": {},
   "outputs": [],
   "source": []
  },
  {
   "cell_type": "code",
   "execution_count": null,
   "id": "042e82d0",
   "metadata": {},
   "outputs": [],
   "source": [
    "# Migrate Instagram comments data"
   ]
  },
  {
   "cell_type": "code",
   "execution_count": 4,
   "id": "522f3a57",
   "metadata": {},
   "outputs": [],
   "source": [
    "df10 = pd.read_csv('C:/Users/Esteban Guerrero/SocialNetworkProject/Datasets/NetworkFeedRawOutput.csv',\n",
    "                  index_col = False, encoding = 'ISO-8859-1')\n",
    "df5 = df10[df10.ExtrType.str.contains('PostComments-Instagram')].reset_index(drop = True)"
   ]
  },
  {
   "cell_type": "code",
   "execution_count": 5,
   "id": "f186acd3",
   "metadata": {},
   "outputs": [
    {
     "data": {
      "text/html": [
       "<div>\n",
       "<style scoped>\n",
       "    .dataframe tbody tr th:only-of-type {\n",
       "        vertical-align: middle;\n",
       "    }\n",
       "\n",
       "    .dataframe tbody tr th {\n",
       "        vertical-align: top;\n",
       "    }\n",
       "\n",
       "    .dataframe thead th {\n",
       "        text-align: right;\n",
       "    }\n",
       "</style>\n",
       "<table border=\"1\" class=\"dataframe\">\n",
       "  <thead>\n",
       "    <tr style=\"text-align: right;\">\n",
       "      <th></th>\n",
       "      <th>Key1</th>\n",
       "      <th>Key2</th>\n",
       "      <th>Output1</th>\n",
       "      <th>ExtractionDateTime</th>\n",
       "      <th>ExtrMethod</th>\n",
       "      <th>ExtrType</th>\n",
       "    </tr>\n",
       "  </thead>\n",
       "  <tbody>\n",
       "    <tr>\n",
       "      <th>0</th>\n",
       "      <td>javiermilei</td>\n",
       "      <td>CQ_PzBNj4nT</td>\n",
       "      <td>{'User': 'Milei', 'CommentLine': {'Author': 'a...</td>\n",
       "      <td>2021-07-08 11:21:47 -0300</td>\n",
       "      <td>Automatic</td>\n",
       "      <td>PostComments-Instagram</td>\n",
       "    </tr>\n",
       "    <tr>\n",
       "      <th>1</th>\n",
       "      <td>javiermilei</td>\n",
       "      <td>CQ_PzBNj4nT</td>\n",
       "      <td>{'User': 'Milei', 'CommentLine': {'Author': 'j...</td>\n",
       "      <td>2021-07-08 11:21:47 -0300</td>\n",
       "      <td>Automatic</td>\n",
       "      <td>PostComments-Instagram</td>\n",
       "    </tr>\n",
       "    <tr>\n",
       "      <th>2</th>\n",
       "      <td>javiermilei</td>\n",
       "      <td>CQ_PzBNj4nT</td>\n",
       "      <td>{'User': 'Milei', 'CommentLine': {'Author': 'j...</td>\n",
       "      <td>2021-07-08 11:21:47 -0300</td>\n",
       "      <td>Automatic</td>\n",
       "      <td>PostComments-Instagram</td>\n",
       "    </tr>\n",
       "    <tr>\n",
       "      <th>3</th>\n",
       "      <td>javiermilei</td>\n",
       "      <td>CQ_PzBNj4nT</td>\n",
       "      <td>{'User': 'Milei', 'CommentLine': {'Author': 'p...</td>\n",
       "      <td>2021-07-08 11:21:47 -0300</td>\n",
       "      <td>Automatic</td>\n",
       "      <td>PostComments-Instagram</td>\n",
       "    </tr>\n",
       "    <tr>\n",
       "      <th>4</th>\n",
       "      <td>javiermilei</td>\n",
       "      <td>CQ_PzBNj4nT</td>\n",
       "      <td>{'User': 'Milei', 'CommentLine': {'Author': 'm...</td>\n",
       "      <td>2021-07-08 11:21:47 -0300</td>\n",
       "      <td>Automatic</td>\n",
       "      <td>PostComments-Instagram</td>\n",
       "    </tr>\n",
       "  </tbody>\n",
       "</table>\n",
       "</div>"
      ],
      "text/plain": [
       "          Key1         Key2  \\\n",
       "0  javiermilei  CQ_PzBNj4nT   \n",
       "1  javiermilei  CQ_PzBNj4nT   \n",
       "2  javiermilei  CQ_PzBNj4nT   \n",
       "3  javiermilei  CQ_PzBNj4nT   \n",
       "4  javiermilei  CQ_PzBNj4nT   \n",
       "\n",
       "                                             Output1  \\\n",
       "0  {'User': 'Milei', 'CommentLine': {'Author': 'a...   \n",
       "1  {'User': 'Milei', 'CommentLine': {'Author': 'j...   \n",
       "2  {'User': 'Milei', 'CommentLine': {'Author': 'j...   \n",
       "3  {'User': 'Milei', 'CommentLine': {'Author': 'p...   \n",
       "4  {'User': 'Milei', 'CommentLine': {'Author': 'm...   \n",
       "\n",
       "          ExtractionDateTime ExtrMethod                ExtrType  \n",
       "0  2021-07-08 11:21:47 -0300  Automatic  PostComments-Instagram  \n",
       "1  2021-07-08 11:21:47 -0300  Automatic  PostComments-Instagram  \n",
       "2  2021-07-08 11:21:47 -0300  Automatic  PostComments-Instagram  \n",
       "3  2021-07-08 11:21:47 -0300  Automatic  PostComments-Instagram  \n",
       "4  2021-07-08 11:21:47 -0300  Automatic  PostComments-Instagram  "
      ]
     },
     "execution_count": 5,
     "metadata": {},
     "output_type": "execute_result"
    }
   ],
   "source": [
    "df5.head()"
   ]
  },
  {
   "cell_type": "code",
   "execution_count": 6,
   "id": "e563fcb8",
   "metadata": {},
   "outputs": [
    {
     "data": {
      "text/plain": [
       "{'User': 'Milei',\n",
       " 'CommentLine': {'Author': 'axel.exequiel11',\n",
       "  'Likes': '131 likes',\n",
       "  'Date': '2021-07-06T14:00:15.000Z',\n",
       "  'Comment': 'Por ayudar a mucha gente a entender de economÃ\\x83Â\\x83Ã\\x82Â\\x83Ã\\x83Â\\x82Ã\\x82Â\\x83Ã\\x83Â\\x83Ã\\x82Â\\x82Ã\\x83Â\\x82Ã\\x82Â\\x83Ã\\x83Â\\x83Ã\\x82Â\\x83Ã\\x83Â\\x82Ã\\x82Â\\x82Ã\\x83Â\\x83Ã\\x82Â\\x82Ã\\x83Â\\x82Ã\\x82Â\\x83Ã\\x83Â\\x83Ã\\x82Â\\x83Ã\\x83Â\\x82Ã\\x82Â\\x83Ã\\x83Â\\x83Ã\\x82Â\\x82Ã\\x83Â\\x82Ã\\x82Â\\x82Ã\\x83Â\\x83Ã\\x82Â\\x83Ã\\x83Â\\x82Ã\\x82Â\\x82Ã\\x83Â\\x83Ã\\x82Â\\x82Ã\\x83Â\\x82Ã\\x82Â\\x83Ã\\x83Â\\x83Ã\\x82Â\\x83Ã\\x83Â\\x82Ã\\x82Â\\x83Ã\\x83Â\\x83Ã\\x82Â\\x82Ã\\x83Â\\x82Ã\\x82Â\\x83Ã\\x83Â\\x83Ã\\x82Â\\x83Ã\\x83Â\\x82Ã\\x82Â\\x82Ã\\x83Â\\x83Ã\\x82Â\\x82Ã\\x83Â\\x82Ã\\x82Â\\x82Ã\\x83Â\\x83Ã\\x82Â\\x83Ã\\x83Â\\x82Ã\\x82Â\\x83Ã\\x83Â\\x83Ã\\x82Â\\x82Ã\\x83Â\\x82Ã\\x82Â\\x82Ã\\x83Â\\x83Ã\\x82Â\\x83Ã\\x83Â\\x82Ã\\x82Â\\x82Ã\\x83Â\\x83Ã\\x82Â\\x82Ã\\x83Â\\x82Ã\\x82Â\\x83Ã\\x83Â\\x83Ã\\x82Â\\x83Ã\\x83Â\\x82Ã\\x82Â\\x83Ã\\x83Â\\x83Ã\\x82Â\\x82Ã\\x83Â\\x82Ã\\x82Â\\x83Ã\\x83Â\\x83Ã\\x82Â\\x83Ã\\x83Â\\x82Ã\\x82Â\\x82Ã\\x83Â\\x83Ã\\x82Â\\x82Ã\\x83Â\\x82Ã\\x82Â\\x83Ã\\x83Â\\x83Ã\\x82Â\\x83Ã\\x83Â\\x82Ã\\x82Â\\x83Ã\\x83Â\\x83Ã\\x82Â\\x82Ã\\x83Â\\x82Ã\\x82Â\\x82Ã\\x83Â\\x83Ã\\x82Â\\x83Ã\\x83Â\\x82Ã\\x82Â\\x82Ã\\x83Â\\x83Ã\\x82Â\\x82Ã\\x83Â\\x82Ã\\x82Â\\x82Ã\\x83Â\\x83Ã\\x82Â\\x83Ã\\x83Â\\x82Ã\\x82Â\\x83Ã\\x83Â\\x83Ã\\x82Â\\x82Ã\\x83Â\\x82Ã\\x82Â\\x83Ã\\x83Â\\x83Ã\\x82Â\\x83Ã\\x83Â\\x82Ã\\x82Â\\x82Ã\\x83Â\\x83Ã\\x82Â\\x82Ã\\x83Â\\x82Ã\\x82Â\\x82Ã\\x83Â\\x83Ã\\x82Â\\x83Ã\\x83Â\\x82Ã\\x82Â\\x83Ã\\x83Â\\x83Ã\\x82Â\\x82Ã\\x83Â\\x82Ã\\x82Â\\x82Ã\\x83Â\\x83Ã\\x82Â\\x83Ã\\x83Â\\x82Ã\\x82Â\\x82Ã\\x83Â\\x83Ã\\x82Â\\x82Ã\\x83Â\\x82Ã\\x82Â\\xada, mÃ\\x83Â\\x83Ã\\x82Â\\x83Ã\\x83Â\\x82Ã\\x82Â\\x83Ã\\x83Â\\x83Ã\\x82Â\\x82Ã\\x83Â\\x82Ã\\x82Â\\x83Ã\\x83Â\\x83Ã\\x82Â\\x83Ã\\x83Â\\x82Ã\\x82Â\\x82Ã\\x83Â\\x83Ã\\x82Â\\x82Ã\\x83Â\\x82Ã\\x82Â\\x83Ã\\x83Â\\x83Ã\\x82Â\\x83Ã\\x83Â\\x82Ã\\x82Â\\x83Ã\\x83Â\\x83Ã\\x82Â\\x82Ã\\x83Â\\x82Ã\\x82Â\\x82Ã\\x83Â\\x83Ã\\x82Â\\x83Ã\\x83Â\\x82Ã\\x82Â\\x82Ã\\x83Â\\x83Ã\\x82Â\\x82Ã\\x83Â\\x82Ã\\x82Â\\x83Ã\\x83Â\\x83Ã\\x82Â\\x83Ã\\x83Â\\x82Ã\\x82Â\\x83Ã\\x83Â\\x83Ã\\x82Â\\x82Ã\\x83Â\\x82Ã\\x82Â\\x83Ã\\x83Â\\x83Ã\\x82Â\\x83Ã\\x83Â\\x82Ã\\x82Â\\x82Ã\\x83Â\\x83Ã\\x82Â\\x82Ã\\x83Â\\x82Ã\\x82Â\\x82Ã\\x83Â\\x83Ã\\x82Â\\x83Ã\\x83Â\\x82Ã\\x82Â\\x83Ã\\x83Â\\x83Ã\\x82Â\\x82Ã\\x83Â\\x82Ã\\x82Â\\x82Ã\\x83Â\\x83Ã\\x82Â\\x83Ã\\x83Â\\x82Ã\\x82Â\\x82Ã\\x83Â\\x83Ã\\x82Â\\x82Ã\\x83Â\\x82Ã\\x82Â\\x83Ã\\x83Â\\x83Ã\\x82Â\\x83Ã\\x83Â\\x82Ã\\x82Â\\x83Ã\\x83Â\\x83Ã\\x82Â\\x82Ã\\x83Â\\x82Ã\\x82Â\\x83Ã\\x83Â\\x83Ã\\x82Â\\x83Ã\\x83Â\\x82Ã\\x82Â\\x82Ã\\x83Â\\x83Ã\\x82Â\\x82Ã\\x83Â\\x82Ã\\x82Â\\x83Ã\\x83Â\\x83Ã\\x82Â\\x83Ã\\x83Â\\x82Ã\\x82Â\\x83Ã\\x83Â\\x83Ã\\x82Â\\x82Ã\\x83Â\\x82Ã\\x82Â\\x82Ã\\x83Â\\x83Ã\\x82Â\\x83Ã\\x83Â\\x82Ã\\x82Â\\x82Ã\\x83Â\\x83Ã\\x82Â\\x82Ã\\x83Â\\x82Ã\\x82Â\\x82Ã\\x83Â\\x83Ã\\x82Â\\x83Ã\\x83Â\\x82Ã\\x82Â\\x83Ã\\x83Â\\x83Ã\\x82Â\\x82Ã\\x83Â\\x82Ã\\x82Â\\x83Ã\\x83Â\\x83Ã\\x82Â\\x83Ã\\x83Â\\x82Ã\\x82Â\\x82Ã\\x83Â\\x83Ã\\x82Â\\x82Ã\\x83Â\\x82Ã\\x82Â\\x82Ã\\x83Â\\x83Ã\\x82Â\\x83Ã\\x83Â\\x82Ã\\x82Â\\x83Ã\\x83Â\\x83Ã\\x82Â\\x82Ã\\x83Â\\x82Ã\\x82Â\\x82Ã\\x83Â\\x83Ã\\x82Â\\x83Ã\\x83Â\\x82Ã\\x82Â\\x82Ã\\x83Â\\x83Ã\\x82Â\\x82Ã\\x83Â\\x82Ã\\x82Â¡s que merecido javiÃ\\x83Â\\x83Ã\\x82Â\\x83Ã\\x83Â\\x82Ã\\x82Â\\x83Ã\\x83Â\\x83Ã\\x82Â\\x82Ã\\x83Â\\x82Ã\\x82Â\\x83Ã\\x83Â\\x83Ã\\x82Â\\x83Ã\\x83Â\\x82Ã\\x82Â\\x82Ã\\x83Â\\x83Ã\\x82Â\\x82Ã\\x83Â\\x82Ã\\x82Â\\x83Ã\\x83Â\\x83Ã\\x82Â\\x83Ã\\x83Â\\x82Ã\\x82Â\\x83Ã\\x83Â\\x83Ã\\x82Â\\x82Ã\\x83Â\\x82Ã\\x82Â\\x82Ã\\x83Â\\x83Ã\\x82Â\\x83Ã\\x83Â\\x82Ã\\x82Â\\x82Ã\\x83Â\\x83Ã\\x82Â\\x82Ã\\x83Â\\x82Ã\\x82Â\\x83Ã\\x83Â\\x83Ã\\x82Â\\x83Ã\\x83Â\\x82Ã\\x82Â\\x83Ã\\x83Â\\x83Ã\\x82Â\\x82Ã\\x83Â\\x82Ã\\x82Â\\x83Ã\\x83Â\\x83Ã\\x82Â\\x83Ã\\x83Â\\x82Ã\\x82Â\\x82Ã\\x83Â\\x83Ã\\x82Â\\x82Ã\\x83Â\\x82Ã\\x82Â\\x82Ã\\x83Â\\x83Ã\\x82Â\\x83Ã\\x83Â\\x82Ã\\x82Â\\x83Ã\\x83Â\\x83Ã\\x82Â\\x82Ã\\x83Â\\x82Ã\\x82Â\\x82Ã\\x83Â\\x83Ã\\x82Â\\x83Ã\\x83Â\\x82Ã\\x82Â\\x82Ã\\x83Â\\x83Ã\\x82Â\\x82Ã\\x83Â\\x82Ã\\x82Â°Ã\\x83Â\\x83Ã\\x82Â\\x83Ã\\x83Â\\x82Ã\\x82Â\\x83Ã\\x83Â\\x83Ã\\x82Â\\x82Ã\\x83Â\\x82Ã\\x82Â\\x83Ã\\x83Â\\x83Ã\\x82Â\\x83Ã\\x83Â\\x82Ã\\x82Â\\x82Ã\\x83Â\\x83Ã\\x82Â\\x82Ã\\x83Â\\x82Ã\\x82Â\\x83Ã\\x83Â\\x83Ã\\x82Â\\x83Ã\\x83Â\\x82Ã\\x82Â\\x83Ã\\x83Â\\x83Ã\\x82Â\\x82Ã\\x83Â\\x82Ã\\x82Â\\x82Ã\\x83Â\\x83Ã\\x82Â\\x83Ã\\x83Â\\x82Ã\\x82Â\\x82Ã\\x83Â\\x83Ã\\x82Â\\x82Ã\\x83Â\\x82Ã\\x82Â\\x82Ã\\x83Â\\x83Ã\\x82Â\\x83Ã\\x83Â\\x82Ã\\x82Â\\x83Ã\\x83Â\\x83Ã\\x82Â\\x82Ã\\x83Â\\x82Ã\\x82Â\\x83Ã\\x83Â\\x83Ã\\x82Â\\x83Ã\\x83Â\\x82Ã\\x82Â\\x82Ã\\x83Â\\x83Ã\\x82Â\\x82Ã\\x83Â\\x82Ã\\x82Â\\x82Ã\\x83Â\\x83Ã\\x82Â\\x83Ã\\x83Â\\x82Ã\\x82Â\\x83Ã\\x83Â\\x83Ã\\x82Â\\x82Ã\\x83Â\\x82Ã\\x82Â\\x82Ã\\x83Â\\x83Ã\\x82Â\\x83Ã\\x83Â\\x82Ã\\x82Â\\x82Ã\\x83Â\\x83Ã\\x82Â\\x82Ã\\x83Â\\x82Ã\\x82Â\\x9fÃ\\x83Â\\x83Ã\\x82Â\\x83Ã\\x83Â\\x82Ã\\x82Â\\x83Ã\\x83Â\\x83Ã\\x82Â\\x82Ã\\x83Â\\x82Ã\\x82Â\\x83Ã\\x83Â\\x83Ã\\x82Â\\x83Ã\\x83Â\\x82Ã\\x82Â\\x82Ã\\x83Â\\x83Ã\\x82Â\\x82Ã\\x83Â\\x82Ã\\x82Â\\x83Ã\\x83Â\\x83Ã\\x82Â\\x83Ã\\x83Â\\x82Ã\\x82Â\\x83Ã\\x83Â\\x83Ã\\x82Â\\x82Ã\\x83Â\\x82Ã\\x82Â\\x82Ã\\x83Â\\x83Ã\\x82Â\\x83Ã\\x83Â\\x82Ã\\x82Â\\x82Ã\\x83Â\\x83Ã\\x82Â\\x82Ã\\x83Â\\x82Ã\\x82Â\\x82Ã\\x83Â\\x83Ã\\x82Â\\x83Ã\\x83Â\\x82Ã\\x82Â\\x83Ã\\x83Â\\x83Ã\\x82Â\\x82Ã\\x83Â\\x82Ã\\x82Â\\x83Ã\\x83Â\\x83Ã\\x82Â\\x83Ã\\x83Â\\x82Ã\\x82Â\\x82Ã\\x83Â\\x83Ã\\x82Â\\x82Ã\\x83Â\\x82Ã\\x82Â\\x82Ã\\x83Â\\x83Ã\\x82Â\\x83Ã\\x83Â\\x82Ã\\x82Â\\x83Ã\\x83Â\\x83Ã\\x82Â\\x82Ã\\x83Â\\x82Ã\\x82Â\\x82Ã\\x83Â\\x83Ã\\x82Â\\x83Ã\\x83Â\\x82Ã\\x82Â\\x82Ã\\x83Â\\x83Ã\\x82Â\\x82Ã\\x83Â\\x82Ã\\x82Â\\x91Ã\\x83Â\\x83Ã\\x82Â\\x83Ã\\x83Â\\x82Ã\\x82Â\\x83Ã\\x83Â\\x83Ã\\x82Â\\x82Ã\\x83Â\\x82Ã\\x82Â\\x83Ã\\x83Â\\x83Ã\\x82Â\\x83Ã\\x83Â\\x82Ã\\x82Â\\x82Ã\\x83Â\\x83Ã\\x82Â\\x82Ã\\x83Â\\x82Ã\\x82Â\\x83Ã\\x83Â\\x83Ã\\x82Â\\x83Ã\\x83Â\\x82Ã\\x82Â\\x83Ã\\x83Â\\x83Ã\\x82Â\\x82Ã\\x83Â\\x82Ã\\x82Â\\x82Ã\\x83Â\\x83Ã\\x82Â\\x83Ã\\x83Â\\x82Ã\\x82Â\\x82Ã\\x83Â\\x83Ã\\x82Â\\x82Ã\\x83Â\\x82Ã\\x82Â\\x82Ã\\x83Â\\x83Ã\\x82Â\\x83Ã\\x83Â\\x82Ã\\x82Â\\x83Ã\\x83Â\\x83Ã\\x82Â\\x82Ã\\x83Â\\x82Ã\\x82Â\\x83Ã\\x83Â\\x83Ã\\x82Â\\x83Ã\\x83Â\\x82Ã\\x82Â\\x82Ã\\x83Â\\x83Ã\\x82Â\\x82Ã\\x83Â\\x82Ã\\x82Â\\x82Ã\\x83Â\\x83Ã\\x82Â\\x83Ã\\x83Â\\x82Ã\\x82Â\\x83Ã\\x83Â\\x83Ã\\x82Â\\x82Ã\\x83Â\\x82Ã\\x82Â\\x82Ã\\x83Â\\x83Ã\\x82Â\\x83Ã\\x83Â\\x82Ã\\x82Â\\x82Ã\\x83Â\\x83Ã\\x82Â\\x82Ã\\x83Â\\x82Ã\\x82Â\\x8f'}}"
      ]
     },
     "execution_count": 6,
     "metadata": {},
     "output_type": "execute_result"
    }
   ],
   "source": [
    "d5 = ast.literal_eval(df5.iat[0, 2])\n",
    "d5"
   ]
  },
  {
   "cell_type": "code",
   "execution_count": 8,
   "id": "0b1e8bc4",
   "metadata": {},
   "outputs": [],
   "source": [
    "def DictChange4(dIn3):\n",
    "    dOut3 = dIn3\n",
    "    dOut3['CommentLine']['Author'] = TextCleansing(dOut3['CommentLine'].get('Author'))\n",
    "    dOut3['CommentLine']['Comment'] = TextCleansing(dOut3['CommentLine'].get('Comment'))  \n",
    "    \n",
    "    return dOut3"
   ]
  },
  {
   "cell_type": "code",
   "execution_count": 10,
   "id": "6622616f",
   "metadata": {},
   "outputs": [
    {
     "data": {
      "text/plain": [
       "{'User': 'Milei',\n",
       " 'CommentLine': {'Author': 'AXEL.EXEQUIEL11',\n",
       "  'Likes': '131 likes',\n",
       "  'Date': '2021-07-06T14:00:15.000Z',\n",
       "  'Comment': 'POR AYUDAR A MUCHA GENTE A ENTENDER DE ECONOMA, MS QUE MERECIDO JAVI'}}"
      ]
     },
     "execution_count": 10,
     "metadata": {},
     "output_type": "execute_result"
    }
   ],
   "source": [
    "d6 = DictChange4(d5)\n",
    "d6"
   ]
  },
  {
   "cell_type": "code",
   "execution_count": 11,
   "id": "a5a32c99",
   "metadata": {},
   "outputs": [],
   "source": [
    "df5['Output2'] = ''"
   ]
  },
  {
   "cell_type": "code",
   "execution_count": 12,
   "id": "51a858f7",
   "metadata": {},
   "outputs": [],
   "source": [
    "for i in range(0, len(df5.Output1)):\n",
    "    df5.iat[i, 6] = DictChange4(ast.literal_eval(df5.iat[i, 2]))"
   ]
  },
  {
   "cell_type": "code",
   "execution_count": 13,
   "id": "821f70d3",
   "metadata": {},
   "outputs": [],
   "source": [
    "df5 = df5.drop(['Output1'], axis = 1)\n",
    "df5.rename(columns ={'Output2': 'Output1'}, inplace = True)\n",
    "df5 = df5.reindex(columns = ['Key1', 'Key2', 'Output1', 'ExtractionDateTime', 'ExtrMethod', 'ExtrType'])"
   ]
  },
  {
   "cell_type": "code",
   "execution_count": 14,
   "id": "c7d250bd",
   "metadata": {},
   "outputs": [
    {
     "data": {
      "text/html": [
       "<div>\n",
       "<style scoped>\n",
       "    .dataframe tbody tr th:only-of-type {\n",
       "        vertical-align: middle;\n",
       "    }\n",
       "\n",
       "    .dataframe tbody tr th {\n",
       "        vertical-align: top;\n",
       "    }\n",
       "\n",
       "    .dataframe thead th {\n",
       "        text-align: right;\n",
       "    }\n",
       "</style>\n",
       "<table border=\"1\" class=\"dataframe\">\n",
       "  <thead>\n",
       "    <tr style=\"text-align: right;\">\n",
       "      <th></th>\n",
       "      <th>Key1</th>\n",
       "      <th>Key2</th>\n",
       "      <th>Output1</th>\n",
       "      <th>ExtractionDateTime</th>\n",
       "      <th>ExtrMethod</th>\n",
       "      <th>ExtrType</th>\n",
       "    </tr>\n",
       "  </thead>\n",
       "  <tbody>\n",
       "    <tr>\n",
       "      <th>0</th>\n",
       "      <td>javiermilei</td>\n",
       "      <td>CQ_PzBNj4nT</td>\n",
       "      <td>{'User': 'Milei', 'CommentLine': {'Author': 'A...</td>\n",
       "      <td>2021-07-08 11:21:47 -0300</td>\n",
       "      <td>Automatic</td>\n",
       "      <td>PostComments-Instagram</td>\n",
       "    </tr>\n",
       "    <tr>\n",
       "      <th>1</th>\n",
       "      <td>javiermilei</td>\n",
       "      <td>CQ_PzBNj4nT</td>\n",
       "      <td>{'User': 'Milei', 'CommentLine': {'Author': 'J...</td>\n",
       "      <td>2021-07-08 11:21:47 -0300</td>\n",
       "      <td>Automatic</td>\n",
       "      <td>PostComments-Instagram</td>\n",
       "    </tr>\n",
       "    <tr>\n",
       "      <th>2</th>\n",
       "      <td>javiermilei</td>\n",
       "      <td>CQ_PzBNj4nT</td>\n",
       "      <td>{'User': 'Milei', 'CommentLine': {'Author': 'J...</td>\n",
       "      <td>2021-07-08 11:21:47 -0300</td>\n",
       "      <td>Automatic</td>\n",
       "      <td>PostComments-Instagram</td>\n",
       "    </tr>\n",
       "    <tr>\n",
       "      <th>3</th>\n",
       "      <td>javiermilei</td>\n",
       "      <td>CQ_PzBNj4nT</td>\n",
       "      <td>{'User': 'Milei', 'CommentLine': {'Author': 'P...</td>\n",
       "      <td>2021-07-08 11:21:47 -0300</td>\n",
       "      <td>Automatic</td>\n",
       "      <td>PostComments-Instagram</td>\n",
       "    </tr>\n",
       "    <tr>\n",
       "      <th>4</th>\n",
       "      <td>javiermilei</td>\n",
       "      <td>CQ_PzBNj4nT</td>\n",
       "      <td>{'User': 'Milei', 'CommentLine': {'Author': 'M...</td>\n",
       "      <td>2021-07-08 11:21:47 -0300</td>\n",
       "      <td>Automatic</td>\n",
       "      <td>PostComments-Instagram</td>\n",
       "    </tr>\n",
       "  </tbody>\n",
       "</table>\n",
       "</div>"
      ],
      "text/plain": [
       "          Key1         Key2  \\\n",
       "0  javiermilei  CQ_PzBNj4nT   \n",
       "1  javiermilei  CQ_PzBNj4nT   \n",
       "2  javiermilei  CQ_PzBNj4nT   \n",
       "3  javiermilei  CQ_PzBNj4nT   \n",
       "4  javiermilei  CQ_PzBNj4nT   \n",
       "\n",
       "                                             Output1  \\\n",
       "0  {'User': 'Milei', 'CommentLine': {'Author': 'A...   \n",
       "1  {'User': 'Milei', 'CommentLine': {'Author': 'J...   \n",
       "2  {'User': 'Milei', 'CommentLine': {'Author': 'J...   \n",
       "3  {'User': 'Milei', 'CommentLine': {'Author': 'P...   \n",
       "4  {'User': 'Milei', 'CommentLine': {'Author': 'M...   \n",
       "\n",
       "          ExtractionDateTime ExtrMethod                ExtrType  \n",
       "0  2021-07-08 11:21:47 -0300  Automatic  PostComments-Instagram  \n",
       "1  2021-07-08 11:21:47 -0300  Automatic  PostComments-Instagram  \n",
       "2  2021-07-08 11:21:47 -0300  Automatic  PostComments-Instagram  \n",
       "3  2021-07-08 11:21:47 -0300  Automatic  PostComments-Instagram  \n",
       "4  2021-07-08 11:21:47 -0300  Automatic  PostComments-Instagram  "
      ]
     },
     "execution_count": 14,
     "metadata": {},
     "output_type": "execute_result"
    }
   ],
   "source": [
    "df5.head()"
   ]
  },
  {
   "cell_type": "code",
   "execution_count": 15,
   "id": "a25c2b3d",
   "metadata": {},
   "outputs": [],
   "source": [
    "DF = pd.read_csv('C:/Users/Esteban Guerrero/SocialNetworkProject/Iteration2/Datasets/NetworkFeedRawOutput.csv', index_col = False, encoding = 'ISO-8859-1')\n",
    "DF = DF.append(df5, ignore_index = True)\n",
    "\n",
    "DF.to_csv('C:/Users/Esteban Guerrero/SocialNetworkProject/Iteration2/Datasets/NetworkFeedRawOutput.csv', index = False)"
   ]
  },
  {
   "cell_type": "code",
   "execution_count": 9,
   "id": "40a5b518",
   "metadata": {},
   "outputs": [],
   "source": [
    "# Remove YouTube video comments"
   ]
  },
  {
   "cell_type": "code",
   "execution_count": 10,
   "id": "b4b5efef",
   "metadata": {},
   "outputs": [],
   "source": [
    "df10 = pd.read_csv('C:/Users/Esteban Guerrero/SocialNetworkProject/Iteration2/Datasets/NetworkFeedRawOutput.csv',\n",
    "                  index_col = False, encoding = 'ISO-8859-1')"
   ]
  },
  {
   "cell_type": "code",
   "execution_count": 11,
   "id": "90483ac2",
   "metadata": {},
   "outputs": [
    {
     "data": {
      "text/html": [
       "<div>\n",
       "<style scoped>\n",
       "    .dataframe tbody tr th:only-of-type {\n",
       "        vertical-align: middle;\n",
       "    }\n",
       "\n",
       "    .dataframe tbody tr th {\n",
       "        vertical-align: top;\n",
       "    }\n",
       "\n",
       "    .dataframe thead th {\n",
       "        text-align: right;\n",
       "    }\n",
       "</style>\n",
       "<table border=\"1\" class=\"dataframe\">\n",
       "  <thead>\n",
       "    <tr style=\"text-align: right;\">\n",
       "      <th></th>\n",
       "      <th>Key1</th>\n",
       "      <th>Key2</th>\n",
       "      <th>Output1</th>\n",
       "      <th>ExtractionDateTime</th>\n",
       "      <th>ExtrMethod</th>\n",
       "      <th>ExtrType</th>\n",
       "    </tr>\n",
       "  </thead>\n",
       "  <tbody>\n",
       "    <tr>\n",
       "      <th>0</th>\n",
       "      <td>Claudiaguerrerobr</td>\n",
       "      <td>NaN</td>\n",
       "      <td>{'User': 'ClauG', 'Profile': {'description': '...</td>\n",
       "      <td>2021-07-08 11:21:47 -0300</td>\n",
       "      <td>Automatic</td>\n",
       "      <td>ProfileID-Instagram</td>\n",
       "    </tr>\n",
       "    <tr>\n",
       "      <th>1</th>\n",
       "      <td>Claudiaguerrerobr</td>\n",
       "      <td>NaN</td>\n",
       "      <td>{'User': 'ClauG', 'Profile': {'description': '...</td>\n",
       "      <td>2021-07-12 16:32:02 -0300</td>\n",
       "      <td>Automatic</td>\n",
       "      <td>ProfileID-Instagram</td>\n",
       "    </tr>\n",
       "    <tr>\n",
       "      <th>2</th>\n",
       "      <td>Claudiaguerrerobr</td>\n",
       "      <td>NaN</td>\n",
       "      <td>{'User': 'ClauG', 'Profile': {'description': '...</td>\n",
       "      <td>2021-07-13 15:21:50 -0300</td>\n",
       "      <td>Automatic</td>\n",
       "      <td>ProfileID-Instagram</td>\n",
       "    </tr>\n",
       "    <tr>\n",
       "      <th>3</th>\n",
       "      <td>javiermilei</td>\n",
       "      <td>NaN</td>\n",
       "      <td>{'User': 'Milei', 'Profile': {'description': '...</td>\n",
       "      <td>2021-07-08 11:21:47 -0300</td>\n",
       "      <td>Automatic</td>\n",
       "      <td>ProfileID-Instagram</td>\n",
       "    </tr>\n",
       "    <tr>\n",
       "      <th>4</th>\n",
       "      <td>javiermilei</td>\n",
       "      <td>NaN</td>\n",
       "      <td>{'User': 'Milei', 'Profile': {'description': '...</td>\n",
       "      <td>2021-07-12 16:32:02 -0300</td>\n",
       "      <td>Automatic</td>\n",
       "      <td>ProfileID-Instagram</td>\n",
       "    </tr>\n",
       "  </tbody>\n",
       "</table>\n",
       "</div>"
      ],
      "text/plain": [
       "                Key1 Key2                                            Output1  \\\n",
       "0  Claudiaguerrerobr  NaN  {'User': 'ClauG', 'Profile': {'description': '...   \n",
       "1  Claudiaguerrerobr  NaN  {'User': 'ClauG', 'Profile': {'description': '...   \n",
       "2  Claudiaguerrerobr  NaN  {'User': 'ClauG', 'Profile': {'description': '...   \n",
       "3        javiermilei  NaN  {'User': 'Milei', 'Profile': {'description': '...   \n",
       "4        javiermilei  NaN  {'User': 'Milei', 'Profile': {'description': '...   \n",
       "\n",
       "          ExtractionDateTime ExtrMethod             ExtrType  \n",
       "0  2021-07-08 11:21:47 -0300  Automatic  ProfileID-Instagram  \n",
       "1  2021-07-12 16:32:02 -0300  Automatic  ProfileID-Instagram  \n",
       "2  2021-07-13 15:21:50 -0300  Automatic  ProfileID-Instagram  \n",
       "3  2021-07-08 11:21:47 -0300  Automatic  ProfileID-Instagram  \n",
       "4  2021-07-12 16:32:02 -0300  Automatic  ProfileID-Instagram  "
      ]
     },
     "execution_count": 11,
     "metadata": {},
     "output_type": "execute_result"
    }
   ],
   "source": [
    "df10.head()"
   ]
  },
  {
   "cell_type": "code",
   "execution_count": 12,
   "id": "21ff4d0c",
   "metadata": {},
   "outputs": [
    {
     "data": {
      "text/plain": [
       "PostComments-Instagram    5467\n",
       "VideoComments-YouTube     3919\n",
       "VideoInfo-YouTube         3455\n",
       "TweetsPerUser-Twitter     2061\n",
       "YouTubeVideoInfo          1714\n",
       "ProfileID-Instagram         84\n",
       "ProfileID-YouTube           51\n",
       "ProfileID-Twitter           51\n",
       "VideoList-YouTube            6\n",
       "Name: ExtrType, dtype: int64"
      ]
     },
     "execution_count": 12,
     "metadata": {},
     "output_type": "execute_result"
    }
   ],
   "source": [
    "df10.ExtrType.value_counts()"
   ]
  },
  {
   "cell_type": "code",
   "execution_count": 13,
   "id": "385671f2",
   "metadata": {},
   "outputs": [],
   "source": [
    "df10 = df10[df10.ExtrType != 'VideoComments-YouTube']"
   ]
  },
  {
   "cell_type": "code",
   "execution_count": 14,
   "id": "562b82cb",
   "metadata": {
    "scrolled": true
   },
   "outputs": [
    {
     "data": {
      "text/plain": [
       "PostComments-Instagram    5467\n",
       "VideoInfo-YouTube         3455\n",
       "TweetsPerUser-Twitter     2061\n",
       "YouTubeVideoInfo          1714\n",
       "ProfileID-Instagram         84\n",
       "ProfileID-YouTube           51\n",
       "ProfileID-Twitter           51\n",
       "VideoList-YouTube            6\n",
       "Name: ExtrType, dtype: int64"
      ]
     },
     "execution_count": 14,
     "metadata": {},
     "output_type": "execute_result"
    }
   ],
   "source": [
    "df10.ExtrType.value_counts()"
   ]
  },
  {
   "cell_type": "code",
   "execution_count": 15,
   "id": "47a8fc9e",
   "metadata": {},
   "outputs": [],
   "source": [
    "df10.to_csv('C:/Users/Esteban Guerrero/SocialNetworkProject/Iteration2/Datasets/NetworkFeedRawOutput.csv', index = False)"
   ]
  },
  {
   "cell_type": "code",
   "execution_count": null,
   "id": "3a881e44",
   "metadata": {},
   "outputs": [],
   "source": []
  },
  {
   "cell_type": "code",
   "execution_count": null,
   "id": "13ee40af",
   "metadata": {},
   "outputs": [],
   "source": [
    "# Only Instagram posts comments from 2021-08-01 on"
   ]
  },
  {
   "cell_type": "code",
   "execution_count": 24,
   "id": "b865ac18",
   "metadata": {},
   "outputs": [],
   "source": [
    "df10 = pd.read_csv('C:/Users/Esteban Guerrero/SocialNetworkProject/Datasets/NetworkFeedRawOutput.csv',\n",
    "                  index_col = False, encoding = 'ISO-8859-1')\n",
    "df10 = df10[df10.ExtrType.str.contains('PostComments-Instagram') & (df10.ExtractionDateTime > '2021-08-01')].reset_index(drop = True)"
   ]
  },
  {
   "cell_type": "code",
   "execution_count": 25,
   "id": "74aaac2a",
   "metadata": {},
   "outputs": [
    {
     "name": "stdout",
     "output_type": "stream",
     "text": [
      "<class 'pandas.core.frame.DataFrame'>\n",
      "RangeIndex: 1335 entries, 0 to 1334\n",
      "Data columns (total 6 columns):\n",
      " #   Column              Non-Null Count  Dtype \n",
      "---  ------              --------------  ----- \n",
      " 0   Key1                1335 non-null   object\n",
      " 1   Key2                1335 non-null   object\n",
      " 2   Output1             1335 non-null   object\n",
      " 3   ExtractionDateTime  1335 non-null   object\n",
      " 4   ExtrMethod          1335 non-null   object\n",
      " 5   ExtrType            1335 non-null   object\n",
      "dtypes: object(6)\n",
      "memory usage: 62.7+ KB\n"
     ]
    }
   ],
   "source": [
    "df10.info()"
   ]
  },
  {
   "cell_type": "code",
   "execution_count": 26,
   "id": "949675f4",
   "metadata": {},
   "outputs": [
    {
     "data": {
      "text/html": [
       "<div>\n",
       "<style scoped>\n",
       "    .dataframe tbody tr th:only-of-type {\n",
       "        vertical-align: middle;\n",
       "    }\n",
       "\n",
       "    .dataframe tbody tr th {\n",
       "        vertical-align: top;\n",
       "    }\n",
       "\n",
       "    .dataframe thead th {\n",
       "        text-align: right;\n",
       "    }\n",
       "</style>\n",
       "<table border=\"1\" class=\"dataframe\">\n",
       "  <thead>\n",
       "    <tr style=\"text-align: right;\">\n",
       "      <th></th>\n",
       "      <th>Key1</th>\n",
       "      <th>Key2</th>\n",
       "      <th>Output1</th>\n",
       "      <th>ExtractionDateTime</th>\n",
       "      <th>ExtrMethod</th>\n",
       "      <th>ExtrType</th>\n",
       "    </tr>\n",
       "  </thead>\n",
       "  <tbody>\n",
       "    <tr>\n",
       "      <th>0</th>\n",
       "      <td>partidolibertariocaba</td>\n",
       "      <td>CR9KURnAMEh</td>\n",
       "      <td>{'User': 'PLibCABA', 'CommentLine': {'Author':...</td>\n",
       "      <td>2021-08-02 15:54:51 -0300</td>\n",
       "      <td>Automatic</td>\n",
       "      <td>PostComments-Instagram</td>\n",
       "    </tr>\n",
       "    <tr>\n",
       "      <th>1</th>\n",
       "      <td>partidolibertariocaba</td>\n",
       "      <td>CR9KURnAMEh</td>\n",
       "      <td>{'User': 'PLibCABA', 'CommentLine': {'Author':...</td>\n",
       "      <td>2021-08-02 15:54:51 -0300</td>\n",
       "      <td>Automatic</td>\n",
       "      <td>PostComments-Instagram</td>\n",
       "    </tr>\n",
       "    <tr>\n",
       "      <th>2</th>\n",
       "      <td>partidolibertariocaba</td>\n",
       "      <td>CR9KURnAMEh</td>\n",
       "      <td>{'User': 'PLibCABA', 'CommentLine': {'Author':...</td>\n",
       "      <td>2021-08-02 15:54:51 -0300</td>\n",
       "      <td>Automatic</td>\n",
       "      <td>PostComments-Instagram</td>\n",
       "    </tr>\n",
       "    <tr>\n",
       "      <th>3</th>\n",
       "      <td>partidolibertariocaba</td>\n",
       "      <td>CR9KURnAMEh</td>\n",
       "      <td>{'User': 'PLibCABA', 'CommentLine': {'Author':...</td>\n",
       "      <td>2021-08-02 15:54:51 -0300</td>\n",
       "      <td>Automatic</td>\n",
       "      <td>PostComments-Instagram</td>\n",
       "    </tr>\n",
       "    <tr>\n",
       "      <th>4</th>\n",
       "      <td>partidolibertariocaba</td>\n",
       "      <td>CR7OcfbL95u</td>\n",
       "      <td>{'User': 'PLibCABA', 'CommentLine': {'Author':...</td>\n",
       "      <td>2021-08-02 15:54:51 -0300</td>\n",
       "      <td>Automatic</td>\n",
       "      <td>PostComments-Instagram</td>\n",
       "    </tr>\n",
       "  </tbody>\n",
       "</table>\n",
       "</div>"
      ],
      "text/plain": [
       "                    Key1         Key2  \\\n",
       "0  partidolibertariocaba  CR9KURnAMEh   \n",
       "1  partidolibertariocaba  CR9KURnAMEh   \n",
       "2  partidolibertariocaba  CR9KURnAMEh   \n",
       "3  partidolibertariocaba  CR9KURnAMEh   \n",
       "4  partidolibertariocaba  CR7OcfbL95u   \n",
       "\n",
       "                                             Output1  \\\n",
       "0  {'User': 'PLibCABA', 'CommentLine': {'Author':...   \n",
       "1  {'User': 'PLibCABA', 'CommentLine': {'Author':...   \n",
       "2  {'User': 'PLibCABA', 'CommentLine': {'Author':...   \n",
       "3  {'User': 'PLibCABA', 'CommentLine': {'Author':...   \n",
       "4  {'User': 'PLibCABA', 'CommentLine': {'Author':...   \n",
       "\n",
       "          ExtractionDateTime ExtrMethod                ExtrType  \n",
       "0  2021-08-02 15:54:51 -0300  Automatic  PostComments-Instagram  \n",
       "1  2021-08-02 15:54:51 -0300  Automatic  PostComments-Instagram  \n",
       "2  2021-08-02 15:54:51 -0300  Automatic  PostComments-Instagram  \n",
       "3  2021-08-02 15:54:51 -0300  Automatic  PostComments-Instagram  \n",
       "4  2021-08-02 15:54:51 -0300  Automatic  PostComments-Instagram  "
      ]
     },
     "execution_count": 26,
     "metadata": {},
     "output_type": "execute_result"
    }
   ],
   "source": [
    "df10.head()"
   ]
  },
  {
   "cell_type": "code",
   "execution_count": 27,
   "id": "57dbf15c",
   "metadata": {
    "scrolled": true
   },
   "outputs": [
    {
     "data": {
      "text/html": [
       "<div>\n",
       "<style scoped>\n",
       "    .dataframe tbody tr th:only-of-type {\n",
       "        vertical-align: middle;\n",
       "    }\n",
       "\n",
       "    .dataframe tbody tr th {\n",
       "        vertical-align: top;\n",
       "    }\n",
       "\n",
       "    .dataframe thead th {\n",
       "        text-align: right;\n",
       "    }\n",
       "</style>\n",
       "<table border=\"1\" class=\"dataframe\">\n",
       "  <thead>\n",
       "    <tr style=\"text-align: right;\">\n",
       "      <th></th>\n",
       "      <th>Key1</th>\n",
       "      <th>Key2</th>\n",
       "      <th>Output1</th>\n",
       "      <th>ExtractionDateTime</th>\n",
       "      <th>ExtrMethod</th>\n",
       "      <th>ExtrType</th>\n",
       "    </tr>\n",
       "  </thead>\n",
       "  <tbody>\n",
       "    <tr>\n",
       "      <th>0</th>\n",
       "      <td>partidolibertariocaba</td>\n",
       "      <td>CR9KURnAMEh</td>\n",
       "      <td>{'User': 'PLibCABA', 'CommentLine': {'Author':...</td>\n",
       "      <td>2021-08-02 15:54:51 -0300</td>\n",
       "      <td>Automatic</td>\n",
       "      <td>PostComments-Instagram</td>\n",
       "    </tr>\n",
       "    <tr>\n",
       "      <th>1</th>\n",
       "      <td>partidolibertariocaba</td>\n",
       "      <td>CR9KURnAMEh</td>\n",
       "      <td>{'User': 'PLibCABA', 'CommentLine': {'Author':...</td>\n",
       "      <td>2021-08-02 15:54:51 -0300</td>\n",
       "      <td>Automatic</td>\n",
       "      <td>PostComments-Instagram</td>\n",
       "    </tr>\n",
       "    <tr>\n",
       "      <th>2</th>\n",
       "      <td>partidolibertariocaba</td>\n",
       "      <td>CR9KURnAMEh</td>\n",
       "      <td>{'User': 'PLibCABA', 'CommentLine': {'Author':...</td>\n",
       "      <td>2021-08-02 15:54:51 -0300</td>\n",
       "      <td>Automatic</td>\n",
       "      <td>PostComments-Instagram</td>\n",
       "    </tr>\n",
       "    <tr>\n",
       "      <th>3</th>\n",
       "      <td>partidolibertariocaba</td>\n",
       "      <td>CR9KURnAMEh</td>\n",
       "      <td>{'User': 'PLibCABA', 'CommentLine': {'Author':...</td>\n",
       "      <td>2021-08-02 15:54:51 -0300</td>\n",
       "      <td>Automatic</td>\n",
       "      <td>PostComments-Instagram</td>\n",
       "    </tr>\n",
       "    <tr>\n",
       "      <th>4</th>\n",
       "      <td>partidolibertariocaba</td>\n",
       "      <td>CR7OcfbL95u</td>\n",
       "      <td>{'User': 'PLibCABA', 'CommentLine': {'Author':...</td>\n",
       "      <td>2021-08-02 15:54:51 -0300</td>\n",
       "      <td>Automatic</td>\n",
       "      <td>PostComments-Instagram</td>\n",
       "    </tr>\n",
       "    <tr>\n",
       "      <th>...</th>\n",
       "      <td>...</td>\n",
       "      <td>...</td>\n",
       "      <td>...</td>\n",
       "      <td>...</td>\n",
       "      <td>...</td>\n",
       "      <td>...</td>\n",
       "    </tr>\n",
       "    <tr>\n",
       "      <th>1330</th>\n",
       "      <td>Claudiaguerrerobr</td>\n",
       "      <td>CRWhPMODaep</td>\n",
       "      <td>{'User': 'ClauG', 'CommentLine': {'Author': 'x...</td>\n",
       "      <td>2021-08-03 16:52:40 -0300</td>\n",
       "      <td>Automatic</td>\n",
       "      <td>PostComments-Instagram</td>\n",
       "    </tr>\n",
       "    <tr>\n",
       "      <th>1331</th>\n",
       "      <td>Claudiaguerrerobr</td>\n",
       "      <td>CRWhPMODaep</td>\n",
       "      <td>{'User': 'ClauG', 'CommentLine': {'Author': 'p...</td>\n",
       "      <td>2021-08-03 16:52:40 -0300</td>\n",
       "      <td>Automatic</td>\n",
       "      <td>PostComments-Instagram</td>\n",
       "    </tr>\n",
       "    <tr>\n",
       "      <th>1332</th>\n",
       "      <td>Claudiaguerrerobr</td>\n",
       "      <td>CRWhPMODaep</td>\n",
       "      <td>{'User': 'ClauG', 'CommentLine': {'Author': 'm...</td>\n",
       "      <td>2021-08-03 16:52:40 -0300</td>\n",
       "      <td>Automatic</td>\n",
       "      <td>PostComments-Instagram</td>\n",
       "    </tr>\n",
       "    <tr>\n",
       "      <th>1333</th>\n",
       "      <td>Claudiaguerrerobr</td>\n",
       "      <td>CRWhPMODaep</td>\n",
       "      <td>{'User': 'ClauG', 'CommentLine': {'Author': 'c...</td>\n",
       "      <td>2021-08-03 16:52:40 -0300</td>\n",
       "      <td>Automatic</td>\n",
       "      <td>PostComments-Instagram</td>\n",
       "    </tr>\n",
       "    <tr>\n",
       "      <th>1334</th>\n",
       "      <td>Claudiaguerrerobr</td>\n",
       "      <td>CRWhPMODaep</td>\n",
       "      <td>{'User': 'ClauG', 'CommentLine': {'Author': 'e...</td>\n",
       "      <td>2021-08-03 16:52:40 -0300</td>\n",
       "      <td>Automatic</td>\n",
       "      <td>PostComments-Instagram</td>\n",
       "    </tr>\n",
       "  </tbody>\n",
       "</table>\n",
       "<p>1335 rows × 6 columns</p>\n",
       "</div>"
      ],
      "text/plain": [
       "                       Key1         Key2  \\\n",
       "0     partidolibertariocaba  CR9KURnAMEh   \n",
       "1     partidolibertariocaba  CR9KURnAMEh   \n",
       "2     partidolibertariocaba  CR9KURnAMEh   \n",
       "3     partidolibertariocaba  CR9KURnAMEh   \n",
       "4     partidolibertariocaba  CR7OcfbL95u   \n",
       "...                     ...          ...   \n",
       "1330      Claudiaguerrerobr  CRWhPMODaep   \n",
       "1331      Claudiaguerrerobr  CRWhPMODaep   \n",
       "1332      Claudiaguerrerobr  CRWhPMODaep   \n",
       "1333      Claudiaguerrerobr  CRWhPMODaep   \n",
       "1334      Claudiaguerrerobr  CRWhPMODaep   \n",
       "\n",
       "                                                Output1  \\\n",
       "0     {'User': 'PLibCABA', 'CommentLine': {'Author':...   \n",
       "1     {'User': 'PLibCABA', 'CommentLine': {'Author':...   \n",
       "2     {'User': 'PLibCABA', 'CommentLine': {'Author':...   \n",
       "3     {'User': 'PLibCABA', 'CommentLine': {'Author':...   \n",
       "4     {'User': 'PLibCABA', 'CommentLine': {'Author':...   \n",
       "...                                                 ...   \n",
       "1330  {'User': 'ClauG', 'CommentLine': {'Author': 'x...   \n",
       "1331  {'User': 'ClauG', 'CommentLine': {'Author': 'p...   \n",
       "1332  {'User': 'ClauG', 'CommentLine': {'Author': 'm...   \n",
       "1333  {'User': 'ClauG', 'CommentLine': {'Author': 'c...   \n",
       "1334  {'User': 'ClauG', 'CommentLine': {'Author': 'e...   \n",
       "\n",
       "             ExtractionDateTime ExtrMethod                ExtrType  \n",
       "0     2021-08-02 15:54:51 -0300  Automatic  PostComments-Instagram  \n",
       "1     2021-08-02 15:54:51 -0300  Automatic  PostComments-Instagram  \n",
       "2     2021-08-02 15:54:51 -0300  Automatic  PostComments-Instagram  \n",
       "3     2021-08-02 15:54:51 -0300  Automatic  PostComments-Instagram  \n",
       "4     2021-08-02 15:54:51 -0300  Automatic  PostComments-Instagram  \n",
       "...                         ...        ...                     ...  \n",
       "1330  2021-08-03 16:52:40 -0300  Automatic  PostComments-Instagram  \n",
       "1331  2021-08-03 16:52:40 -0300  Automatic  PostComments-Instagram  \n",
       "1332  2021-08-03 16:52:40 -0300  Automatic  PostComments-Instagram  \n",
       "1333  2021-08-03 16:52:40 -0300  Automatic  PostComments-Instagram  \n",
       "1334  2021-08-03 16:52:40 -0300  Automatic  PostComments-Instagram  \n",
       "\n",
       "[1335 rows x 6 columns]"
      ]
     },
     "execution_count": 27,
     "metadata": {},
     "output_type": "execute_result"
    }
   ],
   "source": [
    "df10"
   ]
  },
  {
   "cell_type": "code",
   "execution_count": 28,
   "id": "4b9c8fc3",
   "metadata": {},
   "outputs": [
    {
     "data": {
      "text/plain": [
       "\"{'User': 'ClauG', 'CommentLine': {'Author': 'epbelalcazar', 'Likes': 'Reply', 'Date': '2021-07-16T04:32:26.000Z', 'id_str': 'dd9832a6-25f6-427e-b823-274ce995cee2', 'Comment': 'En Bogota donde puedo comprar tus prendas'}}\""
      ]
     },
     "execution_count": 28,
     "metadata": {},
     "output_type": "execute_result"
    }
   ],
   "source": [
    "df10.iat[1334,2]"
   ]
  },
  {
   "cell_type": "code",
   "execution_count": 23,
   "id": "b0654cbc",
   "metadata": {},
   "outputs": [
    {
     "name": "stdout",
     "output_type": "stream",
     "text": [
      "<class 'pandas.core.frame.DataFrame'>\n",
      "RangeIndex: 1335 entries, 0 to 1334\n",
      "Data columns (total 6 columns):\n",
      " #   Column              Non-Null Count  Dtype \n",
      "---  ------              --------------  ----- \n",
      " 0   Key1                1335 non-null   object\n",
      " 1   Key2                1335 non-null   object\n",
      " 2   Output1             1335 non-null   object\n",
      " 3   ExtractionDateTime  1335 non-null   object\n",
      " 4   ExtrMethod          1335 non-null   object\n",
      " 5   ExtrType            1335 non-null   object\n",
      "dtypes: object(6)\n",
      "memory usage: 62.7+ KB\n"
     ]
    }
   ],
   "source": [
    "df10.info()"
   ]
  },
  {
   "cell_type": "code",
   "execution_count": 19,
   "id": "1c931074",
   "metadata": {},
   "outputs": [],
   "source": [
    "df20 = pd.read_csv('C:/Users/Esteban Guerrero/SocialNetworkProject/Iteration2/Datasets/NetworkFeedRawOutput.csv',\n",
    "                  index_col = False, encoding = 'ISO-8859-1')"
   ]
  },
  {
   "cell_type": "code",
   "execution_count": 20,
   "id": "cdc3ac8b",
   "metadata": {},
   "outputs": [
    {
     "name": "stdout",
     "output_type": "stream",
     "text": [
      "<class 'pandas.core.frame.DataFrame'>\n",
      "RangeIndex: 110105 entries, 0 to 110104\n",
      "Data columns (total 6 columns):\n",
      " #   Column              Non-Null Count   Dtype \n",
      "---  ------              --------------   ----- \n",
      " 0   Key1                110105 non-null  object\n",
      " 1   Key2                109863 non-null  object\n",
      " 2   Output1             110105 non-null  object\n",
      " 3   ExtractionDateTime  110105 non-null  object\n",
      " 4   ExtrMethod          110105 non-null  object\n",
      " 5   ExtrType            110105 non-null  object\n",
      "dtypes: object(6)\n",
      "memory usage: 5.0+ MB\n"
     ]
    }
   ],
   "source": [
    "df20.info()"
   ]
  },
  {
   "cell_type": "code",
   "execution_count": 21,
   "id": "6e652949",
   "metadata": {},
   "outputs": [],
   "source": [
    "df20 = df20[df20.ExtrType.str.contains('PostComments-Instagram') == False].reset_index(drop = True)"
   ]
  },
  {
   "cell_type": "code",
   "execution_count": 22,
   "id": "454752f4",
   "metadata": {},
   "outputs": [
    {
     "name": "stdout",
     "output_type": "stream",
     "text": [
      "<class 'pandas.core.frame.DataFrame'>\n",
      "RangeIndex: 104638 entries, 0 to 104637\n",
      "Data columns (total 6 columns):\n",
      " #   Column              Non-Null Count   Dtype \n",
      "---  ------              --------------   ----- \n",
      " 0   Key1                104638 non-null  object\n",
      " 1   Key2                104396 non-null  object\n",
      " 2   Output1             104638 non-null  object\n",
      " 3   ExtractionDateTime  104638 non-null  object\n",
      " 4   ExtrMethod          104638 non-null  object\n",
      " 5   ExtrType            104638 non-null  object\n",
      "dtypes: object(6)\n",
      "memory usage: 4.8+ MB\n"
     ]
    }
   ],
   "source": [
    "df20.info()"
   ]
  },
  {
   "cell_type": "code",
   "execution_count": null,
   "id": "42313877",
   "metadata": {},
   "outputs": [],
   "source": [
    "DF = DF.append([df20, df20], ignore_index=True)\n",
    "DF.to_csv('C:/Users/Esteban Guerrero/SocialNetworkProject/Iteration2/Datasets/NetworkFeedRawOutput.csv', index = False)"
   ]
  },
  {
   "cell_type": "code",
   "execution_count": null,
   "id": "b1b82e21",
   "metadata": {},
   "outputs": [],
   "source": []
  },
  {
   "cell_type": "code",
   "execution_count": null,
   "id": "efe4e13e",
   "metadata": {},
   "outputs": [],
   "source": []
  },
  {
   "cell_type": "code",
   "execution_count": 2,
   "id": "91562acb",
   "metadata": {},
   "outputs": [],
   "source": [
    "import pandas as pd\n",
    "df1 = pd.read_csv('C:/Users/Esteban Guerrero/SocialNetworkProject/Iteration2/Datasets/NetworkFeedRawOutput.csv',\n",
    "                  index_col = False, encoding = 'ISO-8859-1')"
   ]
  },
  {
   "cell_type": "code",
   "execution_count": 3,
   "id": "f027ea4b",
   "metadata": {},
   "outputs": [
    {
     "data": {
      "text/html": [
       "<div>\n",
       "<style scoped>\n",
       "    .dataframe tbody tr th:only-of-type {\n",
       "        vertical-align: middle;\n",
       "    }\n",
       "\n",
       "    .dataframe tbody tr th {\n",
       "        vertical-align: top;\n",
       "    }\n",
       "\n",
       "    .dataframe thead th {\n",
       "        text-align: right;\n",
       "    }\n",
       "</style>\n",
       "<table border=\"1\" class=\"dataframe\">\n",
       "  <thead>\n",
       "    <tr style=\"text-align: right;\">\n",
       "      <th></th>\n",
       "      <th>Key1</th>\n",
       "      <th>Key2</th>\n",
       "      <th>Output1</th>\n",
       "      <th>ExtractionDateTime</th>\n",
       "      <th>ExtrMethod</th>\n",
       "      <th>ExtrType</th>\n",
       "    </tr>\n",
       "  </thead>\n",
       "  <tbody>\n",
       "    <tr>\n",
       "      <th>0</th>\n",
       "      <td>Claudiaguerrerobr</td>\n",
       "      <td>NaN</td>\n",
       "      <td>{'User': 'ClauG', 'Profile': {'description': '...</td>\n",
       "      <td>2021-07-08 11:21:47 -0300</td>\n",
       "      <td>Automatic</td>\n",
       "      <td>ProfileID-Instagram</td>\n",
       "    </tr>\n",
       "    <tr>\n",
       "      <th>1</th>\n",
       "      <td>Claudiaguerrerobr</td>\n",
       "      <td>NaN</td>\n",
       "      <td>{'User': 'ClauG', 'Profile': {'description': '...</td>\n",
       "      <td>2021-07-12 16:32:02 -0300</td>\n",
       "      <td>Automatic</td>\n",
       "      <td>ProfileID-Instagram</td>\n",
       "    </tr>\n",
       "    <tr>\n",
       "      <th>2</th>\n",
       "      <td>Claudiaguerrerobr</td>\n",
       "      <td>NaN</td>\n",
       "      <td>{'User': 'ClauG', 'Profile': {'description': '...</td>\n",
       "      <td>2021-07-13 15:21:50 -0300</td>\n",
       "      <td>Automatic</td>\n",
       "      <td>ProfileID-Instagram</td>\n",
       "    </tr>\n",
       "    <tr>\n",
       "      <th>3</th>\n",
       "      <td>javiermilei</td>\n",
       "      <td>NaN</td>\n",
       "      <td>{'User': 'Milei', 'Profile': {'description': '...</td>\n",
       "      <td>2021-07-08 11:21:47 -0300</td>\n",
       "      <td>Automatic</td>\n",
       "      <td>ProfileID-Instagram</td>\n",
       "    </tr>\n",
       "    <tr>\n",
       "      <th>4</th>\n",
       "      <td>javiermilei</td>\n",
       "      <td>NaN</td>\n",
       "      <td>{'User': 'Milei', 'Profile': {'description': '...</td>\n",
       "      <td>2021-07-12 16:32:02 -0300</td>\n",
       "      <td>Automatic</td>\n",
       "      <td>ProfileID-Instagram</td>\n",
       "    </tr>\n",
       "  </tbody>\n",
       "</table>\n",
       "</div>"
      ],
      "text/plain": [
       "                Key1 Key2                                            Output1  \\\n",
       "0  Claudiaguerrerobr  NaN  {'User': 'ClauG', 'Profile': {'description': '...   \n",
       "1  Claudiaguerrerobr  NaN  {'User': 'ClauG', 'Profile': {'description': '...   \n",
       "2  Claudiaguerrerobr  NaN  {'User': 'ClauG', 'Profile': {'description': '...   \n",
       "3        javiermilei  NaN  {'User': 'Milei', 'Profile': {'description': '...   \n",
       "4        javiermilei  NaN  {'User': 'Milei', 'Profile': {'description': '...   \n",
       "\n",
       "          ExtractionDateTime ExtrMethod             ExtrType  \n",
       "0  2021-07-08 11:21:47 -0300  Automatic  ProfileID-Instagram  \n",
       "1  2021-07-12 16:32:02 -0300  Automatic  ProfileID-Instagram  \n",
       "2  2021-07-13 15:21:50 -0300  Automatic  ProfileID-Instagram  \n",
       "3  2021-07-08 11:21:47 -0300  Automatic  ProfileID-Instagram  \n",
       "4  2021-07-12 16:32:02 -0300  Automatic  ProfileID-Instagram  "
      ]
     },
     "execution_count": 3,
     "metadata": {},
     "output_type": "execute_result"
    }
   ],
   "source": [
    "df1.head()"
   ]
  },
  {
   "cell_type": "code",
   "execution_count": 4,
   "id": "285dc8fc",
   "metadata": {},
   "outputs": [
    {
     "data": {
      "text/plain": [
       "VideoComments-YouTube     104171\n",
       "VideoInfo-YouTube          15762\n",
       "TweetsPerUser-Twitter      10678\n",
       "YouTubeVideoInfo            1714\n",
       "PostComments-Instagram      1172\n",
       "ProfileID-Instagram          124\n",
       "ProfileID-Twitter             66\n",
       "ProfileID-YouTube             66\n",
       "VideoList-YouTube             27\n",
       "PostDetails-Instagram         20\n",
       "Name: ExtrType, dtype: int64"
      ]
     },
     "execution_count": 4,
     "metadata": {},
     "output_type": "execute_result"
    }
   ],
   "source": [
    "df1.ExtrType.value_counts()"
   ]
  },
  {
   "cell_type": "code",
   "execution_count": 5,
   "id": "15677108",
   "metadata": {},
   "outputs": [],
   "source": [
    "df1 = df1[df1.ExtrType != 'PostDetails-Instagram']"
   ]
  },
  {
   "cell_type": "code",
   "execution_count": 6,
   "id": "2f1fb435",
   "metadata": {},
   "outputs": [
    {
     "data": {
      "text/plain": [
       "VideoComments-YouTube     104171\n",
       "VideoInfo-YouTube          15762\n",
       "TweetsPerUser-Twitter      10678\n",
       "YouTubeVideoInfo            1714\n",
       "PostComments-Instagram      1172\n",
       "ProfileID-Instagram          124\n",
       "ProfileID-Twitter             66\n",
       "ProfileID-YouTube             66\n",
       "VideoList-YouTube             27\n",
       "Name: ExtrType, dtype: int64"
      ]
     },
     "execution_count": 6,
     "metadata": {},
     "output_type": "execute_result"
    }
   ],
   "source": [
    "df1.ExtrType.value_counts()"
   ]
  },
  {
   "cell_type": "code",
   "execution_count": 7,
   "id": "065e2600",
   "metadata": {},
   "outputs": [],
   "source": [
    "df1.to_csv('C:/Users/Esteban Guerrero/SocialNetworkProject/Iteration2/Datasets/NetworkFeedRawOutput.csv', index = False)"
   ]
  },
  {
   "cell_type": "code",
   "execution_count": null,
   "id": "a9054fb2",
   "metadata": {},
   "outputs": [],
   "source": []
  },
  {
   "cell_type": "code",
   "execution_count": 5,
   "id": "023c42d5",
   "metadata": {},
   "outputs": [],
   "source": [
    "df7 = pd.read_csv('C:/Users/Esteban Guerrero/SocialNetworkProject/Iteration2/Datasets/NetworkFeedRawOutput.csv',\n",
    "                  index_col = False, encoding = 'ISO-8859-1')\n",
    "df7 = df7[df7.ExtrType.str.contains('PostDetails-Instagram')].reset_index(drop = True)"
   ]
  },
  {
   "cell_type": "code",
   "execution_count": 6,
   "id": "bcc60d59",
   "metadata": {},
   "outputs": [
    {
     "data": {
      "text/html": [
       "<div>\n",
       "<style scoped>\n",
       "    .dataframe tbody tr th:only-of-type {\n",
       "        vertical-align: middle;\n",
       "    }\n",
       "\n",
       "    .dataframe tbody tr th {\n",
       "        vertical-align: top;\n",
       "    }\n",
       "\n",
       "    .dataframe thead th {\n",
       "        text-align: right;\n",
       "    }\n",
       "</style>\n",
       "<table border=\"1\" class=\"dataframe\">\n",
       "  <thead>\n",
       "    <tr style=\"text-align: right;\">\n",
       "      <th></th>\n",
       "      <th>Key1</th>\n",
       "      <th>Key2</th>\n",
       "      <th>Output1</th>\n",
       "      <th>ExtractionDateTime</th>\n",
       "      <th>ExtrMethod</th>\n",
       "      <th>ExtrType</th>\n",
       "    </tr>\n",
       "  </thead>\n",
       "  <tbody>\n",
       "    <tr>\n",
       "      <th>0</th>\n",
       "      <td>partidolibertariocaba</td>\n",
       "      <td>CSKGKv1pqec</td>\n",
       "      <td>{'User': 'PLibCABA', 'Post': {'id': '263294405...</td>\n",
       "      <td>2021-08-04 16:43:11 -0300</td>\n",
       "      <td>Automatic</td>\n",
       "      <td>PostDetails-Instagram</td>\n",
       "    </tr>\n",
       "    <tr>\n",
       "      <th>1</th>\n",
       "      <td>partidolibertariocaba</td>\n",
       "      <td>CSHgrZSFUAX</td>\n",
       "      <td>{'User': 'PLibCABA', 'Post': {'id': '263221622...</td>\n",
       "      <td>2021-08-04 16:43:11 -0300</td>\n",
       "      <td>Automatic</td>\n",
       "      <td>PostDetails-Instagram</td>\n",
       "    </tr>\n",
       "    <tr>\n",
       "      <th>2</th>\n",
       "      <td>partidolibertariocaba</td>\n",
       "      <td>CSB-bCyNpXg</td>\n",
       "      <td>{'User': 'PLibCABA', 'Post': {'id': '263065819...</td>\n",
       "      <td>2021-08-04 16:43:11 -0300</td>\n",
       "      <td>Automatic</td>\n",
       "      <td>PostDetails-Instagram</td>\n",
       "    </tr>\n",
       "    <tr>\n",
       "      <th>3</th>\n",
       "      <td>partidolibertariocaba</td>\n",
       "      <td>CR_agl_NwUF</td>\n",
       "      <td>{'User': 'PLibCABA', 'Post': {'id': '262993729...</td>\n",
       "      <td>2021-08-04 16:43:11 -0300</td>\n",
       "      <td>Automatic</td>\n",
       "      <td>PostDetails-Instagram</td>\n",
       "    </tr>\n",
       "    <tr>\n",
       "      <th>4</th>\n",
       "      <td>partidolibertariocaba</td>\n",
       "      <td>CR9zN5WlL9g</td>\n",
       "      <td>{'User': 'PLibCABA', 'Post': {'id': '262948301...</td>\n",
       "      <td>2021-08-04 16:43:11 -0300</td>\n",
       "      <td>Automatic</td>\n",
       "      <td>PostDetails-Instagram</td>\n",
       "    </tr>\n",
       "    <tr>\n",
       "      <th>5</th>\n",
       "      <td>joseluisespert</td>\n",
       "      <td>CSKc-jlligP</td>\n",
       "      <td>{'User': 'Espert', 'Post': {'id': '26330443762...</td>\n",
       "      <td>2021-08-04 16:43:11 -0300</td>\n",
       "      <td>Automatic</td>\n",
       "      <td>PostDetails-Instagram</td>\n",
       "    </tr>\n",
       "    <tr>\n",
       "      <th>6</th>\n",
       "      <td>joseluisespert</td>\n",
       "      <td>CSHfqmtApZQ</td>\n",
       "      <td>{'User': 'Espert', 'Post': {'id': '26322117744...</td>\n",
       "      <td>2021-08-04 16:43:11 -0300</td>\n",
       "      <td>Automatic</td>\n",
       "      <td>PostDetails-Instagram</td>\n",
       "    </tr>\n",
       "    <tr>\n",
       "      <th>7</th>\n",
       "      <td>joseluisespert</td>\n",
       "      <td>CSF-fPtjw7A</td>\n",
       "      <td>{'User': 'Espert', 'Post': {'id': '26317843833...</td>\n",
       "      <td>2021-08-04 16:43:11 -0300</td>\n",
       "      <td>Automatic</td>\n",
       "      <td>PostDetails-Instagram</td>\n",
       "    </tr>\n",
       "    <tr>\n",
       "      <th>8</th>\n",
       "      <td>joseluisespert</td>\n",
       "      <td>CSFbaJpl5R0</td>\n",
       "      <td>{'User': 'Espert', 'Post': {'id': '26316301015...</td>\n",
       "      <td>2021-08-04 16:43:11 -0300</td>\n",
       "      <td>Automatic</td>\n",
       "      <td>PostDetails-Instagram</td>\n",
       "    </tr>\n",
       "    <tr>\n",
       "      <th>9</th>\n",
       "      <td>joseluisespert</td>\n",
       "      <td>CSExq_JAxPk</td>\n",
       "      <td>{'User': 'Espert', 'Post': {'id': '26314465405...</td>\n",
       "      <td>2021-08-04 16:43:11 -0300</td>\n",
       "      <td>Automatic</td>\n",
       "      <td>PostDetails-Instagram</td>\n",
       "    </tr>\n",
       "    <tr>\n",
       "      <th>10</th>\n",
       "      <td>javiermilei</td>\n",
       "      <td>CSKZhgNFnAE</td>\n",
       "      <td>{'User': 'Milei', 'Post': {'id': '263302918563...</td>\n",
       "      <td>2021-08-04 16:43:11 -0300</td>\n",
       "      <td>Automatic</td>\n",
       "      <td>PostDetails-Instagram</td>\n",
       "    </tr>\n",
       "    <tr>\n",
       "      <th>11</th>\n",
       "      <td>javiermilei</td>\n",
       "      <td>CSJ9K1xALA4</td>\n",
       "      <td>{'User': 'Milei', 'Post': {'id': '263290448293...</td>\n",
       "      <td>2021-08-04 16:43:11 -0300</td>\n",
       "      <td>Automatic</td>\n",
       "      <td>PostDetails-Instagram</td>\n",
       "    </tr>\n",
       "    <tr>\n",
       "      <th>12</th>\n",
       "      <td>javiermilei</td>\n",
       "      <td>CSJyQ7JAHp9</td>\n",
       "      <td>{'User': 'Milei', 'Post': {'id': '263285652251...</td>\n",
       "      <td>2021-08-04 16:43:11 -0300</td>\n",
       "      <td>Automatic</td>\n",
       "      <td>PostDetails-Instagram</td>\n",
       "    </tr>\n",
       "    <tr>\n",
       "      <th>13</th>\n",
       "      <td>javiermilei</td>\n",
       "      <td>CSIpeDijYum</td>\n",
       "      <td>{'User': 'Milei', 'Post': {'id': '263253636749...</td>\n",
       "      <td>2021-08-04 16:43:11 -0300</td>\n",
       "      <td>Automatic</td>\n",
       "      <td>PostDetails-Instagram</td>\n",
       "    </tr>\n",
       "    <tr>\n",
       "      <th>14</th>\n",
       "      <td>javiermilei</td>\n",
       "      <td>CSHV-aggVlM</td>\n",
       "      <td>{'User': 'Milei', 'Post': {'id': '263216915526...</td>\n",
       "      <td>2021-08-04 16:43:11 -0300</td>\n",
       "      <td>Automatic</td>\n",
       "      <td>PostDetails-Instagram</td>\n",
       "    </tr>\n",
       "    <tr>\n",
       "      <th>15</th>\n",
       "      <td>Claudiaguerrerobr</td>\n",
       "      <td>CSFjf4gD6xD</td>\n",
       "      <td>{'User': 'ClauG', 'Post': {'id': '263166567986...</td>\n",
       "      <td>2021-08-04 16:43:11 -0300</td>\n",
       "      <td>Automatic</td>\n",
       "      <td>PostDetails-Instagram</td>\n",
       "    </tr>\n",
       "    <tr>\n",
       "      <th>16</th>\n",
       "      <td>Claudiaguerrerobr</td>\n",
       "      <td>CR_4T4DjCmu</td>\n",
       "      <td>{'User': 'ClauG', 'Post': {'id': '263006836387...</td>\n",
       "      <td>2021-08-04 16:43:11 -0300</td>\n",
       "      <td>Automatic</td>\n",
       "      <td>PostDetails-Instagram</td>\n",
       "    </tr>\n",
       "    <tr>\n",
       "      <th>17</th>\n",
       "      <td>Claudiaguerrerobr</td>\n",
       "      <td>CRjkajEKV66</td>\n",
       "      <td>{'User': 'ClauG', 'Post': {'id': '262209956209...</td>\n",
       "      <td>2021-08-04 16:43:11 -0300</td>\n",
       "      <td>Automatic</td>\n",
       "      <td>PostDetails-Instagram</td>\n",
       "    </tr>\n",
       "    <tr>\n",
       "      <th>18</th>\n",
       "      <td>Claudiaguerrerobr</td>\n",
       "      <td>CRZJalJjzGV</td>\n",
       "      <td>{'User': 'ClauG', 'Post': {'id': '261916606730...</td>\n",
       "      <td>2021-08-04 16:43:11 -0300</td>\n",
       "      <td>Automatic</td>\n",
       "      <td>PostDetails-Instagram</td>\n",
       "    </tr>\n",
       "    <tr>\n",
       "      <th>19</th>\n",
       "      <td>Claudiaguerrerobr</td>\n",
       "      <td>CRWhPMODaep</td>\n",
       "      <td>{'User': 'ClauG', 'Post': {'id': '261842641281...</td>\n",
       "      <td>2021-08-04 16:43:11 -0300</td>\n",
       "      <td>Automatic</td>\n",
       "      <td>PostDetails-Instagram</td>\n",
       "    </tr>\n",
       "  </tbody>\n",
       "</table>\n",
       "</div>"
      ],
      "text/plain": [
       "                     Key1         Key2  \\\n",
       "0   partidolibertariocaba  CSKGKv1pqec   \n",
       "1   partidolibertariocaba  CSHgrZSFUAX   \n",
       "2   partidolibertariocaba  CSB-bCyNpXg   \n",
       "3   partidolibertariocaba  CR_agl_NwUF   \n",
       "4   partidolibertariocaba  CR9zN5WlL9g   \n",
       "5          joseluisespert  CSKc-jlligP   \n",
       "6          joseluisespert  CSHfqmtApZQ   \n",
       "7          joseluisespert  CSF-fPtjw7A   \n",
       "8          joseluisespert  CSFbaJpl5R0   \n",
       "9          joseluisespert  CSExq_JAxPk   \n",
       "10            javiermilei  CSKZhgNFnAE   \n",
       "11            javiermilei  CSJ9K1xALA4   \n",
       "12            javiermilei  CSJyQ7JAHp9   \n",
       "13            javiermilei  CSIpeDijYum   \n",
       "14            javiermilei  CSHV-aggVlM   \n",
       "15      Claudiaguerrerobr  CSFjf4gD6xD   \n",
       "16      Claudiaguerrerobr  CR_4T4DjCmu   \n",
       "17      Claudiaguerrerobr  CRjkajEKV66   \n",
       "18      Claudiaguerrerobr  CRZJalJjzGV   \n",
       "19      Claudiaguerrerobr  CRWhPMODaep   \n",
       "\n",
       "                                              Output1  \\\n",
       "0   {'User': 'PLibCABA', 'Post': {'id': '263294405...   \n",
       "1   {'User': 'PLibCABA', 'Post': {'id': '263221622...   \n",
       "2   {'User': 'PLibCABA', 'Post': {'id': '263065819...   \n",
       "3   {'User': 'PLibCABA', 'Post': {'id': '262993729...   \n",
       "4   {'User': 'PLibCABA', 'Post': {'id': '262948301...   \n",
       "5   {'User': 'Espert', 'Post': {'id': '26330443762...   \n",
       "6   {'User': 'Espert', 'Post': {'id': '26322117744...   \n",
       "7   {'User': 'Espert', 'Post': {'id': '26317843833...   \n",
       "8   {'User': 'Espert', 'Post': {'id': '26316301015...   \n",
       "9   {'User': 'Espert', 'Post': {'id': '26314465405...   \n",
       "10  {'User': 'Milei', 'Post': {'id': '263302918563...   \n",
       "11  {'User': 'Milei', 'Post': {'id': '263290448293...   \n",
       "12  {'User': 'Milei', 'Post': {'id': '263285652251...   \n",
       "13  {'User': 'Milei', 'Post': {'id': '263253636749...   \n",
       "14  {'User': 'Milei', 'Post': {'id': '263216915526...   \n",
       "15  {'User': 'ClauG', 'Post': {'id': '263166567986...   \n",
       "16  {'User': 'ClauG', 'Post': {'id': '263006836387...   \n",
       "17  {'User': 'ClauG', 'Post': {'id': '262209956209...   \n",
       "18  {'User': 'ClauG', 'Post': {'id': '261916606730...   \n",
       "19  {'User': 'ClauG', 'Post': {'id': '261842641281...   \n",
       "\n",
       "           ExtractionDateTime ExtrMethod               ExtrType  \n",
       "0   2021-08-04 16:43:11 -0300  Automatic  PostDetails-Instagram  \n",
       "1   2021-08-04 16:43:11 -0300  Automatic  PostDetails-Instagram  \n",
       "2   2021-08-04 16:43:11 -0300  Automatic  PostDetails-Instagram  \n",
       "3   2021-08-04 16:43:11 -0300  Automatic  PostDetails-Instagram  \n",
       "4   2021-08-04 16:43:11 -0300  Automatic  PostDetails-Instagram  \n",
       "5   2021-08-04 16:43:11 -0300  Automatic  PostDetails-Instagram  \n",
       "6   2021-08-04 16:43:11 -0300  Automatic  PostDetails-Instagram  \n",
       "7   2021-08-04 16:43:11 -0300  Automatic  PostDetails-Instagram  \n",
       "8   2021-08-04 16:43:11 -0300  Automatic  PostDetails-Instagram  \n",
       "9   2021-08-04 16:43:11 -0300  Automatic  PostDetails-Instagram  \n",
       "10  2021-08-04 16:43:11 -0300  Automatic  PostDetails-Instagram  \n",
       "11  2021-08-04 16:43:11 -0300  Automatic  PostDetails-Instagram  \n",
       "12  2021-08-04 16:43:11 -0300  Automatic  PostDetails-Instagram  \n",
       "13  2021-08-04 16:43:11 -0300  Automatic  PostDetails-Instagram  \n",
       "14  2021-08-04 16:43:11 -0300  Automatic  PostDetails-Instagram  \n",
       "15  2021-08-04 16:43:11 -0300  Automatic  PostDetails-Instagram  \n",
       "16  2021-08-04 16:43:11 -0300  Automatic  PostDetails-Instagram  \n",
       "17  2021-08-04 16:43:11 -0300  Automatic  PostDetails-Instagram  \n",
       "18  2021-08-04 16:43:11 -0300  Automatic  PostDetails-Instagram  \n",
       "19  2021-08-04 16:43:11 -0300  Automatic  PostDetails-Instagram  "
      ]
     },
     "execution_count": 6,
     "metadata": {},
     "output_type": "execute_result"
    }
   ],
   "source": [
    "df7"
   ]
  },
  {
   "cell_type": "code",
   "execution_count": 10,
   "id": "da8ab424",
   "metadata": {},
   "outputs": [
    {
     "data": {
      "text/plain": [
       "'{\\'User\\': \\'PLibCABA\\', \\'Post\\': {\\'id\\': \\'2632944058991290268\\', \\'shortcode\\': \\'CSKGKv1pqec\\', \\'tagged_users\\': [], \\'comments\\': 2, \\'upload_date\\': datetime.datetime(2021, 8, 4, 12, 36, 52), \\'likes\\': 320, \\'location\\': nan, \\'video_view_count\\': nan, \\'hashtags\\': [], \\'caption\\': \\'Una nueva imagen para una nueva propuesta por la Libertad\\\\n\\\\nEn el Partido Libertario CABA creemos en la fuerza de la libre acciÃ³n humana, una potencia superior a cualquier forma de organizaciÃ³n y planificaciÃ³n estatal.\\\\n\\\\nCreemos en la fuerza de la autonomÃ\\xada individual, el derecho a la vida, la libertad y la propiedad privada, y el principio de no agresiÃ³n, que son fuente del respeto mutuo y fundamento de la prosperidad humana.\\\\n\\\\nCreemos por lo tanto en el yo individual, que lejos de representar un egoÃ\\xadsmo negativo es la expresiÃ³n de la autoafirmaciÃ³n individual, del valor de las personas de carne y hueso, y de sus valores y posibilidades de realizaciÃ³n personal.\\\\n\\\\nCreemos por lo tanto en el autointerÃ©s, en el mejor sentido de la palabra: el autointerÃ©s que establece relaciones libres y un orden espontÃ¡neo y en paz, con la menor injerencia del Estado, que es sinÃ³nimo de violencia arbitraria contra las decisiones individuales legÃ\\xadtimas.\\\\n\\\\nCreemos, basados en la mejor tradiciÃ³n del pensamiento nacida con Adam Smith, que \"no es por la benevolencia del carnicero, del cervecero y del panadero que podemos contar con nuestra cena, sino por su propio interÃ©s\".\\\\n\\\\nY creemos que solo las ideas libertarias, en tanto expresiÃ³n de la Libertad plena, nos permitirÃ¡n recuperar todo lo bueno que hemos perdido y potenciar lo mejor de nosotros mismos.\\\\n\\\\nPor eso creemos que ell verdadero empoderamiento de los ciudadanos es libertario.\\\\n\\\\nPartido Libertario CABA. La fuerza de la Libertad.\\\\n\\\\nhttps://plcaba.com.ar/sumate/\\'}}'"
      ]
     },
     "execution_count": 10,
     "metadata": {},
     "output_type": "execute_result"
    }
   ],
   "source": [
    "df7.iat[0, 2]"
   ]
  },
  {
   "cell_type": "code",
   "execution_count": 12,
   "id": "c33254be",
   "metadata": {},
   "outputs": [
    {
     "ename": "ValueError",
     "evalue": "malformed node or string: <_ast.Call object at 0x000001D944CAACA0>",
     "output_type": "error",
     "traceback": [
      "\u001b[1;31m---------------------------------------------------------------------------\u001b[0m",
      "\u001b[1;31mValueError\u001b[0m                                Traceback (most recent call last)",
      "\u001b[1;32m<ipython-input-12-094976172b29>\u001b[0m in \u001b[0;36m<module>\u001b[1;34m\u001b[0m\n\u001b[1;32m----> 1\u001b[1;33m \u001b[0md7\u001b[0m \u001b[1;33m=\u001b[0m \u001b[0mast\u001b[0m\u001b[1;33m.\u001b[0m\u001b[0mliteral_eval\u001b[0m\u001b[1;33m(\u001b[0m\u001b[0mdf7\u001b[0m\u001b[1;33m.\u001b[0m\u001b[0miat\u001b[0m\u001b[1;33m[\u001b[0m\u001b[1;36m0\u001b[0m\u001b[1;33m,\u001b[0m \u001b[1;36m2\u001b[0m\u001b[1;33m]\u001b[0m\u001b[1;33m)\u001b[0m\u001b[1;33m\u001b[0m\u001b[1;33m\u001b[0m\u001b[0m\n\u001b[0m",
      "\u001b[1;32mC:\\Users\\anac\\lib\\ast.py\u001b[0m in \u001b[0;36mliteral_eval\u001b[1;34m(node_or_string)\u001b[0m\n\u001b[0;32m     97\u001b[0m                     \u001b[1;32mreturn\u001b[0m \u001b[0mleft\u001b[0m \u001b[1;33m-\u001b[0m \u001b[0mright\u001b[0m\u001b[1;33m\u001b[0m\u001b[1;33m\u001b[0m\u001b[0m\n\u001b[0;32m     98\u001b[0m         \u001b[1;32mreturn\u001b[0m \u001b[0m_convert_signed_num\u001b[0m\u001b[1;33m(\u001b[0m\u001b[0mnode\u001b[0m\u001b[1;33m)\u001b[0m\u001b[1;33m\u001b[0m\u001b[1;33m\u001b[0m\u001b[0m\n\u001b[1;32m---> 99\u001b[1;33m     \u001b[1;32mreturn\u001b[0m \u001b[0m_convert\u001b[0m\u001b[1;33m(\u001b[0m\u001b[0mnode_or_string\u001b[0m\u001b[1;33m)\u001b[0m\u001b[1;33m\u001b[0m\u001b[1;33m\u001b[0m\u001b[0m\n\u001b[0m\u001b[0;32m    100\u001b[0m \u001b[1;33m\u001b[0m\u001b[0m\n\u001b[0;32m    101\u001b[0m \u001b[1;33m\u001b[0m\u001b[0m\n",
      "\u001b[1;32mC:\\Users\\anac\\lib\\ast.py\u001b[0m in \u001b[0;36m_convert\u001b[1;34m(node)\u001b[0m\n\u001b[0;32m     86\u001b[0m             \u001b[1;32mif\u001b[0m \u001b[0mlen\u001b[0m\u001b[1;33m(\u001b[0m\u001b[0mnode\u001b[0m\u001b[1;33m.\u001b[0m\u001b[0mkeys\u001b[0m\u001b[1;33m)\u001b[0m \u001b[1;33m!=\u001b[0m \u001b[0mlen\u001b[0m\u001b[1;33m(\u001b[0m\u001b[0mnode\u001b[0m\u001b[1;33m.\u001b[0m\u001b[0mvalues\u001b[0m\u001b[1;33m)\u001b[0m\u001b[1;33m:\u001b[0m\u001b[1;33m\u001b[0m\u001b[1;33m\u001b[0m\u001b[0m\n\u001b[0;32m     87\u001b[0m                 \u001b[0m_raise_malformed_node\u001b[0m\u001b[1;33m(\u001b[0m\u001b[0mnode\u001b[0m\u001b[1;33m)\u001b[0m\u001b[1;33m\u001b[0m\u001b[1;33m\u001b[0m\u001b[0m\n\u001b[1;32m---> 88\u001b[1;33m             return dict(zip(map(_convert, node.keys),\n\u001b[0m\u001b[0;32m     89\u001b[0m                             map(_convert, node.values)))\n\u001b[0;32m     90\u001b[0m         \u001b[1;32melif\u001b[0m \u001b[0misinstance\u001b[0m\u001b[1;33m(\u001b[0m\u001b[0mnode\u001b[0m\u001b[1;33m,\u001b[0m \u001b[0mBinOp\u001b[0m\u001b[1;33m)\u001b[0m \u001b[1;32mand\u001b[0m \u001b[0misinstance\u001b[0m\u001b[1;33m(\u001b[0m\u001b[0mnode\u001b[0m\u001b[1;33m.\u001b[0m\u001b[0mop\u001b[0m\u001b[1;33m,\u001b[0m \u001b[1;33m(\u001b[0m\u001b[0mAdd\u001b[0m\u001b[1;33m,\u001b[0m \u001b[0mSub\u001b[0m\u001b[1;33m)\u001b[0m\u001b[1;33m)\u001b[0m\u001b[1;33m:\u001b[0m\u001b[1;33m\u001b[0m\u001b[1;33m\u001b[0m\u001b[0m\n",
      "\u001b[1;32mC:\\Users\\anac\\lib\\ast.py\u001b[0m in \u001b[0;36m_convert\u001b[1;34m(node)\u001b[0m\n\u001b[0;32m     86\u001b[0m             \u001b[1;32mif\u001b[0m \u001b[0mlen\u001b[0m\u001b[1;33m(\u001b[0m\u001b[0mnode\u001b[0m\u001b[1;33m.\u001b[0m\u001b[0mkeys\u001b[0m\u001b[1;33m)\u001b[0m \u001b[1;33m!=\u001b[0m \u001b[0mlen\u001b[0m\u001b[1;33m(\u001b[0m\u001b[0mnode\u001b[0m\u001b[1;33m.\u001b[0m\u001b[0mvalues\u001b[0m\u001b[1;33m)\u001b[0m\u001b[1;33m:\u001b[0m\u001b[1;33m\u001b[0m\u001b[1;33m\u001b[0m\u001b[0m\n\u001b[0;32m     87\u001b[0m                 \u001b[0m_raise_malformed_node\u001b[0m\u001b[1;33m(\u001b[0m\u001b[0mnode\u001b[0m\u001b[1;33m)\u001b[0m\u001b[1;33m\u001b[0m\u001b[1;33m\u001b[0m\u001b[0m\n\u001b[1;32m---> 88\u001b[1;33m             return dict(zip(map(_convert, node.keys),\n\u001b[0m\u001b[0;32m     89\u001b[0m                             map(_convert, node.values)))\n\u001b[0;32m     90\u001b[0m         \u001b[1;32melif\u001b[0m \u001b[0misinstance\u001b[0m\u001b[1;33m(\u001b[0m\u001b[0mnode\u001b[0m\u001b[1;33m,\u001b[0m \u001b[0mBinOp\u001b[0m\u001b[1;33m)\u001b[0m \u001b[1;32mand\u001b[0m \u001b[0misinstance\u001b[0m\u001b[1;33m(\u001b[0m\u001b[0mnode\u001b[0m\u001b[1;33m.\u001b[0m\u001b[0mop\u001b[0m\u001b[1;33m,\u001b[0m \u001b[1;33m(\u001b[0m\u001b[0mAdd\u001b[0m\u001b[1;33m,\u001b[0m \u001b[0mSub\u001b[0m\u001b[1;33m)\u001b[0m\u001b[1;33m)\u001b[0m\u001b[1;33m:\u001b[0m\u001b[1;33m\u001b[0m\u001b[1;33m\u001b[0m\u001b[0m\n",
      "\u001b[1;32mC:\\Users\\anac\\lib\\ast.py\u001b[0m in \u001b[0;36m_convert\u001b[1;34m(node)\u001b[0m\n\u001b[0;32m     96\u001b[0m                 \u001b[1;32melse\u001b[0m\u001b[1;33m:\u001b[0m\u001b[1;33m\u001b[0m\u001b[1;33m\u001b[0m\u001b[0m\n\u001b[0;32m     97\u001b[0m                     \u001b[1;32mreturn\u001b[0m \u001b[0mleft\u001b[0m \u001b[1;33m-\u001b[0m \u001b[0mright\u001b[0m\u001b[1;33m\u001b[0m\u001b[1;33m\u001b[0m\u001b[0m\n\u001b[1;32m---> 98\u001b[1;33m         \u001b[1;32mreturn\u001b[0m \u001b[0m_convert_signed_num\u001b[0m\u001b[1;33m(\u001b[0m\u001b[0mnode\u001b[0m\u001b[1;33m)\u001b[0m\u001b[1;33m\u001b[0m\u001b[1;33m\u001b[0m\u001b[0m\n\u001b[0m\u001b[0;32m     99\u001b[0m     \u001b[1;32mreturn\u001b[0m \u001b[0m_convert\u001b[0m\u001b[1;33m(\u001b[0m\u001b[0mnode_or_string\u001b[0m\u001b[1;33m)\u001b[0m\u001b[1;33m\u001b[0m\u001b[1;33m\u001b[0m\u001b[0m\n\u001b[0;32m    100\u001b[0m \u001b[1;33m\u001b[0m\u001b[0m\n",
      "\u001b[1;32mC:\\Users\\anac\\lib\\ast.py\u001b[0m in \u001b[0;36m_convert_signed_num\u001b[1;34m(node)\u001b[0m\n\u001b[0;32m     73\u001b[0m             \u001b[1;32melse\u001b[0m\u001b[1;33m:\u001b[0m\u001b[1;33m\u001b[0m\u001b[1;33m\u001b[0m\u001b[0m\n\u001b[0;32m     74\u001b[0m                 \u001b[1;32mreturn\u001b[0m \u001b[1;33m-\u001b[0m \u001b[0moperand\u001b[0m\u001b[1;33m\u001b[0m\u001b[1;33m\u001b[0m\u001b[0m\n\u001b[1;32m---> 75\u001b[1;33m         \u001b[1;32mreturn\u001b[0m \u001b[0m_convert_num\u001b[0m\u001b[1;33m(\u001b[0m\u001b[0mnode\u001b[0m\u001b[1;33m)\u001b[0m\u001b[1;33m\u001b[0m\u001b[1;33m\u001b[0m\u001b[0m\n\u001b[0m\u001b[0;32m     76\u001b[0m     \u001b[1;32mdef\u001b[0m \u001b[0m_convert\u001b[0m\u001b[1;33m(\u001b[0m\u001b[0mnode\u001b[0m\u001b[1;33m)\u001b[0m\u001b[1;33m:\u001b[0m\u001b[1;33m\u001b[0m\u001b[1;33m\u001b[0m\u001b[0m\n\u001b[0;32m     77\u001b[0m         \u001b[1;32mif\u001b[0m \u001b[0misinstance\u001b[0m\u001b[1;33m(\u001b[0m\u001b[0mnode\u001b[0m\u001b[1;33m,\u001b[0m \u001b[0mConstant\u001b[0m\u001b[1;33m)\u001b[0m\u001b[1;33m:\u001b[0m\u001b[1;33m\u001b[0m\u001b[1;33m\u001b[0m\u001b[0m\n",
      "\u001b[1;32mC:\\Users\\anac\\lib\\ast.py\u001b[0m in \u001b[0;36m_convert_num\u001b[1;34m(node)\u001b[0m\n\u001b[0;32m     64\u001b[0m     \u001b[1;32mdef\u001b[0m \u001b[0m_convert_num\u001b[0m\u001b[1;33m(\u001b[0m\u001b[0mnode\u001b[0m\u001b[1;33m)\u001b[0m\u001b[1;33m:\u001b[0m\u001b[1;33m\u001b[0m\u001b[1;33m\u001b[0m\u001b[0m\n\u001b[0;32m     65\u001b[0m         \u001b[1;32mif\u001b[0m \u001b[1;32mnot\u001b[0m \u001b[0misinstance\u001b[0m\u001b[1;33m(\u001b[0m\u001b[0mnode\u001b[0m\u001b[1;33m,\u001b[0m \u001b[0mConstant\u001b[0m\u001b[1;33m)\u001b[0m \u001b[1;32mor\u001b[0m \u001b[0mtype\u001b[0m\u001b[1;33m(\u001b[0m\u001b[0mnode\u001b[0m\u001b[1;33m.\u001b[0m\u001b[0mvalue\u001b[0m\u001b[1;33m)\u001b[0m \u001b[1;32mnot\u001b[0m \u001b[1;32min\u001b[0m \u001b[1;33m(\u001b[0m\u001b[0mint\u001b[0m\u001b[1;33m,\u001b[0m \u001b[0mfloat\u001b[0m\u001b[1;33m,\u001b[0m \u001b[0mcomplex\u001b[0m\u001b[1;33m)\u001b[0m\u001b[1;33m:\u001b[0m\u001b[1;33m\u001b[0m\u001b[1;33m\u001b[0m\u001b[0m\n\u001b[1;32m---> 66\u001b[1;33m             \u001b[0m_raise_malformed_node\u001b[0m\u001b[1;33m(\u001b[0m\u001b[0mnode\u001b[0m\u001b[1;33m)\u001b[0m\u001b[1;33m\u001b[0m\u001b[1;33m\u001b[0m\u001b[0m\n\u001b[0m\u001b[0;32m     67\u001b[0m         \u001b[1;32mreturn\u001b[0m \u001b[0mnode\u001b[0m\u001b[1;33m.\u001b[0m\u001b[0mvalue\u001b[0m\u001b[1;33m\u001b[0m\u001b[1;33m\u001b[0m\u001b[0m\n\u001b[0;32m     68\u001b[0m     \u001b[1;32mdef\u001b[0m \u001b[0m_convert_signed_num\u001b[0m\u001b[1;33m(\u001b[0m\u001b[0mnode\u001b[0m\u001b[1;33m)\u001b[0m\u001b[1;33m:\u001b[0m\u001b[1;33m\u001b[0m\u001b[1;33m\u001b[0m\u001b[0m\n",
      "\u001b[1;32mC:\\Users\\anac\\lib\\ast.py\u001b[0m in \u001b[0;36m_raise_malformed_node\u001b[1;34m(node)\u001b[0m\n\u001b[0;32m     61\u001b[0m         \u001b[0mnode_or_string\u001b[0m \u001b[1;33m=\u001b[0m \u001b[0mnode_or_string\u001b[0m\u001b[1;33m.\u001b[0m\u001b[0mbody\u001b[0m\u001b[1;33m\u001b[0m\u001b[1;33m\u001b[0m\u001b[0m\n\u001b[0;32m     62\u001b[0m     \u001b[1;32mdef\u001b[0m \u001b[0m_raise_malformed_node\u001b[0m\u001b[1;33m(\u001b[0m\u001b[0mnode\u001b[0m\u001b[1;33m)\u001b[0m\u001b[1;33m:\u001b[0m\u001b[1;33m\u001b[0m\u001b[1;33m\u001b[0m\u001b[0m\n\u001b[1;32m---> 63\u001b[1;33m         \u001b[1;32mraise\u001b[0m \u001b[0mValueError\u001b[0m\u001b[1;33m(\u001b[0m\u001b[1;34mf'malformed node or string: {node!r}'\u001b[0m\u001b[1;33m)\u001b[0m\u001b[1;33m\u001b[0m\u001b[1;33m\u001b[0m\u001b[0m\n\u001b[0m\u001b[0;32m     64\u001b[0m     \u001b[1;32mdef\u001b[0m \u001b[0m_convert_num\u001b[0m\u001b[1;33m(\u001b[0m\u001b[0mnode\u001b[0m\u001b[1;33m)\u001b[0m\u001b[1;33m:\u001b[0m\u001b[1;33m\u001b[0m\u001b[1;33m\u001b[0m\u001b[0m\n\u001b[0;32m     65\u001b[0m         \u001b[1;32mif\u001b[0m \u001b[1;32mnot\u001b[0m \u001b[0misinstance\u001b[0m\u001b[1;33m(\u001b[0m\u001b[0mnode\u001b[0m\u001b[1;33m,\u001b[0m \u001b[0mConstant\u001b[0m\u001b[1;33m)\u001b[0m \u001b[1;32mor\u001b[0m \u001b[0mtype\u001b[0m\u001b[1;33m(\u001b[0m\u001b[0mnode\u001b[0m\u001b[1;33m.\u001b[0m\u001b[0mvalue\u001b[0m\u001b[1;33m)\u001b[0m \u001b[1;32mnot\u001b[0m \u001b[1;32min\u001b[0m \u001b[1;33m(\u001b[0m\u001b[0mint\u001b[0m\u001b[1;33m,\u001b[0m \u001b[0mfloat\u001b[0m\u001b[1;33m,\u001b[0m \u001b[0mcomplex\u001b[0m\u001b[1;33m)\u001b[0m\u001b[1;33m:\u001b[0m\u001b[1;33m\u001b[0m\u001b[1;33m\u001b[0m\u001b[0m\n",
      "\u001b[1;31mValueError\u001b[0m: malformed node or string: <_ast.Call object at 0x000001D944CAACA0>"
     ]
    }
   ],
   "source": [
    "d7 = ast.literal_eval(df7.iat[0, 2])"
   ]
  },
  {
   "cell_type": "code",
   "execution_count": null,
   "id": "75422007",
   "metadata": {},
   "outputs": [],
   "source": []
  }
 ],
 "metadata": {
  "kernelspec": {
   "display_name": "Python 3",
   "language": "python",
   "name": "python3"
  },
  "language_info": {
   "codemirror_mode": {
    "name": "ipython",
    "version": 3
   },
   "file_extension": ".py",
   "mimetype": "text/x-python",
   "name": "python",
   "nbconvert_exporter": "python",
   "pygments_lexer": "ipython3",
   "version": "3.8.8"
  }
 },
 "nbformat": 4,
 "nbformat_minor": 5
}

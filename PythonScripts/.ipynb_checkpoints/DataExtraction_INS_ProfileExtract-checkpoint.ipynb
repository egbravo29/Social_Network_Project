{
 "cells": [
  {
   "cell_type": "code",
   "execution_count": 1,
   "id": "313e95c4",
   "metadata": {},
   "outputs": [],
   "source": [
    "import pandas as pd\n",
    "from datetime import datetime\n",
    "import time\n",
    "from time import gmtime, strftime\n",
    "import os\n",
    "\n",
    "# Web scraping\n",
    "from selenium import webdriver\n",
    "from selenium.webdriver.common.keys import Keys\n",
    "from selenium.webdriver.chrome.options import Options\n",
    "from fake_useragent import UserAgent\n",
    "\n",
    "from instascrape import *"
   ]
  },
  {
   "cell_type": "code",
   "execution_count": 2,
   "id": "659f82c2",
   "metadata": {},
   "outputs": [],
   "source": [
    "os. chdir('C:/Users/Esteban Guerrero/SocialNetworkProject/Iteration2/PythonScripts')\n",
    "%run ./DataProcessing_TextPreparation.ipynb"
   ]
  },
  {
   "cell_type": "code",
   "execution_count": 3,
   "id": "1387528d",
   "metadata": {},
   "outputs": [],
   "source": [
    "os. chdir('C:/Users/Esteban Guerrero/SocialNetworkProject/Iteration2/PythonScripts')\n",
    "%run ./DataProcessing_PrepareOutputIntoDF.ipynb"
   ]
  },
  {
   "cell_type": "code",
   "execution_count": 4,
   "id": "2a9f28ef",
   "metadata": {},
   "outputs": [],
   "source": [
    "# Initialize web scraping\n",
    "PATH = r\"C:\\Users\\Esteban Guerrero\\Downloads\\chromedriver_win32\\chromedriver.exe\"\n",
    "chOpt = webdriver.ChromeOptions()\n",
    "chOpt.add_argument(\"--lang=en\")\n",
    "\n",
    "# Initialize Instagram web scraping\n",
    "driverIns = webdriver.Chrome(PATH, options = chOpt)\n",
    "driverIns.get(\"https://www.instagram.com/\")\n",
    "driverIns.maximize_window()\n",
    "\n",
    "# login\n",
    "time.sleep(5)\n",
    "usernameIns = driverIns.find_element_by_css_selector(\"input[name='username']\")\n",
    "passwordIns = driverIns.find_element_by_css_selector(\"input[name='password']\")\n",
    "usernameIns.clear()\n",
    "passwordIns.clear()\n",
    "usernameIns.send_keys(\"bravedev89\")\n",
    "passwordIns.send_keys(\"titan@1990\")\n",
    "loginIns = driverIns.find_element_by_css_selector(\"button[type='submit']\").click()\n",
    "\n",
    "# Save your login info?\n",
    "time.sleep(10)\n",
    "notnowIns = driverIns.find_element_by_xpath(\"//button[contains(text(), 'Not Now')]\").click()\n",
    "##turn off notifaction\n",
    "time.sleep(10)\n",
    "notnow2Ins = driverIns.find_element_by_xpath(\"//button[contains(text(), 'Not Now')]\").click()"
   ]
  },
  {
   "cell_type": "code",
   "execution_count": 5,
   "id": "d288c56c",
   "metadata": {},
   "outputs": [],
   "source": [
    "# Function to web scrap per given profile, return profile data and posts list\n",
    "def INSProfileExtract(INSProfile0, INSAlias0):\n",
    "    \n",
    "    # Extract profile data and create dictionary with selected fields\n",
    "    profIns = Profile(INSProfile0)\n",
    "    time.sleep(3)\n",
    "    profIns.scrape(webdriver = driverIns)\n",
    "    profInsDict = profIns.to_dict()\n",
    "    InsProfOutDF = pd.DataFrame()\n",
    "    \n",
    "        \n",
    "    INSProfileOutput = {'Output1': {'User': INSAlias0, \n",
    "                                'Profile': {'description': TextCleansing(profInsDict.get('full_name')),\n",
    "                                            'business_category_name': TextCleansing(profInsDict.get('business_category_name')),\n",
    "                                            'overall_category_name': TextCleansing(profInsDict.get('overall_category_name')),\n",
    "                                            'longdescription': TextCleansing(profInsDict.get('biography')),\n",
    "                                            'followers': profInsDict.get('followers'),\n",
    "                                            'posts': profInsDict.get('posts'), \n",
    "                                            'following': profInsDict.get('following'),\n",
    "                                            'logging_page_id': profInsDict.get('logging_page_id'),\n",
    "                                            'id': profInsDict.get('id'),\n",
    "                                            'is_verified': profInsDict.get('is_verified')}},\n",
    "                        'Key1': INSProfile0}\n",
    "    \n",
    "    # Scroll down x times for posts to appear   \n",
    "    for j in range(0, 1):\n",
    "        try:\n",
    "            scrolldown = driverIns.execute_script(\"window.scrollTo(0, document.body.scrollHeight);var scrolldown=document.body.scrollHeight;return scrolldown;\")\n",
    "            time.sleep(5)\n",
    "        except:\n",
    "            z = 1\n",
    "    \n",
    "    # Obtain list of posts per profile\n",
    "    postsL = []\n",
    "    postLinks = driverIns.find_elements_by_tag_name('a')\n",
    "    for link in postLinks:\n",
    "        post = link.get_attribute('href')\n",
    "        if '/p' in post:\n",
    "            if ((post.find('privacy') == -1) and (post.find('directory') == -1) and (post.find('followers') == -1) and\n",
    "                (post.find('following') == -1) and (post.find('channel') == -1) and (post.find('tagged') == -1) and\n",
    "                (post.find(INSProfile0) == -1)):\n",
    "                postsL.append(post)\n",
    "    \n",
    "    postsDict = {'Output1': {'PostsDetails': {'Profile': INSProfile0, 'Alias': INSAlias0, 'PostsList': postsL}},\n",
    "                 'Key1': INSProfile0}\n",
    "    \n",
    "    InsProfOutDF = InsProfOutDF.append([INSProfileOutput, postsDict], ignore_index=True)\n",
    "\n",
    "    return InsProfOutDF"
   ]
  },
  {
   "cell_type": "code",
   "execution_count": 6,
   "id": "fbf384b7",
   "metadata": {},
   "outputs": [],
   "source": [
    "# Run loop to extract profile data and posts list and store in dataframe\n",
    "\n",
    "def INSProfileIDFunct(insUL0, insaliasL0):   \n",
    "    \n",
    "    INSProfileDF = pd.DataFrame()\n",
    "    i = 0 \n",
    "\n",
    "    for INSProfile in insUL0:\n",
    "        INSProfdf = INSProfileExtract(INSProfile, insaliasL0[i])\n",
    "        INSProfileDF = INSProfileDF.append(INSProfdf, ignore_index = True)\n",
    "        i = i + 1\n",
    "        time.sleep(3)\n",
    "    \n",
    "    outINSDF0 = PrepareOutputDF('K1', INSProfileDF, 'Automatic', 'ProfileID-Instagram')\n",
    "    \n",
    "    driverIns.quit()\n",
    "    \n",
    "    return outINSDF0"
   ]
  },
  {
   "cell_type": "code",
   "execution_count": 7,
   "id": "a5e9c22e",
   "metadata": {},
   "outputs": [],
   "source": [
    "#driverIns.quit()"
   ]
  }
 ],
 "metadata": {
  "kernelspec": {
   "display_name": "Python 3",
   "language": "python",
   "name": "python3"
  },
  "language_info": {
   "codemirror_mode": {
    "name": "ipython",
    "version": 3
   },
   "file_extension": ".py",
   "mimetype": "text/x-python",
   "name": "python",
   "nbconvert_exporter": "python",
   "pygments_lexer": "ipython3",
   "version": "3.8.8"
  }
 },
 "nbformat": 4,
 "nbformat_minor": 5
}

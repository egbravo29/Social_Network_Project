{
 "cells": [
  {
   "cell_type": "code",
   "execution_count": 1,
   "id": "460840ba",
   "metadata": {},
   "outputs": [],
   "source": [
    "def TextCleansing(textIn, mode = 'simple'):\n",
    "    \n",
    "    try:\n",
    "    \n",
    "        textOut = textIn.replace('\\n', ' ')\n",
    "        textOut = textOut.replace('á', 'A').replace('é', 'E').replace('í', 'I').replace('ó', 'O').replace('ú', 'U')\n",
    "        textOut = textOut.replace('Á', 'A').replace('É', 'E').replace('Í', 'I').replace('Ó', 'O').replace('Ú', 'U')\n",
    "        textOut = textOut.replace('ñ', 'N?').replace('Ñ', 'N?').replace('ü', 'U').replace('Ü', 'U')\n",
    "        textOut = textOut.replace('\\\\', ' ')\n",
    "        textOut = textOut.encode('ascii', 'ignore').decode('UTF-8')\n",
    "        textOut = textOut.upper()\n",
    "\n",
    "        #if mode == 'simple':\n",
    "\n",
    "        return textOut\n",
    "    \n",
    "    except:\n",
    "        return None"
   ]
  }
 ],
 "metadata": {
  "kernelspec": {
   "display_name": "Python 3",
   "language": "python",
   "name": "python3"
  },
  "language_info": {
   "codemirror_mode": {
    "name": "ipython",
    "version": 3
   },
   "file_extension": ".py",
   "mimetype": "text/x-python",
   "name": "python",
   "nbconvert_exporter": "python",
   "pygments_lexer": "ipython3",
   "version": "3.8.8"
  }
 },
 "nbformat": 4,
 "nbformat_minor": 5
}

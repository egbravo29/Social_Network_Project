{
 "cells": [
  {
   "cell_type": "code",
   "execution_count": 1,
   "id": "d3839839",
   "metadata": {},
   "outputs": [],
   "source": [
    "import pandas as pd"
   ]
  },
  {
   "cell_type": "code",
   "execution_count": 2,
   "id": "d430f694",
   "metadata": {},
   "outputs": [],
   "source": [
    "import os"
   ]
  },
  {
   "cell_type": "code",
   "execution_count": 3,
   "id": "d2d24862",
   "metadata": {},
   "outputs": [],
   "source": [
    "df1 = pd.read_excel('C:/Users/Esteban Guerrero/SocialNetworkProject/Iteration2/Datasets/MasterDataExtract.xlsx', dtype = object)"
   ]
  },
  {
   "cell_type": "code",
   "execution_count": 4,
   "id": "53a48db4",
   "metadata": {},
   "outputs": [
    {
     "data": {
      "text/html": [
       "<div>\n",
       "<style scoped>\n",
       "    .dataframe tbody tr th:only-of-type {\n",
       "        vertical-align: middle;\n",
       "    }\n",
       "\n",
       "    .dataframe tbody tr th {\n",
       "        vertical-align: top;\n",
       "    }\n",
       "\n",
       "    .dataframe thead th {\n",
       "        text-align: right;\n",
       "    }\n",
       "</style>\n",
       "<table border=\"1\" class=\"dataframe\">\n",
       "  <thead>\n",
       "    <tr style=\"text-align: right;\">\n",
       "      <th></th>\n",
       "      <th>Alias</th>\n",
       "      <th>Description</th>\n",
       "      <th>KeySearch</th>\n",
       "      <th>Plattform</th>\n",
       "      <th>MainCategory</th>\n",
       "      <th>KeySearchType</th>\n",
       "    </tr>\n",
       "  </thead>\n",
       "  <tbody>\n",
       "    <tr>\n",
       "      <th>0</th>\n",
       "      <td>Milei</td>\n",
       "      <td>Javier Milei</td>\n",
       "      <td>JMilei</td>\n",
       "      <td>Twitter</td>\n",
       "      <td>Politics</td>\n",
       "      <td>ProfileID</td>\n",
       "    </tr>\n",
       "    <tr>\n",
       "      <th>1</th>\n",
       "      <td>Milei</td>\n",
       "      <td>Javier Milei</td>\n",
       "      <td>javiermilei</td>\n",
       "      <td>Instagram</td>\n",
       "      <td>Politics</td>\n",
       "      <td>ProfileID</td>\n",
       "    </tr>\n",
       "    <tr>\n",
       "      <th>2</th>\n",
       "      <td>Milei</td>\n",
       "      <td>Javier Milei</td>\n",
       "      <td>UCwKZnJ48oXRCCGCQbL1BPSA</td>\n",
       "      <td>YouTube</td>\n",
       "      <td>Politics</td>\n",
       "      <td>ProfileID</td>\n",
       "    </tr>\n",
       "    <tr>\n",
       "      <th>3</th>\n",
       "      <td>Milei</td>\n",
       "      <td>Javier Milei</td>\n",
       "      <td>JavierMileiEconomista</td>\n",
       "      <td>Facebook</td>\n",
       "      <td>Politics</td>\n",
       "      <td>ProfileID</td>\n",
       "    </tr>\n",
       "    <tr>\n",
       "      <th>4</th>\n",
       "      <td>Espert</td>\n",
       "      <td>Jose Luis Espert</td>\n",
       "      <td>jlespert</td>\n",
       "      <td>Twitter</td>\n",
       "      <td>Politics</td>\n",
       "      <td>ProfileID</td>\n",
       "    </tr>\n",
       "  </tbody>\n",
       "</table>\n",
       "</div>"
      ],
      "text/plain": [
       "    Alias       Description                 KeySearch  Plattform MainCategory  \\\n",
       "0   Milei      Javier Milei                    JMilei    Twitter     Politics   \n",
       "1   Milei      Javier Milei               javiermilei  Instagram     Politics   \n",
       "2   Milei      Javier Milei  UCwKZnJ48oXRCCGCQbL1BPSA    YouTube     Politics   \n",
       "3   Milei      Javier Milei     JavierMileiEconomista   Facebook     Politics   \n",
       "4  Espert  Jose Luis Espert                  jlespert    Twitter     Politics   \n",
       "\n",
       "  KeySearchType  \n",
       "0     ProfileID  \n",
       "1     ProfileID  \n",
       "2     ProfileID  \n",
       "3     ProfileID  \n",
       "4     ProfileID  "
      ]
     },
     "execution_count": 4,
     "metadata": {},
     "output_type": "execute_result"
    }
   ],
   "source": [
    "df1.head()"
   ]
  },
  {
   "cell_type": "code",
   "execution_count": 5,
   "id": "18afef94",
   "metadata": {},
   "outputs": [],
   "source": [
    "Plattform = df1.Plattform.sort_values().drop_duplicates().values.tolist()"
   ]
  },
  {
   "cell_type": "code",
   "execution_count": 6,
   "id": "ef601860",
   "metadata": {},
   "outputs": [],
   "source": [
    "os. chdir('C:/Users/Esteban Guerrero/SocialNetworkProject/PythonScripts/YouTubeModule')\n",
    "%run ./YTModule_ProfileExtract_V1.ipynb"
   ]
  },
  {
   "cell_type": "code",
   "execution_count": 7,
   "id": "c69ad225",
   "metadata": {},
   "outputs": [],
   "source": [
    "os. chdir('C:/Users/Esteban Guerrero/SocialNetworkProject/PythonScripts/TwitterModule')\n",
    "%run ./TWModule_ProfileExtract_V1.ipynb"
   ]
  },
  {
   "cell_type": "code",
   "execution_count": 8,
   "id": "5a172513",
   "metadata": {},
   "outputs": [],
   "source": [
    "os. chdir('C:/Users/Esteban Guerrero/SocialNetworkProject/PythonScripts/InstagramModule')\n",
    "%run ./INSModule_ProfileExtract_V1.ipynb"
   ]
  },
  {
   "cell_type": "code",
   "execution_count": 9,
   "id": "1b9cdeb4",
   "metadata": {},
   "outputs": [],
   "source": [
    "os. chdir('C:/Users/Esteban Guerrero/SocialNetworkProject/PythonScripts/DataProcessing')\n",
    "%run ./DataProcessing_PrepareOutputIntoDF_V3.ipynb"
   ]
  },
  {
   "cell_type": "code",
   "execution_count": 10,
   "id": "244e8575",
   "metadata": {},
   "outputs": [
    {
     "name": "stdout",
     "output_type": "stream",
     "text": [
      "Twitter\n",
      "YouTube\n"
     ]
    }
   ],
   "source": [
    "outputDF = pd.DataFrame()\n",
    "for pl in Plattform:\n",
    "\n",
    "    df2 = df1[(df1.KeySearchType == 'ProfileID') & (df1.Plattform == pl) & (df1.KeySearch.notna())]\n",
    "    \n",
    "    if pl == 'YouTube':\n",
    "        df3 = df2[df2.Plattform == 'YouTube']\n",
    "        chL = df3.KeySearch.values.tolist()\n",
    "        userL = df3.Alias.values.tolist()\n",
    "        outputYTdf = YTProfileIDFunct(chL, userL)\n",
    "        outYTDF = PrepareOutputDF('K1', outputYTdf, 'Automatic', 'ProfileID-YouTube')\n",
    "        print(pl)\n",
    "    \n",
    "    if pl == 'Twitter':\n",
    "        df4 = df2[df2.Plattform == 'Twitter']\n",
    "        twuL = df4.KeySearch.values.tolist()\n",
    "        twaliasL = df4.Alias.values.tolist()\n",
    "        outputTWdf = TWProfileIDFunct(twuL, twaliasL)\n",
    "        outTWDF = PrepareOutputDF('K1', outputTWdf, 'Automatic', 'ProfileID-Twitter')\n",
    "        print(pl)\n",
    "        \n",
    "#     if pl == 'Instagram':\n",
    "#         df5 = df2[df2.Plattform == 'Instagram']\n",
    "#         insUL = df5.KeySearch.values.tolist()\n",
    "#         insaliasL = df5.Alias.values.tolist()\n",
    "#         outputINSdf = INSProfileIDFunct(insUL, insaliasL)\n",
    "#         outINSDF = PrepareOutputDF('K1', outputINSdf, 'Automatic', 'ProfileID-Instagram')\n",
    "#         print(pl)"
   ]
  },
  {
   "cell_type": "code",
   "execution_count": 11,
   "id": "b11a6f92",
   "metadata": {},
   "outputs": [],
   "source": [
    "#outputDF = outputDF.append([outYTDF, outTWDF, outINSDF], ignore_index = True)\n",
    "outputDF = outputDF.append([outYTDF, outTWDF], ignore_index = True)"
   ]
  },
  {
   "cell_type": "code",
   "execution_count": 12,
   "id": "c1758ed4",
   "metadata": {},
   "outputs": [],
   "source": [
    "DF = pd.read_csv('C:/Users/Esteban Guerrero/SocialNetworkProject/Datasets/NetworkFeedRawOutput.csv', index_col = False, encoding = 'ISO-8859-1')\n",
    "DF = DF.append(outputDF, ignore_index = True)\n",
    "\n",
    "DF.to_csv('C:/Users/Esteban Guerrero/SocialNetworkProject/Datasets/NetworkFeedRawOutput.csv', index = False)"
   ]
  }
 ],
 "metadata": {
  "kernelspec": {
   "display_name": "Python 3",
   "language": "python",
   "name": "python3"
  },
  "language_info": {
   "codemirror_mode": {
    "name": "ipython",
    "version": 3
   },
   "file_extension": ".py",
   "mimetype": "text/x-python",
   "name": "python",
   "nbconvert_exporter": "python",
   "pygments_lexer": "ipython3",
   "version": "3.8.8"
  }
 },
 "nbformat": 4,
 "nbformat_minor": 5
}

{
 "cells": [
  {
   "cell_type": "code",
   "execution_count": 1,
   "id": "5dcef26e",
   "metadata": {},
   "outputs": [],
   "source": [
    "import pandas as pd\n",
    "from datetime import datetime\n",
    "import time\n",
    "from time import gmtime, strftime\n",
    "import os\n",
    "\n",
    "# Twitter Tweepy\n",
    "import tweepy\n",
    "from tweepy import OAuthHandler"
   ]
  },
  {
   "cell_type": "code",
   "execution_count": null,
   "id": "6a3e2d0c",
   "metadata": {},
   "outputs": [],
   "source": [
    "os. chdir('C:/Users/Esteban Guerrero/SocialNetworkProject/Iteration2/PythonScripts')\n",
    "%run ./DataProcessing_TextPreparation.ipynb"
   ]
  },
  {
   "cell_type": "code",
   "execution_count": 2,
   "id": "947d03b8",
   "metadata": {},
   "outputs": [],
   "source": [
    "### Twitter credentials for the app\n",
    "consumer_key = 'm76rfbK1tEj7144DwucIlR6wL' # API Key\n",
    "consumer_secret = 'usfrIh8AcSTflRqeu3i8o9aM00z8oYgWmdxqwPiGnUlgXXWnhn' # API Secret\n",
    "access_key = '1372223137-Tgv2wNgQSMIbJh5wxlMb3k4KetkiX888SG4wVsd' # Access token\n",
    "access_secret = 'wp7VBFw59gZYu3BKgqo1c1F8rNsoLwYJmMP2kZuRif4Xc' # Access secret token"
   ]
  },
  {
   "cell_type": "code",
   "execution_count": 3,
   "id": "f0dc2d3d",
   "metadata": {},
   "outputs": [],
   "source": [
    "auth = OAuthHandler(consumer_key, consumer_secret)"
   ]
  },
  {
   "cell_type": "code",
   "execution_count": 4,
   "id": "3d793dbb",
   "metadata": {},
   "outputs": [],
   "source": [
    "### Pass twitter credentials to tweepy\n",
    "auth = tweepy.OAuthHandler(consumer_key, consumer_secret)\n",
    "auth.set_access_token(access_key, access_secret)\n",
    "apiTW = tweepy.API(auth)"
   ]
  },
  {
   "cell_type": "code",
   "execution_count": 5,
   "id": "794ea12b",
   "metadata": {},
   "outputs": [],
   "source": [
    "def TWProfileIDFunct(twuL0, twaliasL0):\n",
    "    \n",
    "    outputTWDF = pd.DataFrame()\n",
    "    i = 0\n",
    "    for twu in twuL0:\n",
    "        descriptionTW = apiTW.get_user(twu).name\n",
    "        longdescriptionTW = apiTW.get_user(twu).description\n",
    "        linkTW = apiTW.get_user(twu).url\n",
    "        followersTW = apiTW.get_user(twu).followers_count\n",
    "        followingTW = apiTW.get_user(twu).friends_count\n",
    "        likesTW = ''\n",
    "        locationTW = apiTW.get_user(twu).location\n",
    "        joinedTW = apiTW.get_user(twu).created_at.strftime(\"%Y-%m-%d %H:%M:%S\")\n",
    "\n",
    "        outputTW = {'Output1': {'User': twaliasL[i], 'Profile': {'description': TextCleansing(descriptionTW),\n",
    "                                                                 'longdescription': TextCleansing(longdescriptionTW), \n",
    "                    'link': linkTW, 'followers': followersTW, 'following': followingTW, 'likes': likesTW,\n",
    "                    'location': locationTW, 'joined': joinedTW}}, 'Key1': twu}\n",
    "        \n",
    "        outputTWDF = outputTWDF.append(outputTW, ignore_index = True)\n",
    "        \n",
    "        i = i + 1\n",
    "    \n",
    "    return outputTWDF"
   ]
  }
 ],
 "metadata": {
  "kernelspec": {
   "display_name": "Python 3",
   "language": "python",
   "name": "python3"
  },
  "language_info": {
   "codemirror_mode": {
    "name": "ipython",
    "version": 3
   },
   "file_extension": ".py",
   "mimetype": "text/x-python",
   "name": "python",
   "nbconvert_exporter": "python",
   "pygments_lexer": "ipython3",
   "version": "3.8.8"
  }
 },
 "nbformat": 4,
 "nbformat_minor": 5
}

{
 "cells": [
  {
   "cell_type": "code",
   "execution_count": 5,
   "id": "515e73e2",
   "metadata": {},
   "outputs": [],
   "source": [
    "from datetime import datetime, timezone\n",
    "from time import gmtime, strftime\n",
    "import json\n",
    "import pandas as pd"
   ]
  },
  {
   "cell_type": "code",
   "execution_count": 6,
   "id": "105030eb",
   "metadata": {},
   "outputs": [],
   "source": [
    "# Function to prepare output dataframe\n",
    "\n",
    "def PrepareOutputDF(KeyType, DF00, ExtrMethod0, ExtrType0):\n",
    "\n",
    "    DF0 = DF00.copy(deep = True).reset_index(drop = True)\n",
    "    del DF00\n",
    "        \n",
    "    DF0['Output1'] = DF0.Output1.replace({r'[^\\x00-x7F]+': '', r'\\\\n': ' ', '\"': ''}, regex = True)\n",
    "    \n",
    "    if KeyType == 'K1':\n",
    "        DF0['Key2'] = ''\n",
    "    if KeyType == 'K2':\n",
    "        DF0['Key1'] = ''\n",
    "    \n",
    "    DF0['ExtractionDateTime'] = ''\n",
    "    DF0['ExtractionDateTime'] = DF0.ExtractionDateTime.apply(lambda x: datetime.now().strftime(\"%Y-%m-%d %H:%M:%S \") \n",
    "                                          + str(strftime(\"%z\", gmtime())))\n",
    "    DF0['ExtrMethod'] = ExtrMethod0    \n",
    "    DF0['ExtrType'] = ExtrType0\n",
    "\n",
    "    DF0 = DF0.reindex(columns = ['Key1', 'Key2', 'Output1', 'ExtractionDateTime', 'ExtrMethod', 'ExtrType'])\n",
    "    \n",
    "    #DF1 = pd.read_csv('C:/Users/Esteban Guerrero/SocialNetworkProject/Datasets/NetworkFeedRawOutput.csv', index_col = False, encoding = 'ISO-8859-1')\n",
    "    #DF1 = DF1.append([DF1, DF0, df7], ignore_index = True)\n",
    "    #DF1.to_csv('C:/Users/Esteban Guerrero/SocialNetworkProject/Datasets/NetworkFeedRawOutput.csv', index = False)\n",
    "    \n",
    "    return DF0"
   ]
  }
 ],
 "metadata": {
  "kernelspec": {
   "display_name": "Python 3",
   "language": "python",
   "name": "python3"
  },
  "language_info": {
   "codemirror_mode": {
    "name": "ipython",
    "version": 3
   },
   "file_extension": ".py",
   "mimetype": "text/x-python",
   "name": "python",
   "nbconvert_exporter": "python",
   "pygments_lexer": "ipython3",
   "version": "3.8.8"
  }
 },
 "nbformat": 4,
 "nbformat_minor": 5
}

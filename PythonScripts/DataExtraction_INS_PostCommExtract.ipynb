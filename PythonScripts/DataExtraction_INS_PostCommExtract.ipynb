{
 "cells": [
  {
   "cell_type": "code",
   "execution_count": 2,
   "id": "313e95c4",
   "metadata": {},
   "outputs": [],
   "source": [
    "import pandas as pd\n",
    "from datetime import datetime\n",
    "import time\n",
    "from time import gmtime, strftime\n",
    "import os\n",
    "import ast\n",
    "import uuid\n",
    "\n",
    "# Web scraping\n",
    "from selenium import webdriver\n",
    "from selenium.webdriver.common.keys import Keys\n",
    "from selenium.webdriver.chrome.options import Options\n",
    "from fake_useragent import UserAgent\n",
    "\n",
    "from instascrape import *"
   ]
  },
  {
   "cell_type": "code",
   "execution_count": 24,
   "id": "53042026",
   "metadata": {},
   "outputs": [],
   "source": [
    "# Obtain list of posts per profile\n",
    "df1 = pd.read_csv('C:/Users/Esteban Guerrero/SocialNetworkProject/Iteration2/Datasets/NetworkFeedRawOutput.csv',\n",
    "                  index_col = False, encoding = 'ISO-8859-1')\n",
    "df1 = df1[(df1.ExtrType == 'ProfileID-Instagram') & (df1.Output1.str.contains('PostsDetails'))]\n",
    "df1 = df1.sort_values(by = ['Key1', 'ExtractionDateTime'], ascending = False).reset_index(drop = True)\n",
    "df1 = df1.drop_duplicates(subset = ['Key1']).reset_index(drop = True)"
   ]
  },
  {
   "cell_type": "code",
   "execution_count": 35,
   "id": "5490fc4d",
   "metadata": {},
   "outputs": [],
   "source": [
    "os. chdir('C:/Users/Esteban Guerrero/SocialNetworkProject/Iteration2/PythonScripts')\n",
    "%run ./DataProcessing_PrepareOutputIntoDF.ipynb"
   ]
  },
  {
   "cell_type": "code",
   "execution_count": null,
   "id": "e51b5d3a",
   "metadata": {},
   "outputs": [],
   "source": [
    "os. chdir('C:/Users/Esteban Guerrero/SocialNetworkProject/Iteration2/PythonScripts')\n",
    "%run ./DataProcessing_TextPreparation.ipynb"
   ]
  },
  {
   "cell_type": "code",
   "execution_count": 36,
   "id": "2a9f28ef",
   "metadata": {},
   "outputs": [],
   "source": [
    "# Initialize web scraping\n",
    "PATH = r\"C:\\Users\\Esteban Guerrero\\Downloads\\chromedriver_win32\\chromedriver.exe\"\n",
    "chOpt = webdriver.ChromeOptions()\n",
    "chOpt.add_argument(\"--lang=en\")\n",
    "\n",
    "# Initialize Instagram web scraping\n",
    "driverIns = webdriver.Chrome(PATH, options = chOpt)\n",
    "driverIns.get(\"https://www.instagram.com/\")\n",
    "driverIns.maximize_window()\n",
    "\n",
    "# login\n",
    "time.sleep(5)\n",
    "usernameIns = driverIns.find_element_by_css_selector(\"input[name='username']\")\n",
    "passwordIns = driverIns.find_element_by_css_selector(\"input[name='password']\")\n",
    "usernameIns.clear()\n",
    "passwordIns.clear()\n",
    "usernameIns.send_keys(\"uxyz\")\n",
    "passwordIns.send_keys(\"pxyz\")\n",
    "loginIns = driverIns.find_element_by_css_selector(\"button[type='submit']\").click()\n",
    "\n",
    "# Save your login info?\n",
    "time.sleep(10)\n",
    "notnowIns = driverIns.find_element_by_xpath(\"//button[contains(text(), 'Not Now')]\").click()\n",
    "##turn off notifaction\n",
    "time.sleep(10)\n",
    "notnow2Ins = driverIns.find_element_by_xpath(\"//button[contains(text(), 'Not Now')]\").click()"
   ]
  },
  {
   "cell_type": "code",
   "execution_count": 37,
   "id": "35b2168c",
   "metadata": {},
   "outputs": [],
   "source": [
    "# Function to extract data per user post and extract some comments\n",
    "\n",
    "def INSPostWebScrap(INSProfile1, INSAlias1, INSPostList1):\n",
    "    \n",
    "    postOutputDF = pd.DataFrame()\n",
    "    commentsOutputDF = pd.DataFrame()\n",
    "    \n",
    "    for pst in INSPostList1:\n",
    "            \n",
    "        # Extract post data per post\n",
    "\n",
    "        pst1 = Post(pst)\n",
    "        pst1.scrape(webdriver = driverIns)\n",
    "        pst1dict = pst1.to_dict()\n",
    "\n",
    "        postOutput = {'Output1': {'User': INSAlias1, 'Post': {'id': str(pst1dict.get('id')),\n",
    "                                                                'shortcode': str(pst1dict.get('shortcode')),\n",
    "                                                                'tagged_users': TextCleansing(str(pst1dict.get('tagged_users'))), \n",
    "                                                                'comments': str(pst1dict.get('comments')),\n",
    "                                                                'upload_date': str(pst1dict.get('upload_date')),\n",
    "                                                                'likes': str(pst1dict.get('likes')),\n",
    "                                                                'location': str(pst1dict.get('location')),\n",
    "                                                                'video_view_count': str(pst1dict.get('video_view_count')),\n",
    "                                                                'hashtags': TextCleansing(str(pst1dict.get('hashtags'))),\n",
    "                                                                'caption': TextCleansing(pst1dict.get('caption'))}},\n",
    "                      'Key1': INSProfile1, 'Key2': str(pst1dict.get('shortcode'))}\n",
    "\n",
    "        postOutputDF = postOutputDF.append(postOutput, ignore_index=True)\n",
    "\n",
    "        # Click the load more comments button 5 times\n",
    "\n",
    "        check1 = True\n",
    "        m = 1\n",
    "        while ((check1) and (m <= 5)):\n",
    "            try:\n",
    "                moreCommentsButton = driverIns.find_element_by_xpath('//*[@id=\"react-root\"]/section/main/div/div[1]/article/div[3]/div[1]/ul/li/div/button/span').click()\n",
    "                time.sleep(2)\n",
    "            except:\n",
    "                check1 = False\n",
    "\n",
    "            m = m + 1\n",
    "\n",
    "        # Extract comments data\n",
    "\n",
    "        check2 = True\n",
    "        n = 1\n",
    "        while check2:\n",
    "            try:\n",
    "                authorXPath = '//*[@id=\"react-root\"]/section/main/div/div[1]/article/div[3]/div[1]/ul/ul['+str(n)+']/div/li/div/div[1]/div[2]/h3/div/span/a'\n",
    "                commentXPath = '//*[@id=\"react-root\"]/section/main/div/div[1]/article/div[3]/div[1]/ul/ul['+str(n)+']/div/li/div/div[1]/div[2]/span'\n",
    "                likesXPath = '//*[@id=\"react-root\"]/section/main/div/div[1]/article/div[3]/div[1]/ul/ul['+str(n)+']/div/li/div/div[1]/div[2]/div/div/button[1]'\n",
    "                dateXPath = '//*[@id=\"react-root\"]/section/main/div/div[1]/article/div[3]/div[1]/ul/ul['+str(n)+']/div/li/div/div[1]/div[2]/div/div/a/time'\n",
    "\n",
    "                authorText = driverIns.find_element_by_xpath(authorXPath).text\n",
    "                likesText = driverIns.find_element_by_xpath(likesXPath).text\n",
    "                dateText = driverIns.find_element_by_xpath(dateXPath).get_attribute('datetime')\n",
    "                commentText = driverIns.find_element_by_xpath(commentXPath).text\n",
    "\n",
    "                commentOutput = {'Output1': {'User': INSAlias1, 'CommentLine': {'Author': TextCleansing(authorText),\n",
    "                                                                                'Likes': likesText,\n",
    "                                                                                'Date': dateText,\n",
    "                                                                                'id_str': str(uuid.uuid4()),\n",
    "                                                                                'Comment': TextCleansing(commentText)}},\n",
    "                                 'Key1': INSProfile1, 'Key2': pst1dict.get('shortcode')}                                  \n",
    "\n",
    "                commentsOutputDF = commentsOutputDF.append(commentOutput, ignore_index=True)\n",
    "                n = n + 1\n",
    "            except:\n",
    "                check2 = False\n",
    "\n",
    "        time.sleep(5)\n",
    "    \n",
    "    return postOutputDF, commentsOutputDF"
   ]
  },
  {
   "cell_type": "code",
   "execution_count": 38,
   "id": "6c87dcc2",
   "metadata": {},
   "outputs": [
    {
     "name": "stdout",
     "output_type": "stream",
     "text": [
      "*** PLibCABA \n",
      "start\t 2021-08-02 12:45:35.817523\n",
      "end\t 2021-08-02 12:46:32.579392\n",
      "*** Espert \n",
      "start\t 2021-08-02 12:46:32.580385\n",
      "end\t 2021-08-02 12:49:53.492342\n",
      "*** Milei \n",
      "start\t 2021-08-02 12:49:53.496341\n",
      "end\t 2021-08-02 12:53:49.167504\n",
      "*** ClauG \n",
      "start\t 2021-08-02 12:53:49.168503\n",
      "end\t 2021-08-02 12:54:35.756409\n"
     ]
    }
   ],
   "source": [
    "# Run loop to extract posts data and comments\n",
    "\n",
    "INSPostDF = pd.DataFrame()\n",
    "INSCommDF = pd.DataFrame()\n",
    "\n",
    "for i in range(0, len(df1.Output1)):\n",
    "    print('***', ast.literal_eval(df1.iat[i, 2]).get('PostsDetails').get('Alias'), '\\nstart\\t', datetime.now())\n",
    "    INSpdf, INScdf = INSPostWebScrap(ast.literal_eval(df1.iat[i, 2]).get('PostsDetails').get('Profile'),\n",
    "                                     ast.literal_eval(df1.iat[i, 2]).get('PostsDetails').get('Alias'),\n",
    "                                     ast.literal_eval(df1.iat[i, 2]).get('PostsDetails').get('PostsList')[:5])\n",
    "    INSPostDF = INSPostDF.append(INSpdf, ignore_index=True)\n",
    "    INSCommDF = INSCommDF.append(INScdf, ignore_index=True)\n",
    "    print('end\\t', datetime.now())"
   ]
  },
  {
   "cell_type": "code",
   "execution_count": 39,
   "id": "ef8537e3",
   "metadata": {},
   "outputs": [],
   "source": [
    "InsPostDetDF = PrepareOutputDF('K12', INSPostDF, 'Automatic', 'PostDetails-Instagram')\n",
    "InsCommtDF = PrepareOutputDF('K12', INSCommDF, 'Automatic', 'PostComments-Instagram')"
   ]
  },
  {
   "cell_type": "code",
   "execution_count": 40,
   "id": "cbde720f",
   "metadata": {},
   "outputs": [],
   "source": [
    "DF = pd.read_csv('C:/Users/Esteban Guerrero/SocialNetworkProject/Iteration2/Datasets/NetworkFeedRawOutput.csv', index_col = False, encoding = 'ISO-8859-1')\n",
    "DF = DF.append([InsPostDetDF, InsCommtDF], ignore_index = True)\n",
    "\n",
    "DF.to_csv('C:/Users/Esteban Guerrero/SocialNetworkProject/Iteration2/Datasets/NetworkFeedRawOutput.csv', index = False)"
   ]
  },
  {
   "cell_type": "code",
   "execution_count": 41,
   "id": "a5e9c22e",
   "metadata": {},
   "outputs": [],
   "source": [
    "driverIns.quit()"
   ]
  }
 ],
 "metadata": {
  "kernelspec": {
   "display_name": "Python 3",
   "language": "python",
   "name": "python3"
  },
  "language_info": {
   "codemirror_mode": {
    "name": "ipython",
    "version": 3
   },
   "file_extension": ".py",
   "mimetype": "text/x-python",
   "name": "python",
   "nbconvert_exporter": "python",
   "pygments_lexer": "ipython3",
   "version": "3.8.8"
  }
 },
 "nbformat": 4,
 "nbformat_minor": 5
}

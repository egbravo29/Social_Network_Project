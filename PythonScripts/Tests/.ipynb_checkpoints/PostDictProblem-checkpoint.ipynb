{
 "cells": [
  {
   "cell_type": "code",
   "execution_count": 5,
   "id": "2af1983c",
   "metadata": {},
   "outputs": [],
   "source": [
    "import pandas as pd\n",
    "\n",
    "import time\n",
    "from time import gmtime, strftime\n",
    "import os\n",
    "import ast\n",
    "import uuid\n",
    "from dateutil.parser import parse\n",
    "\n",
    "# Web scraping\n",
    "from selenium import webdriver\n",
    "from selenium.webdriver.common.keys import Keys\n",
    "from selenium.webdriver.chrome.options import Options\n",
    "from fake_useragent import UserAgent\n",
    "\n",
    "from instascrape import *"
   ]
  },
  {
   "cell_type": "code",
   "execution_count": 6,
   "id": "bcc6bb46",
   "metadata": {},
   "outputs": [],
   "source": [
    "os. chdir('C:/Users/Esteban Guerrero/SocialNetworkProject/Iteration2/PythonScripts')\n",
    "%run ./DataProcessing_TextPreparation.ipynb"
   ]
  },
  {
   "cell_type": "code",
   "execution_count": 7,
   "id": "c6eb679a",
   "metadata": {},
   "outputs": [],
   "source": [
    "os. chdir('C:/Users/Esteban Guerrero/SocialNetworkProject/Iteration2/PythonScripts')\n",
    "%run ./DataProcessing_PrepareOutputIntoDF.ipynb"
   ]
  },
  {
   "cell_type": "code",
   "execution_count": 8,
   "id": "b1f168a1",
   "metadata": {},
   "outputs": [],
   "source": [
    "# Initialize web scraping\n",
    "PATH = r\"C:\\Users\\Esteban Guerrero\\Downloads\\chromedriver_win32\\chromedriver.exe\"\n",
    "chOpt = webdriver.ChromeOptions()\n",
    "chOpt.add_argument(\"--lang=en\")\n",
    "\n",
    "# Initialize Instagram web scraping\n",
    "driverIns = webdriver.Chrome(PATH, options = chOpt)\n",
    "driverIns.get(\"https://www.instagram.com/\")\n",
    "driverIns.maximize_window()\n",
    "\n",
    "# login\n",
    "time.sleep(5)\n",
    "usernameIns = driverIns.find_element_by_css_selector(\"input[name='username']\")\n",
    "passwordIns = driverIns.find_element_by_css_selector(\"input[name='password']\")\n",
    "usernameIns.clear()\n",
    "passwordIns.clear()\n",
    "usernameIns.send_keys(\"bravedev89\")\n",
    "passwordIns.send_keys(\"titan@1990\")\n",
    "loginIns = driverIns.find_element_by_css_selector(\"button[type='submit']\").click()\n",
    "\n",
    "# Save your login info?\n",
    "time.sleep(10)\n",
    "notnowIns = driverIns.find_element_by_xpath(\"//button[contains(text(), 'Not Now')]\").click()\n",
    "##turn off notifaction\n",
    "time.sleep(10)\n",
    "notnow2Ins = driverIns.find_element_by_xpath(\"//button[contains(text(), 'Not Now')]\").click()"
   ]
  },
  {
   "cell_type": "code",
   "execution_count": 9,
   "id": "b0e23b6d",
   "metadata": {},
   "outputs": [],
   "source": [
    "postOutputDF = pd.DataFrame()\n",
    "\n",
    "pst1 = Post('https://www.instagram.com/p/CSK4RE6D-at/')\n",
    "pst1.scrape(webdriver = driverIns)\n",
    "pst1dict = pst1.to_dict()\n",
    "\n",
    "postOutput = {'Output1': {'User': 'INSAlias1', 'Post': {'id': str(pst1dict.get('id')),\n",
    "                                                        'shortcode': str(pst1dict.get('shortcode')),\n",
    "                                                        'tagged_users': str(pst1dict.get('tagged_users')), \n",
    "                                                        'comments': str(pst1dict.get('comments')),\n",
    "                                                        'upload_date': str(pst1dict.get('upload_date')),\n",
    "                                                        'likes': str(pst1dict.get('likes')),\n",
    "                                                        'location': str(pst1dict.get('location')),\n",
    "                                                        'video_view_count': str(pst1dict.get('video_view_count')),\n",
    "                                                        'hashtags': str(pst1dict.get('hashtags')),\n",
    "                                                        'caption': TextCleansing(pst1dict.get('caption'))}},\n",
    "              'Key1': 'INSProfile1', 'Key2': str(pst1dict.get('shortcode'))}\n",
    "\n",
    "postOutputDF = postOutputDF.append(postOutput, ignore_index=True)"
   ]
  },
  {
   "cell_type": "code",
   "execution_count": 10,
   "id": "b43a968a",
   "metadata": {},
   "outputs": [
    {
     "data": {
      "text/plain": [
       "{'Output1': {'User': 'INSAlias1',\n",
       "  'Post': {'id': '2619407336221837475',\n",
       "   'shortcode': 'CRaARgVjgij',\n",
       "   'tagged_users': '[]',\n",
       "   'comments': '354',\n",
       "   'upload_date': '2021-07-16 20:21:49',\n",
       "   'likes': '21808',\n",
       "   'location': 'nan',\n",
       "   'video_view_count': 'nan',\n",
       "   'hashtags': '[]',\n",
       "   'caption': 'VAMOS JAVI!! CONFIAMOS EN VOS A MUERTE!! POR FAVOR!! NO NOS DEFRAUDEN!! ARRIBA CAMPEON!!'}},\n",
       " 'Key1': 'INSProfile1',\n",
       " 'Key2': 'CRaARgVjgij'}"
      ]
     },
     "execution_count": 10,
     "metadata": {},
     "output_type": "execute_result"
    }
   ],
   "source": [
    "postOutput"
   ]
  },
  {
   "cell_type": "code",
   "execution_count": 11,
   "id": "f5a52c00",
   "metadata": {},
   "outputs": [
    {
     "data": {
      "text/html": [
       "<div>\n",
       "<style scoped>\n",
       "    .dataframe tbody tr th:only-of-type {\n",
       "        vertical-align: middle;\n",
       "    }\n",
       "\n",
       "    .dataframe tbody tr th {\n",
       "        vertical-align: top;\n",
       "    }\n",
       "\n",
       "    .dataframe thead th {\n",
       "        text-align: right;\n",
       "    }\n",
       "</style>\n",
       "<table border=\"1\" class=\"dataframe\">\n",
       "  <thead>\n",
       "    <tr style=\"text-align: right;\">\n",
       "      <th></th>\n",
       "      <th>Key1</th>\n",
       "      <th>Key2</th>\n",
       "      <th>Output1</th>\n",
       "    </tr>\n",
       "  </thead>\n",
       "  <tbody>\n",
       "    <tr>\n",
       "      <th>0</th>\n",
       "      <td>INSProfile1</td>\n",
       "      <td>CRaARgVjgij</td>\n",
       "      <td>{'User': 'INSAlias1', 'Post': {'id': '26194073...</td>\n",
       "    </tr>\n",
       "  </tbody>\n",
       "</table>\n",
       "</div>"
      ],
      "text/plain": [
       "          Key1         Key2                                            Output1\n",
       "0  INSProfile1  CRaARgVjgij  {'User': 'INSAlias1', 'Post': {'id': '26194073..."
      ]
     },
     "execution_count": 11,
     "metadata": {},
     "output_type": "execute_result"
    }
   ],
   "source": [
    "postOutputDF"
   ]
  },
  {
   "cell_type": "code",
   "execution_count": 12,
   "id": "a9b0e36d",
   "metadata": {},
   "outputs": [
    {
     "data": {
      "text/plain": [
       "{'User': 'INSAlias1',\n",
       " 'Post': {'id': '2619407336221837475',\n",
       "  'shortcode': 'CRaARgVjgij',\n",
       "  'tagged_users': '[]',\n",
       "  'comments': '354',\n",
       "  'upload_date': '2021-07-16 20:21:49',\n",
       "  'likes': '21808',\n",
       "  'location': 'nan',\n",
       "  'video_view_count': 'nan',\n",
       "  'hashtags': '[]',\n",
       "  'caption': 'VAMOS JAVI!! CONFIAMOS EN VOS A MUERTE!! POR FAVOR!! NO NOS DEFRAUDEN!! ARRIBA CAMPEON!!'}}"
      ]
     },
     "execution_count": 12,
     "metadata": {},
     "output_type": "execute_result"
    }
   ],
   "source": [
    "postOutputDF.iat[0, 2]"
   ]
  },
  {
   "cell_type": "code",
   "execution_count": 13,
   "id": "d3281c35",
   "metadata": {},
   "outputs": [],
   "source": [
    "InsPostDetDF = PrepareOutputDF('K12', postOutputDF, 'Automatic', 'PostDetails-Instagram')"
   ]
  },
  {
   "cell_type": "code",
   "execution_count": 14,
   "id": "a4feb71e",
   "metadata": {},
   "outputs": [],
   "source": [
    "InsPostDetDF.to_csv('C:/Users/Esteban Guerrero/SocialNetworkProject/Iteration2/Datasets/Tests/PostProblem.csv', index = False)"
   ]
  },
  {
   "cell_type": "code",
   "execution_count": 15,
   "id": "7cf9d538",
   "metadata": {},
   "outputs": [],
   "source": [
    "df1 = pd.read_csv('C:/Users/Esteban Guerrero/SocialNetworkProject/Iteration2/Datasets/Tests/PostProblem.csv',\n",
    "                  index_col = False, encoding = 'ISO-8859-1')"
   ]
  },
  {
   "cell_type": "code",
   "execution_count": 16,
   "id": "da774852",
   "metadata": {},
   "outputs": [
    {
     "data": {
      "text/html": [
       "<div>\n",
       "<style scoped>\n",
       "    .dataframe tbody tr th:only-of-type {\n",
       "        vertical-align: middle;\n",
       "    }\n",
       "\n",
       "    .dataframe tbody tr th {\n",
       "        vertical-align: top;\n",
       "    }\n",
       "\n",
       "    .dataframe thead th {\n",
       "        text-align: right;\n",
       "    }\n",
       "</style>\n",
       "<table border=\"1\" class=\"dataframe\">\n",
       "  <thead>\n",
       "    <tr style=\"text-align: right;\">\n",
       "      <th></th>\n",
       "      <th>Key1</th>\n",
       "      <th>Key2</th>\n",
       "      <th>Output1</th>\n",
       "      <th>ExtractionDateTime</th>\n",
       "      <th>ExtrMethod</th>\n",
       "      <th>ExtrType</th>\n",
       "    </tr>\n",
       "  </thead>\n",
       "  <tbody>\n",
       "    <tr>\n",
       "      <th>0</th>\n",
       "      <td>INSProfile1</td>\n",
       "      <td>CRaARgVjgij</td>\n",
       "      <td>{'User': 'INSAlias1', 'Post': {'id': '26194073...</td>\n",
       "      <td>2021-08-05 11:24:03 -0300</td>\n",
       "      <td>Automatic</td>\n",
       "      <td>PostDetails-Instagram</td>\n",
       "    </tr>\n",
       "  </tbody>\n",
       "</table>\n",
       "</div>"
      ],
      "text/plain": [
       "          Key1         Key2  \\\n",
       "0  INSProfile1  CRaARgVjgij   \n",
       "\n",
       "                                             Output1  \\\n",
       "0  {'User': 'INSAlias1', 'Post': {'id': '26194073...   \n",
       "\n",
       "          ExtractionDateTime ExtrMethod               ExtrType  \n",
       "0  2021-08-05 11:24:03 -0300  Automatic  PostDetails-Instagram  "
      ]
     },
     "execution_count": 16,
     "metadata": {},
     "output_type": "execute_result"
    }
   ],
   "source": [
    "df1"
   ]
  },
  {
   "cell_type": "code",
   "execution_count": 17,
   "id": "5971a278",
   "metadata": {},
   "outputs": [
    {
     "data": {
      "text/plain": [
       "\"{'User': 'INSAlias1', 'Post': {'id': '2619407336221837475', 'shortcode': 'CRaARgVjgij', 'tagged_users': '[]', 'comments': '354', 'upload_date': '2021-07-16 20:21:49', 'likes': '21808', 'location': 'nan', 'video_view_count': 'nan', 'hashtags': '[]', 'caption': 'VAMOS JAVI!! CONFIAMOS EN VOS A MUERTE!! POR FAVOR!! NO NOS DEFRAUDEN!! ARRIBA CAMPEON!!'}}\""
      ]
     },
     "execution_count": 17,
     "metadata": {},
     "output_type": "execute_result"
    }
   ],
   "source": [
    "df1.iat[0,2]"
   ]
  },
  {
   "cell_type": "code",
   "execution_count": 18,
   "id": "bde82854",
   "metadata": {},
   "outputs": [
    {
     "data": {
      "text/plain": [
       "{'User': 'INSAlias1',\n",
       " 'Post': {'id': '2619407336221837475',\n",
       "  'shortcode': 'CRaARgVjgij',\n",
       "  'tagged_users': '[]',\n",
       "  'comments': '354',\n",
       "  'upload_date': '2021-07-16 20:21:49',\n",
       "  'likes': '21808',\n",
       "  'location': 'nan',\n",
       "  'video_view_count': 'nan',\n",
       "  'hashtags': '[]',\n",
       "  'caption': 'VAMOS JAVI!! CONFIAMOS EN VOS A MUERTE!! POR FAVOR!! NO NOS DEFRAUDEN!! ARRIBA CAMPEON!!'}}"
      ]
     },
     "execution_count": 18,
     "metadata": {},
     "output_type": "execute_result"
    }
   ],
   "source": [
    "ast.literal_eval(df1.iat[0, 2])"
   ]
  },
  {
   "cell_type": "code",
   "execution_count": null,
   "id": "54d91b5c",
   "metadata": {},
   "outputs": [],
   "source": []
  }
 ],
 "metadata": {
  "kernelspec": {
   "display_name": "Python 3",
   "language": "python",
   "name": "python3"
  },
  "language_info": {
   "codemirror_mode": {
    "name": "ipython",
    "version": 3
   },
   "file_extension": ".py",
   "mimetype": "text/x-python",
   "name": "python",
   "nbconvert_exporter": "python",
   "pygments_lexer": "ipython3",
   "version": "3.8.8"
  }
 },
 "nbformat": 4,
 "nbformat_minor": 5
}

{
 "cells": [
  {
   "cell_type": "code",
   "execution_count": 7,
   "id": "df0754df",
   "metadata": {},
   "outputs": [
    {
     "name": "stdout",
     "output_type": "stream",
     "text": [
      "4b173d8e-40ae-46f4-905c-34bb7788bfd3\n",
      "e0cb942e-57ca-4053-b6bf-a029451d0d12\n",
      "649d9dd2-732a-4f8c-b7a3-8272cc1780b8\n"
     ]
    }
   ],
   "source": [
    "import uuid\n",
    "\n",
    "for i in range(0, 3):\n",
    "    print(uuid.uuid4())"
   ]
  },
  {
   "cell_type": "code",
   "execution_count": 8,
   "id": "7e155f9a",
   "metadata": {},
   "outputs": [
    {
     "data": {
      "text/plain": [
       "UUID('26f77d0f-9570-4b92-a6c5-4d05b99cf5e6')"
      ]
     },
     "execution_count": 8,
     "metadata": {},
     "output_type": "execute_result"
    }
   ],
   "source": [
    "a = uuid.uuid4()\n",
    "a"
   ]
  },
  {
   "cell_type": "code",
   "execution_count": 9,
   "id": "0d82f19d",
   "metadata": {},
   "outputs": [
    {
     "data": {
      "text/plain": [
       "833893189939592463"
      ]
     },
     "execution_count": 9,
     "metadata": {},
     "output_type": "execute_result"
    }
   ],
   "source": [
    "a.time"
   ]
  },
  {
   "cell_type": "code",
   "execution_count": 10,
   "id": "76ea56e7",
   "metadata": {},
   "outputs": [
    {
     "data": {
      "text/plain": [
       "653753615"
      ]
     },
     "execution_count": 10,
     "metadata": {},
     "output_type": "execute_result"
    }
   ],
   "source": [
    "a.time_low"
   ]
  },
  {
   "cell_type": "code",
   "execution_count": 11,
   "id": "016dc099",
   "metadata": {},
   "outputs": [
    {
     "data": {
      "text/plain": [
       "38256"
      ]
     },
     "execution_count": 11,
     "metadata": {},
     "output_type": "execute_result"
    }
   ],
   "source": [
    "a.time_mid"
   ]
  },
  {
   "cell_type": "code",
   "execution_count": 12,
   "id": "4cd1a3c5",
   "metadata": {},
   "outputs": [
    {
     "data": {
      "text/plain": [
       "(653753615, 38256, 19346, 166, 197, 84686984246758)"
      ]
     },
     "execution_count": 12,
     "metadata": {},
     "output_type": "execute_result"
    }
   ],
   "source": [
    "a.fields"
   ]
  },
  {
   "cell_type": "code",
   "execution_count": 13,
   "id": "a4f0a58d",
   "metadata": {},
   "outputs": [
    {
     "data": {
      "text/plain": [
       "'26f77d0f-9570-4b92-a6c5-4d05b99cf5e6'"
      ]
     },
     "execution_count": 13,
     "metadata": {},
     "output_type": "execute_result"
    }
   ],
   "source": [
    "str(a)"
   ]
  },
  {
   "cell_type": "code",
   "execution_count": 14,
   "id": "c3d03b9f",
   "metadata": {},
   "outputs": [
    {
     "data": {
      "text/plain": [
       "'c11cd4e4-33bc-4dc9-936d-df23fdfbc4ba'"
      ]
     },
     "execution_count": 14,
     "metadata": {},
     "output_type": "execute_result"
    }
   ],
   "source": [
    "str(uuid.uuid4())"
   ]
  }
 ],
 "metadata": {
  "kernelspec": {
   "display_name": "Python 3",
   "language": "python",
   "name": "python3"
  },
  "language_info": {
   "codemirror_mode": {
    "name": "ipython",
    "version": 3
   },
   "file_extension": ".py",
   "mimetype": "text/x-python",
   "name": "python",
   "nbconvert_exporter": "python",
   "pygments_lexer": "ipython3",
   "version": "3.8.8"
  }
 },
 "nbformat": 4,
 "nbformat_minor": 5
}
